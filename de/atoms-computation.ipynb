{
  "cells": [
    {
      "cell_type": "markdown",
      "metadata": {
        "tags": [
          "remove_cell"
        ]
      },
      "source": [
        "# Die Atome der Berechnung"
      ]
    },
    {
      "cell_type": "markdown",
      "metadata": {
      },
      "source": [
        "Das Programmieren eines Quantencomputers kann jetzt jeder bequem von zu Hause aus tun.\n",
        "\n",
        "Aber was erstellen? Was ist überhaupt ein Quantenprogramm? Was ist eigentlich ein Quantencomputer?\n",
        "\n",
        "Diese Fragen können durch Vergleiche mit Standard-Digitalcomputern beantwortet werden. Leider verstehen die meisten Menschen auch nicht wirklich, wie digitale Computer funktionieren. In diesem Artikel betrachten wir die Grundprinzipien hinter diesen Geräten. Um uns später beim Übergang zum Quantencomputing zu helfen, verwenden wir die gleichen Tools wie für Quanten."
      ]
    },
    {
      "cell_type": "markdown",
      "metadata": {
      },
      "source": [
        "Unten ist etwas Python-Code, den wir ausführen müssen, wenn wir den Code auf dieser Seite verwenden möchten:"
      ]
    },
    {
      "cell_type": "code",
      "execution_count": 1,
      "metadata": {
      },
      "outputs": [

      ],
      "source": [
        "from qiskit import QuantumCircuit, assemble, Aer\n",
        "from qiskit.visualization import plot_histogram"
      ]
    },
    {
      "cell_type": "markdown",
      "metadata": {
      },
      "source": [
        "## 1. Informationen in Bits aufteilen<a id=\"bits\"></a>"
      ]
    },
    {
      "cell_type": "markdown",
      "metadata": {
      },
      "source": [
        "Das erste, was wir wissen müssen, ist die Idee der Bits. Diese sollen das einfachste Alphabet der Welt sein. Mit nur zwei Zeichen, 0 und 1, können wir jede Information darstellen.\n",
        "\n",
        "Ein Beispiel sind Zahlen. Sie sind wahrscheinlich daran gewöhnt, eine Zahl durch eine Folge der zehn Ziffern 0, 1, 2, 3, 4, 5, 6, 7, 8 und 9 darzustellen. In dieser Ziffernfolge stellt jede Ziffer dar, wie oft die Zahl ist enthält eine gewisse Zehnerpotenz. Wenn wir zum Beispiel 9213 schreiben, meinen wir\n",
        "\n",
        "$$ 9000 + 200 + 10 + 3 $$\n",
        "\n",
        "oder in einer Weise ausgedrückt, die die Zehnerpotenzen betont\n",
        "\n",
        "$$ (9\\times10^3) + (2\\times10^2) + (1\\times10^1) + (3\\times10^0) $$\n",
        "\n",
        "Obwohl wir dieses System normalerweise basierend auf der Zahl 10 verwenden, können wir genauso einfach eines basierend auf jeder anderen Zahl verwenden. Das binäre Zahlensystem basiert beispielsweise auf der Zahl Zwei. Das bedeutet, die zwei Zeichen 0 und 1 zu verwenden, um Zahlen als Vielfache von Zweierpotenzen auszudrücken. Beispielsweise wird 9213 zu 10001111111101, da\n",
        "\n",
        "$$ \\begin{aligned} 9213 &amp;= (1 \\times 2^{13}) + (0 \\times 2^{12}) + (0 \\times 2^{11}) + (0 \\times 2^{ 10}) \\ &amp;+ (1 \\times 2^9) + (1 \\times 2^8) + (1 \\times 2^7) + (1 \\times 2^6) \\ &amp;+ (1 \\times 2^ 5) + (1 \\times 2^4) + (1 \\times 2^3) + (1 \\times 2^2) \\ &amp;+ (0 \\times 2^1) + (1 \\times 2^0) \\ end{aligned} $$\n",
        "\n",
        "Dabei drücken wir Zahlen als Vielfache von 2, 4, 8, 16, 32 usw. statt 10, 100, 1000 usw. aus.\n"
      ]
    },
    {
      "cell_type": "code",
      "execution_count": null,
      "metadata": {
      },
      "outputs": [

      ],
      "source": [
        "from qiskit_textbook.widgets import binary_widget\n",
        "binary_widget(nbits=5)"
      ]
    },
    {
      "cell_type": "markdown",
      "metadata": {
      },
      "source": [
        "Diese Bitfolgen, die als binäre Zeichenfolgen bekannt sind, können verwendet werden, um mehr als nur Zahlen darzustellen. Beispielsweise gibt es eine Möglichkeit, beliebigen Text mit Bits darzustellen. Für jeden Buchstaben, jede Zahl oder jedes Satzzeichen, das Sie verwenden möchten, können Sie mithilfe [dieser Tabelle](https://www.ibm.com/support/knowledgecenter/en/ssw_aix_72/com.ibm.aix.networkcomm/conversion_table.htm) eine entsprechende Zeichenfolge von höchstens acht Bits finden. Obwohl diese recht willkürlich sind, handelt es sich um einen allgemein anerkannten Standard. Tatsächlich wurde es verwendet, um diesen Artikel über das Internet an Sie zu übermitteln.\n",
        "\n",
        "So werden alle Informationen in Computern dargestellt. Ob Zahlen, Buchstaben, Bilder oder Töne, alles liegt in Form von binären Strings vor.\n",
        "\n",
        "Quantencomputer basieren wie unsere Standard-Digitalcomputer auf derselben Grundidee. Der Hauptunterschied besteht darin, dass sie *Qubits* verwenden, eine Erweiterung des Bits zur Quantenmechanik. Im Rest dieses Lehrbuchs werden wir untersuchen, was Qubits sind, was sie können und wie sie es tun. In diesem Abschnitt sprechen wir jedoch überhaupt nicht von Quanten. Wir verwenden Qubits also einfach so, als wären sie Bits."
      ]
    },
    {
      "cell_type": "markdown",
      "metadata": {
      },
      "source": [
        "<!-- ::: q-block.exercise -->\n",
        "\n",
        "## Übung\n",
        "\n",
        "Vervollständige diese Sätze:\n",
        "\n",
        "1. Die Zahl „5“ in Dezimalform ist [[101|11001|110|001]] in Binärform.\n",
        "2. Wenn unser Computer 1 Bit hat, kann es sich in [[2|1|3|4]] verschiedenen Zuständen befinden.\n",
        "3. Wenn unser Computer 2 Bits hat, kann er sich in [[4|3|2|8]] verschiedenen Zuständen befinden.\n",
        "4. Wenn unser Computer 8 Bit hat, kann er sich in [[256|128|342]] verschiedenen Zuständen befinden.\n",
        "5. Wenn Sie $n$ Bits haben, können sie sich in [[$2^n$|$n×2$|$n^2$]] verschiedenen Zuständen befinden.\n",
        "\n",
        "<!-- ::: -->\n"
      ]
    },
    {
      "cell_type": "markdown",
      "metadata": {
      },
      "source": [
        "## 2. Berechnung als Diagramm<a id=\"diagram\"></a>\n",
        "\n",
        "Ob wir Qubits oder Bits verwenden, wir müssen sie manipulieren, um die Eingaben, die wir haben, in die Ausgaben umzuwandeln, die wir brauchen. Für einfachste Programme mit sehr wenigen Bits ist es sinnvoll, diesen Vorgang in einem Diagramm darzustellen, das als *Schaltplan bezeichnet* wird. Diese haben Eingänge auf der linken Seite, Ausgänge auf der rechten Seite und Operationen, die durch obskure Symbole dazwischen dargestellt werden. Diese Operationen werden hauptsächlich aus historischen Gründen als „Tore“ bezeichnet.\n",
        "\n",
        "Hier ist ein Beispiel dafür, wie eine Schaltung für standardmäßige, bitbasierte Computer aussieht. Es wird nicht erwartet, dass Sie verstehen, was es tut. Es sollte Ihnen lediglich eine Vorstellung davon vermitteln, wie diese Schaltungen aussehen.\n",
        "\n",
        "![Bild1](images/classical_circuit.png)\n",
        "\n",
        "Für Quantencomputer verwenden wir die gleiche Grundidee, haben aber unterschiedliche Konventionen für die Darstellung von Eingaben, Ausgaben und den für Operationen verwendeten Symbolen. Hier ist der Quantenschaltkreis, der den gleichen Prozess wie oben darstellt.\n",
        "\n",
        "![Bild2](images/quantum_circuit.png)\n",
        "\n",
        "Im Rest dieses Abschnitts erklären wir, wie man Schaltungen baut. Am Ende wissen Sie, wie Sie die obige Schaltung erstellen, was sie tut und warum sie nützlich ist."
      ]
    },
    {
      "cell_type": "markdown",
      "metadata": {
      },
      "source": [
        "## 3. Ihr erster Quantenschaltkreis<a id=\"first-circuit\"></a>"
      ]
    },
    {
      "cell_type": "markdown",
      "metadata": {
      },
      "source": [
        "In einer Schaltung müssen wir normalerweise drei Aufgaben erledigen: Zuerst die Eingabe codieren, dann einige tatsächliche Berechnungen durchführen und schließlich eine Ausgabe extrahieren. Für Ihre erste Quantenschaltung konzentrieren wir uns auf die letzte dieser Aufgaben. Wir beginnen mit der Erstellung einer Schaltung mit acht Qubits und acht Ausgängen."
      ]
    },
    {
      "cell_type": "code",
      "execution_count": 3,
      "metadata": {
      },
      "outputs": [

      ],
      "source": [
        "qc_output = QuantumCircuit(8)"
      ]
    },
    {
      "cell_type": "markdown",
      "metadata": {
      },
      "source": [
        "Diese Schaltung, die wir `qc_output` genannt haben, wird von Qiskit mit `QuantumCircuit` . Der `QuantumCircuit` nimmt die Anzahl der Qubits im Quantenschaltkreis als Argument.\n",
        "\n",
        "Die Extraktion von Ausgängen in einer Quantenschaltung erfolgt mit einer Operation namens `measure_all()` . Jede Messung weist ein bestimmtes Qubit an, eine Ausgabe an ein bestimmtes Ausgabebit zu geben. Der Befehl `qc_output.measure_all()` fügt jedem Qubit in der Schaltung `qc_output` eine Messung hinzu und fügt auch einige klassische Bits hinzu, um die Ausgabe zu schreiben."
      ]
    },
    {
      "cell_type": "code",
      "execution_count": 4,
      "metadata": {
      },
      "outputs": [

      ],
      "source": [
        "qc_output.measure_all()"
      ]
    },
    {
      "cell_type": "markdown",
      "metadata": {
      },
      "source": [
        "Nun, da unsere Schaltung etwas enthält, werfen wir einen Blick darauf."
      ]
    },
    {
      "cell_type": "code",
      "execution_count": 5,
      "metadata": {
      },
      "outputs": [
        {
          "data": {
            "image/svg+xml": [
              "<?xml version=\"1.0\" encoding=\"UTF-8\"?><!DOCTYPE svg  PUBLIC '-//W3C//DTD SVG 1.1//EN'  'http://www.w3.org/Graphics/SVG/1.1/DTD/svg11.dtd'><svg width=\"521.94pt\" height=\"441.64pt\" version=\"1.1\" viewBox=\"0 0 521.94 441.64\" xmlns=\"http://www.w3.org/2000/svg\" xmlns:xlink=\"http://www.w3.org/1999/xlink\"><defs><style type=\"text/css\">*{stroke-linecap:butt;stroke-linejoin:round;}</style></defs><path d=\"m0 441.64h521.94v-441.64h-521.94z\" fill=\"#ffffff\"/><path d=\"m160.68 396.83h11.817l-5.9086 8.5221z\" clip-path=\"url(#pe815d3b368)\" fill=\"#778899\"/><path d=\"m206.13 396.83h11.817l-5.9086 8.5221z\" clip-path=\"url(#pe815d3b368)\" fill=\"#778899\"/><path d=\"m251.58 396.83h11.817l-5.9086 8.5221z\" clip-path=\"url(#pe815d3b368)\" fill=\"#778899\"/><path d=\"m297.03 396.83h11.817l-5.9086 8.5221z\" clip-path=\"url(#pe815d3b368)\" fill=\"#778899\"/><path d=\"m342.48 396.83h11.817l-5.9086 8.5221z\" clip-path=\"url(#pe815d3b368)\" fill=\"#778899\"/><path d=\"m387.93 396.83h11.817l-5.9086 8.5221z\" clip-path=\"url(#pe815d3b368)\" fill=\"#778899\"/><path d=\"m433.38 396.83h11.817l-5.9086 8.5221z\" clip-path=\"url(#pe815d3b368)\" fill=\"#778899\"/><path d=\"m478.84 396.83h11.817l-5.9086 8.5221z\" clip-path=\"url(#pe815d3b368)\" fill=\"#778899\"/><path d=\"m96.593 43.561h413.6\" clip-path=\"url(#pe815d3b368)\" fill=\"none\" stroke=\"#000000\" stroke-linecap=\"square\" stroke-width=\"2\"/><path d=\"m96.593 89.012h413.6\" clip-path=\"url(#pe815d3b368)\" fill=\"none\" stroke=\"#000000\" stroke-linecap=\"square\" stroke-width=\"2\"/><path d=\"m96.593 134.46h413.6\" clip-path=\"url(#pe815d3b368)\" fill=\"none\" stroke=\"#000000\" stroke-linecap=\"square\" stroke-width=\"2\"/><path d=\"m96.593 179.91h413.6\" clip-path=\"url(#pe815d3b368)\" fill=\"none\" stroke=\"#000000\" stroke-linecap=\"square\" stroke-width=\"2\"/><path d=\"m96.593 225.36h413.6\" clip-path=\"url(#pe815d3b368)\" fill=\"none\" stroke=\"#000000\" stroke-linecap=\"square\" stroke-width=\"2\"/><path d=\"m96.593 270.82h413.6\" clip-path=\"url(#pe815d3b368)\" fill=\"none\" stroke=\"#000000\" stroke-linecap=\"square\" stroke-width=\"2\"/><path d=\"m96.593 316.27h413.6\" clip-path=\"url(#pe815d3b368)\" fill=\"none\" stroke=\"#000000\" stroke-linecap=\"square\" stroke-width=\"2\"/><path d=\"m96.593 361.72h413.6\" clip-path=\"url(#pe815d3b368)\" fill=\"none\" stroke=\"#000000\" stroke-linecap=\"square\" stroke-width=\"2\"/><path d=\"m96.593 405.69h413.6\" clip-path=\"url(#pe815d3b368)\" fill=\"none\" stroke=\"#778899\" stroke-linecap=\"square\" stroke-width=\"2\"/><path d=\"m96.593 408.65h413.6\" clip-path=\"url(#pe815d3b368)\" fill=\"none\" stroke=\"#778899\" stroke-linecap=\"square\" stroke-width=\"2\"/><path d=\"m112.27 66.286h17.726v-45.451h-17.726z\" clip-path=\"url(#pe815d3b368)\" fill=\"#bdbdbd\" opacity=\".6\"/><path d=\"m112.27 111.74h17.726v-45.451h-17.726z\" clip-path=\"url(#pe815d3b368)\" fill=\"#bdbdbd\" opacity=\".6\"/><path d=\"m112.27 157.19h17.726v-45.451h-17.726z\" clip-path=\"url(#pe815d3b368)\" fill=\"#bdbdbd\" opacity=\".6\"/><path d=\"m112.27 202.64h17.726v-45.451h-17.726z\" clip-path=\"url(#pe815d3b368)\" fill=\"#bdbdbd\" opacity=\".6\"/><path d=\"m112.27 248.09h17.726v-45.451h-17.726z\" clip-path=\"url(#pe815d3b368)\" fill=\"#bdbdbd\" opacity=\".6\"/><path d=\"m112.27 293.54h17.726v-45.451h-17.726z\" clip-path=\"url(#pe815d3b368)\" fill=\"#bdbdbd\" opacity=\".6\"/><path d=\"m112.27 338.99h17.726v-45.451h-17.726z\" clip-path=\"url(#pe815d3b368)\" fill=\"#bdbdbd\" opacity=\".6\"/><path d=\"m112.27 384.44h17.726v-45.451h-17.726z\" clip-path=\"url(#pe815d3b368)\" fill=\"#bdbdbd\" opacity=\".6\"/><path d=\"m168.06 43.561v353.27\" clip-path=\"url(#pe815d3b368)\" fill=\"none\" stroke=\"#778899\" stroke-linecap=\"square\" stroke-width=\"2\"/><path d=\"m165.11 43.561v353.27\" clip-path=\"url(#pe815d3b368)\" fill=\"none\" stroke=\"#778899\" stroke-linecap=\"square\" stroke-width=\"2\"/><path d=\"m213.52 89.012v307.82\" clip-path=\"url(#pe815d3b368)\" fill=\"none\" stroke=\"#778899\" stroke-linecap=\"square\" stroke-width=\"2\"/><path d=\"m210.56 89.012v307.82\" clip-path=\"url(#pe815d3b368)\" fill=\"none\" stroke=\"#778899\" stroke-linecap=\"square\" stroke-width=\"2\"/><path d=\"m258.97 134.46v262.37\" clip-path=\"url(#pe815d3b368)\" fill=\"none\" stroke=\"#778899\" stroke-linecap=\"square\" stroke-width=\"2\"/><path d=\"m256.01 134.46v262.37\" clip-path=\"url(#pe815d3b368)\" fill=\"none\" stroke=\"#778899\" stroke-linecap=\"square\" stroke-width=\"2\"/><path d=\"m304.42 179.91v216.91\" clip-path=\"url(#pe815d3b368)\" fill=\"none\" stroke=\"#778899\" stroke-linecap=\"square\" stroke-width=\"2\"/><path d=\"m301.46 179.91v216.91\" clip-path=\"url(#pe815d3b368)\" fill=\"none\" stroke=\"#778899\" stroke-linecap=\"square\" stroke-width=\"2\"/><path d=\"m349.87 225.36v171.46\" clip-path=\"url(#pe815d3b368)\" fill=\"none\" stroke=\"#778899\" stroke-linecap=\"square\" stroke-width=\"2\"/><path d=\"m346.91 225.36v171.46\" clip-path=\"url(#pe815d3b368)\" fill=\"none\" stroke=\"#778899\" stroke-linecap=\"square\" stroke-width=\"2\"/><path d=\"m395.32 270.82v126.01\" clip-path=\"url(#pe815d3b368)\" fill=\"none\" stroke=\"#778899\" stroke-linecap=\"square\" stroke-width=\"2\"/><path d=\"m392.36 270.82v126.01\" clip-path=\"url(#pe815d3b368)\" fill=\"none\" stroke=\"#778899\" stroke-linecap=\"square\" stroke-width=\"2\"/><path d=\"m440.77 316.27v80.562\" clip-path=\"url(#pe815d3b368)\" fill=\"none\" stroke=\"#778899\" stroke-linecap=\"square\" stroke-width=\"2\"/><path d=\"m437.82 316.27v80.562\" clip-path=\"url(#pe815d3b368)\" fill=\"none\" stroke=\"#778899\" stroke-linecap=\"square\" stroke-width=\"2\"/><path d=\"m486.22 361.72v35.111\" clip-path=\"url(#pe815d3b368)\" fill=\"none\" stroke=\"#778899\" stroke-linecap=\"square\" stroke-width=\"2\"/><path d=\"m483.27 361.72v35.111\" clip-path=\"url(#pe815d3b368)\" fill=\"none\" stroke=\"#778899\" stroke-linecap=\"square\" stroke-width=\"2\"/><path d=\"m105.68 411.71 4.5451-9.0902\" clip-path=\"url(#pe815d3b368)\" fill=\"none\" stroke=\"#778899\" stroke-linecap=\"square\" stroke-width=\"1.5\"/><path d=\"m151.82 58.332h29.543v-29.543h-29.543z\" clip-path=\"url(#pe815d3b368)\" stroke=\"#000000\" stroke-width=\"1.5\"/><path d=\"m176.93 47.992c0-2.7413-1.0901-5.3732-3.0285-7.3116s-4.5702-3.0285-7.3116-3.0285-5.3732 1.0901-7.3116 3.0285c-1.9384 1.9384-3.0285 4.5702-3.0285 7.3116\" clip-path=\"url(#pe815d3b368)\" fill=\"none\" stroke=\"#ffffff\" stroke-width=\"2\"/><path d=\"m197.27 103.78h29.543v-29.543h-29.543z\" clip-path=\"url(#pe815d3b368)\" stroke=\"#000000\" stroke-width=\"1.5\"/><path d=\"m222.38 93.443c0-2.7413-1.0901-5.3732-3.0285-7.3116s-4.5702-3.0285-7.3116-3.0285-5.3732 1.0901-7.3116 3.0285c-1.9384 1.9384-3.0285 4.5702-3.0285 7.3116\" clip-path=\"url(#pe815d3b368)\" fill=\"none\" stroke=\"#ffffff\" stroke-width=\"2\"/><path d=\"m242.72 149.23h29.543v-29.543h-29.543z\" clip-path=\"url(#pe815d3b368)\" stroke=\"#000000\" stroke-width=\"1.5\"/><path d=\"m267.83 138.89c0-2.7413-1.0901-5.3732-3.0285-7.3116s-4.5702-3.0285-7.3116-3.0285-5.3732 1.0901-7.3116 3.0285c-1.9384 1.9384-3.0285 4.5702-3.0285 7.3116\" clip-path=\"url(#pe815d3b368)\" fill=\"none\" stroke=\"#ffffff\" stroke-width=\"2\"/><path d=\"m288.17 194.69h29.543v-29.543h-29.543z\" clip-path=\"url(#pe815d3b368)\" stroke=\"#000000\" stroke-width=\"1.5\"/><path d=\"m313.28 184.35c0-2.7413-1.0901-5.3732-3.0285-7.3116s-4.5702-3.0285-7.3116-3.0285-5.3732 1.0901-7.3116 3.0285c-1.9384 1.9384-3.0285 4.5702-3.0285 7.3116\" clip-path=\"url(#pe815d3b368)\" fill=\"none\" stroke=\"#ffffff\" stroke-width=\"2\"/><path d=\"m333.62 240.14h29.543v-29.543h-29.543z\" clip-path=\"url(#pe815d3b368)\" stroke=\"#000000\" stroke-width=\"1.5\"/><path d=\"m358.73 229.8c0-2.7413-1.0901-5.3732-3.0285-7.3116s-4.5702-3.0285-7.3116-3.0285-5.3732 1.0901-7.3116 3.0285c-1.9384 1.9384-3.0285 4.5702-3.0285 7.3116\" clip-path=\"url(#pe815d3b368)\" fill=\"none\" stroke=\"#ffffff\" stroke-width=\"2\"/><path d=\"m379.07 285.59h29.543v-29.543h-29.543z\" clip-path=\"url(#pe815d3b368)\" stroke=\"#000000\" stroke-width=\"1.5\"/><path d=\"m404.18 275.25c0-2.7413-1.0901-5.3732-3.0285-7.3116s-4.5702-3.0285-7.3116-3.0285-5.3732 1.0901-7.3116 3.0285c-1.9384 1.9384-3.0285 4.5702-3.0285 7.3116\" clip-path=\"url(#pe815d3b368)\" fill=\"none\" stroke=\"#ffffff\" stroke-width=\"2\"/><path d=\"m424.52 331.04h29.543v-29.543h-29.543z\" clip-path=\"url(#pe815d3b368)\" stroke=\"#000000\" stroke-width=\"1.5\"/><path d=\"m449.63 320.7c0-2.7413-1.0901-5.3732-3.0285-7.3116s-4.5702-3.0285-7.3116-3.0285-5.3732 1.0901-7.3116 3.0285c-1.9384 1.9384-3.0285 4.5702-3.0285 7.3116\" clip-path=\"url(#pe815d3b368)\" fill=\"none\" stroke=\"#ffffff\" stroke-width=\"2\"/><path d=\"m469.97 376.49h29.543v-29.543h-29.543z\" clip-path=\"url(#pe815d3b368)\" stroke=\"#000000\" stroke-width=\"1.5\"/><path d=\"m495.08 366.15c0-2.7413-1.0901-5.3732-3.0285-7.3116s-4.5702-3.0285-7.3116-3.0285-5.3732 1.0901-7.3116 3.0285c-1.9384 1.9384-3.0285 4.5702-3.0285 7.3116\" clip-path=\"url(#pe815d3b368)\" fill=\"none\" stroke=\"#ffffff\" stroke-width=\"2\"/><path d=\"m166.59 47.992 10.34-10.34\" clip-path=\"url(#pe815d3b368)\" fill=\"none\" stroke=\"#ffffff\" stroke-linecap=\"square\" stroke-width=\"2\"/><path d=\"m212.04 93.443 10.34-10.34\" clip-path=\"url(#pe815d3b368)\" fill=\"none\" stroke=\"#ffffff\" stroke-linecap=\"square\" stroke-width=\"2\"/><path d=\"m257.49 138.89 10.34-10.34\" clip-path=\"url(#pe815d3b368)\" fill=\"none\" stroke=\"#ffffff\" stroke-linecap=\"square\" stroke-width=\"2\"/><path d=\"m302.94 184.35 10.34-10.34\" clip-path=\"url(#pe815d3b368)\" fill=\"none\" stroke=\"#ffffff\" stroke-linecap=\"square\" stroke-width=\"2\"/><path d=\"m348.39 229.8 10.34-10.34\" clip-path=\"url(#pe815d3b368)\" fill=\"none\" stroke=\"#ffffff\" stroke-linecap=\"square\" stroke-width=\"2\"/><path d=\"m393.84 275.25 10.34-10.34\" clip-path=\"url(#pe815d3b368)\" fill=\"none\" stroke=\"#ffffff\" stroke-linecap=\"square\" stroke-width=\"2\"/><path d=\"m439.29 320.7 10.34-10.34\" clip-path=\"url(#pe815d3b368)\" fill=\"none\" stroke=\"#ffffff\" stroke-linecap=\"square\" stroke-width=\"2\"/><path d=\"m484.74 366.15 10.34-10.34\" clip-path=\"url(#pe815d3b368)\" fill=\"none\" stroke=\"#ffffff\" stroke-linecap=\"square\" stroke-width=\"2\"/><path d=\"m121.14 20.835v45.451\" clip-path=\"url(#pe815d3b368)\" fill=\"none\" stroke=\"#000000\" stroke-dasharray=\"3.7,1.6\"/><path d=\"m121.14 66.286v45.451\" clip-path=\"url(#pe815d3b368)\" fill=\"none\" stroke=\"#000000\" stroke-dasharray=\"3.7,1.6\"/><path d=\"m121.14 111.74v45.451\" clip-path=\"url(#pe815d3b368)\" fill=\"none\" stroke=\"#000000\" stroke-dasharray=\"3.7,1.6\"/><path d=\"m121.14 157.19v45.451\" clip-path=\"url(#pe815d3b368)\" fill=\"none\" stroke=\"#000000\" stroke-dasharray=\"3.7,1.6\"/><path d=\"m121.14 202.64v45.451\" clip-path=\"url(#pe815d3b368)\" fill=\"none\" stroke=\"#000000\" stroke-dasharray=\"3.7,1.6\"/><path d=\"m121.14 248.09v45.451\" clip-path=\"url(#pe815d3b368)\" fill=\"none\" stroke=\"#000000\" stroke-dasharray=\"3.7,1.6\"/><path d=\"m121.14 293.54v45.451\" clip-path=\"url(#pe815d3b368)\" fill=\"none\" stroke=\"#000000\" stroke-dasharray=\"3.7,1.6\"/><path d=\"m121.14 338.99v45.451\" clip-path=\"url(#pe815d3b368)\" fill=\"none\" stroke=\"#000000\" stroke-dasharray=\"3.7,1.6\"/><g clip-path=\"url(#pe815d3b368)\"><g transform=\"translate(177.95 400.46) scale(.104 -.104)\"><defs><path id=\"DejaVuSans-30\" transform=\"scale(.015625)\" d=\"m2034 4250q-487 0-733-480-245-479-245-1442 0-959 245-1439 246-480 733-480 491 0 736 480 246 480 246 1439 0 963-246 1442-245 480-736 480zm0 500q785 0 1199-621 414-620 414-1801 0-1178-414-1799-414-620-1199-620-784 0-1198 620-414 621-414 1799 0 1181 414 1801 414 621 1198 621z\"/></defs><use xlink:href=\"#DejaVuSans-30\"/></g></g><g clip-path=\"url(#pe815d3b368)\"><g transform=\"translate(223.4 400.46) scale(.104 -.104)\"><defs><path id=\"DejaVuSans-31\" transform=\"scale(.015625)\" d=\"m794 531h1031v3560l-1122-225v575l1116 225h631v-4135h1031v-531h-2687v531z\"/></defs><use xlink:href=\"#DejaVuSans-31\"/></g></g><g clip-path=\"url(#pe815d3b368)\"><g transform=\"translate(268.85 400.46) scale(.104 -.104)\"><defs><path id=\"DejaVuSans-32\" transform=\"scale(.015625)\" d=\"m1228 531h2203v-531h-2962v531q359 372 979 998 621 627 780 809 303 340 423 576 121 236 121 464 0 372-261 606-261 235-680 235-297 0-627-103-329-103-704-313v638q381 153 712 231 332 78 607 78 725 0 1156-363 431-362 431-968 0-288-108-546-107-257-392-607-78-91-497-524-418-433-1181-1211z\"/></defs><use xlink:href=\"#DejaVuSans-32\"/></g></g><g clip-path=\"url(#pe815d3b368)\"><g transform=\"translate(314.3 400.46) scale(.104 -.104)\"><defs><path id=\"DejaVuSans-33\" transform=\"scale(.015625)\" d=\"m2597 2516q453-97 707-404 255-306 255-756 0-690-475-1069-475-378-1350-378-293 0-604 58t-642 174v609q262-153 574-231 313-78 654-78 593 0 904 234t311 681q0 413-289 645-289 233-804 233h-544v519h569q465 0 712 186t247 536q0 359-255 551-254 193-729 193-260 0-557-57-297-56-653-174v562q360 100 674 150t592 50q719 0 1137-327 419-326 419-882 0-388-222-655t-631-370z\"/></defs><use xlink:href=\"#DejaVuSans-33\"/></g></g><g clip-path=\"url(#pe815d3b368)\"><g transform=\"translate(359.75 400.46) scale(.104 -.104)\"><defs><path id=\"DejaVuSans-34\" transform=\"scale(.015625)\" d=\"m2419 4116-1594-2491h1594v2491zm-166 550h794v-3041h666v-525h-666v-1100h-628v1100h-2106v609l1940 2957z\"/></defs><use xlink:href=\"#DejaVuSans-34\"/></g></g><g clip-path=\"url(#pe815d3b368)\"><g transform=\"translate(405.2 400.46) scale(.104 -.104)\"><defs><path id=\"DejaVuSans-35\" transform=\"scale(.015625)\" d=\"m691 4666h2478v-532h-1900v-1143q137 47 274 70 138 23 276 23 781 0 1237-428 457-428 457-1159 0-753-469-1171-469-417-1322-417-294 0-599 50-304 50-629 150v635q281-153 581-228t634-75q541 0 856 284 316 284 316 772 0 487-316 771-315 285-856 285-253 0-505-56-251-56-513-175v2344z\"/></defs><use xlink:href=\"#DejaVuSans-35\"/></g></g><g clip-path=\"url(#pe815d3b368)\"><g transform=\"translate(450.66 400.46) scale(.104 -.104)\"><defs><path id=\"DejaVuSans-36\" transform=\"scale(.015625)\" d=\"m2113 2584q-425 0-674-291-248-290-248-796 0-503 248-796 249-292 674-292t673 292q248 293 248 796 0 506-248 796-248 291-673 291zm1253 1979v-575q-238 112-480 171-242 60-480 60-625 0-955-422-329-422-376-1275 184 272 462 417 279 145 613 145 703 0 1111-427 408-426 408-1160 0-719-425-1154-425-434-1131-434-810 0-1238 620-428 621-428 1799 0 1106 525 1764t1409 658q238 0 480-47t505-140z\"/></defs><use xlink:href=\"#DejaVuSans-36\"/></g></g><g clip-path=\"url(#pe815d3b368)\"><g transform=\"translate(496.11 400.46) scale(.104 -.104)\"><defs><path id=\"DejaVuSans-37\" transform=\"scale(.015625)\" d=\"m525 4666h3e3v-269l-1694-4397h-659l1594 4134h-2241v532z\"/></defs><use xlink:href=\"#DejaVuSans-37\"/></g></g><g clip-path=\"url(#pe815d3b368)\"><g transform=\"translate(34.852 47.867) scale(.1625 -.1625)\"><defs><path id=\"DejaVuSans-Oblique-71\" transform=\"scale(.015625)\" d=\"m2669 525q-231-303-546-460-314-156-695-156-531 0-833 358-301 358-301 986 0 506 186 978t533 847q225 244 517 375t614 131q387 0 637-153t363-462l100 525h578l-934-4813h-579l360 1844zm-1778 813q0-463 193-705 194-242 560-242 544 0 928 520t384 1264q0 450-199 689-198 239-569 239-272 0-504-127-231-126-403-370-181-256-286-600-104-343-104-668z\"/><path id=\"DejaVuSans-7c\" transform=\"scale(.015625)\" d=\"m1344 4891v-6400h-531v6400h531z\"/><path id=\"DejaVuSans-3e\" transform=\"scale(.015625)\" d=\"m678 3150v569l4006-1453v-519l-4006-1453v569l3219 1140-3219 1147z\"/></defs><use transform=\"translate(0 .57812)\" xlink:href=\"#DejaVuSans-Oblique-71\"/><use transform=\"translate(63.477 -15.828) scale(.7)\" xlink:href=\"#DejaVuSans-30\"/><use transform=\"translate(110.75 .57812)\" xlink:href=\"#DejaVuSans-20\"/><use transform=\"translate(142.53 .57812)\" xlink:href=\"#DejaVuSans-7c\"/><use transform=\"translate(176.23 .57812)\" xlink:href=\"#DejaVuSans-30\"/><use transform=\"translate(239.85 .57812)\" xlink:href=\"#DejaVuSans-3e\"/></g></g><g clip-path=\"url(#pe815d3b368)\"><g transform=\"translate(34.852 93.318) scale(.1625 -.1625)\"><use transform=\"translate(0 .57812)\" xlink:href=\"#DejaVuSans-Oblique-71\"/><use transform=\"translate(63.477 -15.828) scale(.7)\" xlink:href=\"#DejaVuSans-31\"/><use transform=\"translate(110.75 .57812)\" xlink:href=\"#DejaVuSans-20\"/><use transform=\"translate(142.53 .57812)\" xlink:href=\"#DejaVuSans-7c\"/><use transform=\"translate(176.23 .57812)\" xlink:href=\"#DejaVuSans-30\"/><use transform=\"translate(239.85 .57812)\" xlink:href=\"#DejaVuSans-3e\"/></g></g><g clip-path=\"url(#pe815d3b368)\"><g transform=\"translate(34.852 138.77) scale(.1625 -.1625)\"><use transform=\"translate(0 .57812)\" xlink:href=\"#DejaVuSans-Oblique-71\"/><use transform=\"translate(63.477 -15.828) scale(.7)\" xlink:href=\"#DejaVuSans-32\"/><use transform=\"translate(110.75 .57812)\" xlink:href=\"#DejaVuSans-20\"/><use transform=\"translate(142.53 .57812)\" xlink:href=\"#DejaVuSans-7c\"/><use transform=\"translate(176.23 .57812)\" xlink:href=\"#DejaVuSans-30\"/><use transform=\"translate(239.85 .57812)\" xlink:href=\"#DejaVuSans-3e\"/></g></g><g clip-path=\"url(#pe815d3b368)\"><g transform=\"translate(34.852 184.22) scale(.1625 -.1625)\"><use transform=\"translate(0 .57812)\" xlink:href=\"#DejaVuSans-Oblique-71\"/><use transform=\"translate(63.477 -15.828) scale(.7)\" xlink:href=\"#DejaVuSans-33\"/><use transform=\"translate(110.75 .57812)\" xlink:href=\"#DejaVuSans-20\"/><use transform=\"translate(142.53 .57812)\" xlink:href=\"#DejaVuSans-7c\"/><use transform=\"translate(176.23 .57812)\" xlink:href=\"#DejaVuSans-30\"/><use transform=\"translate(239.85 .57812)\" xlink:href=\"#DejaVuSans-3e\"/></g></g><g clip-path=\"url(#pe815d3b368)\"><g transform=\"translate(34.852 229.67) scale(.1625 -.1625)\"><use transform=\"translate(0 .57812)\" xlink:href=\"#DejaVuSans-Oblique-71\"/><use transform=\"translate(63.477 -15.828) scale(.7)\" xlink:href=\"#DejaVuSans-34\"/><use transform=\"translate(110.75 .57812)\" xlink:href=\"#DejaVuSans-20\"/><use transform=\"translate(142.53 .57812)\" xlink:href=\"#DejaVuSans-7c\"/><use transform=\"translate(176.23 .57812)\" xlink:href=\"#DejaVuSans-30\"/><use transform=\"translate(239.85 .57812)\" xlink:href=\"#DejaVuSans-3e\"/></g></g><g clip-path=\"url(#pe815d3b368)\"><g transform=\"translate(34.852 275.12) scale(.1625 -.1625)\"><use transform=\"translate(0 .57812)\" xlink:href=\"#DejaVuSans-Oblique-71\"/><use transform=\"translate(63.477 -15.828) scale(.7)\" xlink:href=\"#DejaVuSans-35\"/><use transform=\"translate(110.75 .57812)\" xlink:href=\"#DejaVuSans-20\"/><use transform=\"translate(142.53 .57812)\" xlink:href=\"#DejaVuSans-7c\"/><use transform=\"translate(176.23 .57812)\" xlink:href=\"#DejaVuSans-30\"/><use transform=\"translate(239.85 .57812)\" xlink:href=\"#DejaVuSans-3e\"/></g></g><g clip-path=\"url(#pe815d3b368)\"><g transform=\"translate(34.852 320.57) scale(.1625 -.1625)\"><use transform=\"translate(0 .57812)\" xlink:href=\"#DejaVuSans-Oblique-71\"/><use transform=\"translate(63.477 -15.828) scale(.7)\" xlink:href=\"#DejaVuSans-36\"/><use transform=\"translate(110.75 .57812)\" xlink:href=\"#DejaVuSans-20\"/><use transform=\"translate(142.53 .57812)\" xlink:href=\"#DejaVuSans-7c\"/><use transform=\"translate(176.23 .57812)\" xlink:href=\"#DejaVuSans-30\"/><use transform=\"translate(239.85 .57812)\" xlink:href=\"#DejaVuSans-3e\"/></g></g><g clip-path=\"url(#pe815d3b368)\"><g transform=\"translate(34.852 366.02) scale(.1625 -.1625)\"><use transform=\"translate(0 .57812)\" xlink:href=\"#DejaVuSans-Oblique-71\"/><use transform=\"translate(63.477 -15.828) scale(.7)\" xlink:href=\"#DejaVuSans-37\"/><use transform=\"translate(110.75 .57812)\" xlink:href=\"#DejaVuSans-20\"/><use transform=\"translate(142.53 .57812)\" xlink:href=\"#DejaVuSans-7c\"/><use transform=\"translate(176.23 .57812)\" xlink:href=\"#DejaVuSans-30\"/><use transform=\"translate(239.85 .57812)\" xlink:href=\"#DejaVuSans-3e\"/></g></g><g clip-path=\"url(#pe815d3b368)\"><g transform=\"translate(101.14 400.46) scale(.104 -.104)\"><defs><path id=\"DejaVuSans-38\" transform=\"scale(.015625)\" d=\"m2034 2216q-450 0-708-241-257-241-257-662 0-422 257-663 258-241 708-241t709 242q260 243 260 662 0 421-258 662-257 241-711 241zm-631 268q-406 100-633 378-226 279-226 679 0 559 398 884 399 325 1092 325 697 0 1094-325t397-884q0-400-227-679-226-278-629-378 456-106 710-416 255-309 255-755 0-679-414-1042-414-362-1186-362-771 0-1186 362-414 363-414 1042 0 446 256 755 257 310 713 416zm-231 997q0-362 226-565 227-203 636-203 407 0 636 203 230 203 230 565 0 363-230 566-229 203-636 203-409 0-636-203-226-203-226-566z\"/></defs><use xlink:href=\"#DejaVuSans-38\"/></g></g><g clip-path=\"url(#pe815d3b368)\"><g transform=\"translate(27.748 411.65) scale(.1625 -.1625)\"><defs><path id=\"DejaVuSans-6d\" transform=\"scale(.015625)\" d=\"m3328 2828q216 388 516 572t706 184q547 0 844-383 297-382 297-1088v-2113h-578v2094q0 503-179 746-178 244-543 244-447 0-707-297-259-296-259-809v-1978h-578v2094q0 506-178 748t-550 242q-441 0-701-298-259-298-259-808v-1978h-578v3500h578v-544q197 322 472 475t653 153q382 0 649-194 267-193 395-562z\"/><path id=\"DejaVuSans-65\" transform=\"scale(.015625)\" d=\"m3597 1894v-281h-2644q38-594 358-905t892-311q331 0 642 81t618 244v-544q-310-131-635-200t-659-69q-838 0-1327 487-489 488-489 1320 0 859 464 1363 464 505 1252 505 706 0 1117-455 411-454 411-1235zm-575 169q-6 471-264 752-258 282-683 282-481 0-770-272t-333-766l2050 4z\"/><path id=\"DejaVuSans-61\" transform=\"scale(.015625)\" d=\"m2194 1759q-697 0-966-159t-269-544q0-306 202-486 202-179 548-179 479 0 768 339t289 901v128h-572zm1147 238v-1997h-575v531q-197-318-491-470t-719-152q-537 0-855 302-317 302-317 808 0 590 395 890 396 300 1180 300h807v57q0 397-261 614t-733 217q-300 0-585-72-284-72-546-216v532q315 122 612 182 297 61 578 61 760 0 1135-394 375-393 375-1193z\"/><path id=\"DejaVuSans-73\" transform=\"scale(.015625)\" d=\"m2834 3397v-544q-243 125-506 187-262 63-544 63-428 0-642-131t-214-394q0-200 153-314t616-217l197-44q612-131 870-370t258-667q0-488-386-773-386-284-1061-284-281 0-586 55t-642 164v594q319-166 628-249 309-82 613-82 406 0 624 139 219 139 219 392 0 234-158 359-157 125-692 241l-200 47q-534 112-772 345-237 233-237 639 0 494 350 762 350 269 994 269 318 0 599-47 282-46 519-140z\"/></defs><use xlink:href=\"#DejaVuSans-6d\"/><use x=\"97.412109\" xlink:href=\"#DejaVuSans-65\"/><use x=\"158.935547\" xlink:href=\"#DejaVuSans-61\"/><use x=\"220.214844\" xlink:href=\"#DejaVuSans-73\"/><use x=\"272.314453\" xlink:href=\"#DejaVuSans-20\"/><use x=\"304.101562\" xlink:href=\"#DejaVuSans-30\"/></g></g><defs><clipPath id=\"pe815d3b368\"><rect x=\"7.2\" y=\"7.2\" width=\"507.54\" height=\"427.24\"/></clipPath></defs></svg>"
            ],
            "text/plain": [
              "<Figure size 672.241x565.88 with 1 Axes>"
            ]
          },
          "execution_count": 5,
          "metadata": {
          },
          "output_type": "execute_result"
        }
      ],
      "source": [
        "qc_output.draw(initial_state=True) "
      ]
    },
    {
      "cell_type": "markdown",
      "metadata": {
      },
      "source": [
        "Qubits werden immer initialisiert, um die Ausgabe `0` zu geben. Da wir in der obigen Schaltung nichts mit unseren Qubits machen, erhalten wir genau dieses Ergebnis, wenn wir sie messen. Wir können dies sehen, indem wir die Schaltung viele Male laufen lassen und die Ergebnisse in einem Histogramm darstellen. Wir werden feststellen, dass das Ergebnis immer `00000000` ist: eine `0` von jedem Qubit."
      ]
    },
    {
      "cell_type": "code",
      "execution_count": 6,
      "metadata": {
      },
      "outputs": [
        {
          "data": {
            "image/svg+xml": [
              "<?xml version=\"1.0\" encoding=\"UTF-8\"?><!DOCTYPE svg  PUBLIC '-//W3C//DTD SVG 1.1//EN'  'http://www.w3.org/Graphics/SVG/1.1/DTD/svg11.dtd'><svg width=\"460.72pt\" height=\"364.8pt\" version=\"1.1\" viewBox=\"0 0 460.72 364.8\" xmlns=\"http://www.w3.org/2000/svg\" xmlns:xlink=\"http://www.w3.org/1999/xlink\"><defs><style type=\"text/css\">*{stroke-linecap:butt;stroke-linejoin:round;}</style></defs><path d=\"m0 364.8h460.72v-364.8h-460.72z\" fill=\"none\"/><path d=\"m62.921 279h390.6v-271.8h-390.6z\" fill=\"#ffffff\"/><defs><path id=\"mbe343afcd1\" d=\"m0 0v3.5\" stroke=\"#000000\" stroke-width=\".8\"/></defs><use x=\"258.22125\" y=\"279\" stroke=\"#000000\" stroke-width=\".8\" xlink:href=\"#mbe343afcd1\"/><g transform=\"translate(249.67 356.6) rotate(-70) scale(.14 -.14)\"><defs><path id=\"DejaVuSans-30\" transform=\"scale(.015625)\" d=\"m2034 4250q-487 0-733-480-245-479-245-1442 0-959 245-1439 246-480 733-480 491 0 736 480 246 480 246 1439 0 963-246 1442-245 480-736 480zm0 500q785 0 1199-621 414-620 414-1801 0-1178-414-1799-414-620-1199-620-784 0-1198 620-414 621-414 1799 0 1181 414 1801 414 621 1198 621z\"/></defs><use xlink:href=\"#DejaVuSans-30\"/><use x=\"63.623047\" xlink:href=\"#DejaVuSans-30\"/><use x=\"127.246094\" xlink:href=\"#DejaVuSans-30\"/><use x=\"190.869141\" xlink:href=\"#DejaVuSans-30\"/><use x=\"254.492188\" xlink:href=\"#DejaVuSans-30\"/><use x=\"318.115234\" xlink:href=\"#DejaVuSans-30\"/><use x=\"381.738281\" xlink:href=\"#DejaVuSans-30\"/><use x=\"445.361328\" xlink:href=\"#DejaVuSans-30\"/></g><path d=\"m62.921 279h390.6\" clip-path=\"url(#pa205c310c0)\" fill=\"none\" stroke=\"#b0b0b0\" stroke-dasharray=\"2.96,1.28\" stroke-width=\".8\"/><defs><path id=\"m6d38be090a\" d=\"m0 0h-3.5\" stroke=\"#000000\" stroke-width=\".8\"/></defs><use x=\"62.92125\" y=\"279\" stroke=\"#000000\" stroke-width=\".8\" xlink:href=\"#m6d38be090a\"/><g transform=\"translate(24.749 284.32) scale(.14 -.14)\"><defs><path id=\"DejaVuSans-2e\" transform=\"scale(.015625)\" d=\"m684 794h660v-794h-660v794z\"/></defs><use xlink:href=\"#DejaVuSans-30\"/><use x=\"63.623047\" xlink:href=\"#DejaVuSans-2e\"/><use x=\"95.410156\" xlink:href=\"#DejaVuSans-30\"/><use x=\"159.033203\" xlink:href=\"#DejaVuSans-30\"/></g><path d=\"m62.921 222.38h390.6\" clip-path=\"url(#pa205c310c0)\" fill=\"none\" stroke=\"#b0b0b0\" stroke-dasharray=\"2.96,1.28\" stroke-width=\".8\"/><use x=\"62.92125\" y=\"222.375\" stroke=\"#000000\" stroke-width=\".8\" xlink:href=\"#m6d38be090a\"/><g transform=\"translate(24.749 227.69) scale(.14 -.14)\"><defs><path id=\"DejaVuSans-32\" transform=\"scale(.015625)\" d=\"m1228 531h2203v-531h-2962v531q359 372 979 998 621 627 780 809 303 340 423 576 121 236 121 464 0 372-261 606-261 235-680 235-297 0-627-103-329-103-704-313v638q381 153 712 231 332 78 607 78 725 0 1156-363 431-362 431-968 0-288-108-546-107-257-392-607-78-91-497-524-418-433-1181-1211z\"/><path id=\"DejaVuSans-35\" transform=\"scale(.015625)\" d=\"m691 4666h2478v-532h-1900v-1143q137 47 274 70 138 23 276 23 781 0 1237-428 457-428 457-1159 0-753-469-1171-469-417-1322-417-294 0-599 50-304 50-629 150v635q281-153 581-228t634-75q541 0 856 284 316 284 316 772 0 487-316 771-315 285-856 285-253 0-505-56-251-56-513-175v2344z\"/></defs><use xlink:href=\"#DejaVuSans-30\"/><use x=\"63.623047\" xlink:href=\"#DejaVuSans-2e\"/><use x=\"95.410156\" xlink:href=\"#DejaVuSans-32\"/><use x=\"159.033203\" xlink:href=\"#DejaVuSans-35\"/></g><path d=\"m62.921 165.75h390.6\" clip-path=\"url(#pa205c310c0)\" fill=\"none\" stroke=\"#b0b0b0\" stroke-dasharray=\"2.96,1.28\" stroke-width=\".8\"/><use x=\"62.92125\" y=\"165.75\" stroke=\"#000000\" stroke-width=\".8\" xlink:href=\"#m6d38be090a\"/><g transform=\"translate(24.749 171.07) scale(.14 -.14)\"><use xlink:href=\"#DejaVuSans-30\"/><use x=\"63.623047\" xlink:href=\"#DejaVuSans-2e\"/><use x=\"95.410156\" xlink:href=\"#DejaVuSans-35\"/><use x=\"159.033203\" xlink:href=\"#DejaVuSans-30\"/></g><path d=\"m62.921 109.12h390.6\" clip-path=\"url(#pa205c310c0)\" fill=\"none\" stroke=\"#b0b0b0\" stroke-dasharray=\"2.96,1.28\" stroke-width=\".8\"/><use x=\"62.92125\" y=\"109.125\" stroke=\"#000000\" stroke-width=\".8\" xlink:href=\"#m6d38be090a\"/><g transform=\"translate(24.749 114.44) scale(.14 -.14)\"><defs><path id=\"DejaVuSans-37\" transform=\"scale(.015625)\" d=\"m525 4666h3e3v-269l-1694-4397h-659l1594 4134h-2241v532z\"/></defs><use xlink:href=\"#DejaVuSans-30\"/><use x=\"63.623047\" xlink:href=\"#DejaVuSans-2e\"/><use x=\"95.410156\" xlink:href=\"#DejaVuSans-37\"/><use x=\"159.033203\" xlink:href=\"#DejaVuSans-35\"/></g><path d=\"m62.921 52.5h390.6\" clip-path=\"url(#pa205c310c0)\" fill=\"none\" stroke=\"#b0b0b0\" stroke-dasharray=\"2.96,1.28\" stroke-width=\".8\"/><use x=\"62.92125\" y=\"52.5\" stroke=\"#000000\" stroke-width=\".8\" xlink:href=\"#m6d38be090a\"/><g transform=\"translate(24.749 57.819) scale(.14 -.14)\"><defs><path id=\"DejaVuSans-31\" transform=\"scale(.015625)\" d=\"m794 531h1031v3560l-1122-225v575l1116 225h631v-4135h1031v-531h-2687v531z\"/></defs><use xlink:href=\"#DejaVuSans-31\"/><use x=\"63.623047\" xlink:href=\"#DejaVuSans-2e\"/><use x=\"95.410156\" xlink:href=\"#DejaVuSans-30\"/><use x=\"159.033203\" xlink:href=\"#DejaVuSans-30\"/></g><g transform=\"translate(17.838 185.86) rotate(-90) scale(.14 -.14)\"><defs><path id=\"DejaVuSans-50\" transform=\"scale(.015625)\" d=\"m1259 4147v-1753h794q441 0 681 228 241 228 241 650 0 419-241 647-240 228-681 228h-794zm-631 519h1425q785 0 1186-355 402-355 402-1039 0-691-402-1044-401-353-1186-353h-794v-1875h-631v4666z\"/><path id=\"DejaVuSans-72\" transform=\"scale(.015625)\" d=\"m2631 2963q-97 56-211 82-114 27-251 27-488 0-749-317t-261-911v-1844h-578v3500h578v-544q182 319 472 473 291 155 707 155 59 0 131-8 72-7 159-23l3-590z\"/><path id=\"DejaVuSans-6f\" transform=\"scale(.015625)\" d=\"m1959 3097q-462 0-731-361t-269-989 267-989q268-361 733-361 460 0 728 362 269 363 269 988 0 622-269 986-268 364-728 364zm0 487q750 0 1178-488 429-487 429-1349 0-859-429-1349-428-489-1178-489-753 0-1180 489-426 490-426 1349 0 862 426 1349 427 488 1180 488z\"/><path id=\"DejaVuSans-62\" transform=\"scale(.015625)\" d=\"m3116 1747q0 634-261 995t-717 361q-457 0-718-361t-261-995 261-995 718-361q456 0 717 361t261 995zm-1957 1222q182 312 458 463 277 152 661 152 638 0 1036-506 399-506 399-1331t-399-1332q-398-506-1036-506-384 0-661 152-276 152-458 464v-525h-578v4863h578v-1894z\"/><path id=\"DejaVuSans-61\" transform=\"scale(.015625)\" d=\"m2194 1759q-697 0-966-159t-269-544q0-306 202-486 202-179 548-179 479 0 768 339t289 901v128h-572zm1147 238v-1997h-575v531q-197-318-491-470t-719-152q-537 0-855 302-317 302-317 808 0 590 395 890 396 300 1180 300h807v57q0 397-261 614t-733 217q-300 0-585-72-284-72-546-216v532q315 122 612 182 297 61 578 61 760 0 1135-394 375-393 375-1193z\"/><path id=\"DejaVuSans-69\" transform=\"scale(.015625)\" d=\"m603 3500h575v-3500h-575v3500zm0 1363h575v-729h-575v729z\"/><path id=\"DejaVuSans-6c\" transform=\"scale(.015625)\" d=\"m603 4863h575v-4863h-575v4863z\"/><path id=\"DejaVuSans-74\" transform=\"scale(.015625)\" d=\"m1172 4494v-994h1184v-447h-1184v-1900q0-428 117-550t477-122h590v-481h-590q-666 0-919 248-253 249-253 905v1900h-422v447h422v994h578z\"/><path id=\"DejaVuSans-65\" transform=\"scale(.015625)\" d=\"m3597 1894v-281h-2644q38-594 358-905t892-311q331 0 642 81t618 244v-544q-310-131-635-200t-659-69q-838 0-1327 487-489 488-489 1320 0 859 464 1363 464 505 1252 505 706 0 1117-455 411-454 411-1235zm-575 169q-6 471-264 752-258 282-683 282-481 0-770-272t-333-766l2050 4z\"/><path id=\"DejaVuSans-73\" transform=\"scale(.015625)\" d=\"m2834 3397v-544q-243 125-506 187-262 63-544 63-428 0-642-131t-214-394q0-200 153-314t616-217l197-44q612-131 870-370t258-667q0-488-386-773-386-284-1061-284-281 0-586 55t-642 164v594q319-166 628-249 309-82 613-82 406 0 624 139 219 139 219 392 0 234-158 359-157 125-692 241l-200 47q-534 112-772 345-237 233-237 639 0 494 350 762 350 269 994 269 318 0 599-47 282-46 519-140z\"/></defs><use xlink:href=\"#DejaVuSans-50\"/><use x=\"58.552734\" xlink:href=\"#DejaVuSans-72\"/><use x=\"97.416016\" xlink:href=\"#DejaVuSans-6f\"/><use x=\"158.597656\" xlink:href=\"#DejaVuSans-62\"/><use x=\"222.074219\" xlink:href=\"#DejaVuSans-61\"/><use x=\"283.353516\" xlink:href=\"#DejaVuSans-62\"/><use x=\"346.830078\" xlink:href=\"#DejaVuSans-69\"/><use x=\"374.613281\" xlink:href=\"#DejaVuSans-6c\"/><use x=\"402.396484\" xlink:href=\"#DejaVuSans-69\"/><use x=\"430.179688\" xlink:href=\"#DejaVuSans-74\"/><use x=\"469.388672\" xlink:href=\"#DejaVuSans-69\"/><use x=\"497.171875\" xlink:href=\"#DejaVuSans-65\"/><use x=\"558.695312\" xlink:href=\"#DejaVuSans-73\"/></g><path d=\"m80.676 279h355.09v-226.5h-355.09z\" clip-path=\"url(#pa205c310c0)\" fill=\"#648fff\"/><path d=\"m62.921 279v-271.8\" fill=\"none\" stroke=\"#000000\" stroke-linecap=\"square\" stroke-width=\".8\"/><path d=\"m453.52 279v-271.8\" fill=\"none\" stroke=\"#000000\" stroke-linecap=\"square\" stroke-width=\".8\"/><path d=\"m62.921 279h390.6\" fill=\"none\" stroke=\"#000000\" stroke-linecap=\"square\" stroke-width=\".8\"/><path d=\"m62.921 7.2h390.6\" fill=\"none\" stroke=\"#000000\" stroke-linecap=\"square\" stroke-width=\".8\"/><g transform=\"translate(243.91 39.095) scale(.1 -.1)\"><use xlink:href=\"#DejaVuSans-31\"/><use x=\"63.623047\" xlink:href=\"#DejaVuSans-2e\"/><use x=\"95.410156\" xlink:href=\"#DejaVuSans-30\"/><use x=\"159.033203\" xlink:href=\"#DejaVuSans-30\"/><use x=\"222.65625\" xlink:href=\"#DejaVuSans-30\"/></g><defs><clipPath id=\"pa205c310c0\"><rect x=\"62.921\" y=\"7.2\" width=\"390.6\" height=\"271.8\"/></clipPath></defs></svg>"
            ],
            "text/plain": [
              "<Figure size 504x360 with 1 Axes>"
            ]
          },
          "execution_count": 6,
          "metadata": {
          },
          "output_type": "execute_result"
        }
      ],
      "source": [
        "sim = Aer.get_backend('aer_simulator') \n",
        "result = sim.run(qc_output).result()\n",
        "counts = result.get_counts()\n",
        "plot_histogram(counts)"
      ]
    },
    {
      "cell_type": "markdown",
      "metadata": {
      },
      "source": [
        "Der Grund für die häufige Ausführung und die Anzeige des Ergebnisses als Histogramm liegt darin, dass Quantencomputer in ihren Ergebnissen eine gewisse Zufälligkeit aufweisen können. Da wir in diesem Fall nichts Quantum tun, erhalten wir mit Sicherheit nur das Ergebnis `00000000` .\n",
        "\n",
        "Beachten Sie, dass dieses Ergebnis von einem Quantensimulator stammt, bei dem es sich um einen Standardcomputer handelt, der berechnet, was ein idealer Quantencomputer tun würde. Simulationen sind nur für eine kleine Anzahl von Qubits (~30 Qubits) möglich, aber sie sind dennoch ein sehr nützliches Werkzeug beim Entwurf Ihrer ersten Quantenschaltkreise. Um auf einem echten Gerät zu laufen, müssen Sie einfach `Aer.get_backend('aer_simulator')` durch das Backend-Objekt des Geräts ersetzen, das Sie verwenden möchten. "
      ]
    },
    {
      "cell_type": "markdown",
      "metadata": {
      },
      "source": [
        "## 4. Beispiel: Erstellen einer Addiererschaltung<a id=\"adder\"></a>\n",
        "\n",
        "### 4.1 Kodierung eines Eingangs<a id=\"encoding\"></a>\n",
        "\n",
        "Sehen wir uns nun an, wie eine andere binäre Zeichenfolge als Eingabe codiert wird. Dazu benötigen wir ein sogenanntes NICHT-Gatter. Dies ist die grundlegendste Operation, die Sie in einem Computer ausführen können. Es dreht einfach den Bitwert um: `0` wird `1` und `1` wird `0` . Für Qubits ist es eine Operation namens `x` , die die Arbeit des NOT erledigt.\n",
        "\n",
        "Unten erstellen wir eine neue Schaltung, die der Codierung gewidmet ist, und nennen sie `qc_encode` . Im Moment geben wir nur die Anzahl der Qubits an."
      ]
    },
    {
      "cell_type": "code",
      "execution_count": 7,
      "metadata": {
      },
      "outputs": [
        {
          "data": {
            "image/svg+xml": [
              "<?xml version=\"1.0\" encoding=\"UTF-8\"?><!DOCTYPE svg  PUBLIC '-//W3C//DTD SVG 1.1//EN'  'http://www.w3.org/Graphics/SVG/1.1/DTD/svg11.dtd'><svg width=\"125.23pt\" height=\"396.19pt\" version=\"1.1\" viewBox=\"0 0 125.23 396.19\" xmlns=\"http://www.w3.org/2000/svg\" xmlns:xlink=\"http://www.w3.org/1999/xlink\"><defs><style type=\"text/css\">*{stroke-linecap:butt;stroke-linejoin:round;}</style></defs><path d=\"m0 396.19h125.23v-396.19h-125.23z\" fill=\"#ffffff\"/><path d=\"m63.491 43.561h49.996\" clip-path=\"url(#pdd02188ee0)\" fill=\"none\" stroke=\"#000000\" stroke-linecap=\"square\" stroke-width=\"2\"/><path d=\"m63.491 89.012h49.996\" clip-path=\"url(#pdd02188ee0)\" fill=\"none\" stroke=\"#000000\" stroke-linecap=\"square\" stroke-width=\"2\"/><path d=\"m63.491 134.46h49.996\" clip-path=\"url(#pdd02188ee0)\" fill=\"none\" stroke=\"#000000\" stroke-linecap=\"square\" stroke-width=\"2\"/><path d=\"m63.491 179.91h49.996\" clip-path=\"url(#pdd02188ee0)\" fill=\"none\" stroke=\"#000000\" stroke-linecap=\"square\" stroke-width=\"2\"/><path d=\"m63.491 225.36h49.996\" clip-path=\"url(#pdd02188ee0)\" fill=\"none\" stroke=\"#000000\" stroke-linecap=\"square\" stroke-width=\"2\"/><path d=\"m63.491 270.82h49.996\" clip-path=\"url(#pdd02188ee0)\" fill=\"none\" stroke=\"#000000\" stroke-linecap=\"square\" stroke-width=\"2\"/><path d=\"m63.491 316.27h49.996\" clip-path=\"url(#pdd02188ee0)\" fill=\"none\" stroke=\"#000000\" stroke-linecap=\"square\" stroke-width=\"2\"/><path d=\"m63.491 361.72h49.996\" clip-path=\"url(#pdd02188ee0)\" fill=\"none\" stroke=\"#000000\" stroke-linecap=\"square\" stroke-width=\"2\"/><path d=\"m73.263 376.49h29.543v-29.543h-29.543z\" clip-path=\"url(#pdd02188ee0)\" fill=\"#05bab6\" stroke=\"#05bab6\" stroke-width=\"1.5\"/><g clip-path=\"url(#pdd02188ee0)\"><g transform=\"translate(83.582 365.3) scale(.13 -.13)\"><defs><path id=\"DejaVuSans-58\" transform=\"scale(.015625)\" d=\"m403 4666h678l1160-1735 1165 1735h678l-1500-2241 1600-2425h-678l-1312 1984-1322-1984h-681l1665 2491-1453 2175z\"/></defs><use xlink:href=\"#DejaVuSans-58\"/></g></g><g clip-path=\"url(#pdd02188ee0)\"><g transform=\"translate(36.363 48.012) scale(.1625 -.1625)\"><defs><path id=\"DejaVuSans-Oblique-71\" transform=\"scale(.015625)\" d=\"m2669 525q-231-303-546-460-314-156-695-156-531 0-833 358-301 358-301 986 0 506 186 978t533 847q225 244 517 375t614 131q387 0 637-153t363-462l100 525h578l-934-4813h-579l360 1844zm-1778 813q0-463 193-705 194-242 560-242 544 0 928 520t384 1264q0 450-199 689-198 239-569 239-272 0-504-127-231-126-403-370-181-256-286-600-104-343-104-668z\"/><path id=\"DejaVuSans-30\" transform=\"scale(.015625)\" d=\"m2034 4250q-487 0-733-480-245-479-245-1442 0-959 245-1439 246-480 733-480 491 0 736 480 246 480 246 1439 0 963-246 1442-245 480-736 480zm0 500q785 0 1199-621 414-620 414-1801 0-1178-414-1799-414-620-1199-620-784 0-1198 620-414 621-414 1799 0 1181 414 1801 414 621 1198 621z\"/></defs><use xlink:href=\"#DejaVuSans-Oblique-71\"/><use transform=\"translate(63.477 -16.406) scale(.7)\" xlink:href=\"#DejaVuSans-30\"/></g></g><g clip-path=\"url(#pdd02188ee0)\"><g transform=\"translate(36.363 93.463) scale(.1625 -.1625)\"><defs><path id=\"DejaVuSans-31\" transform=\"scale(.015625)\" d=\"m794 531h1031v3560l-1122-225v575l1116 225h631v-4135h1031v-531h-2687v531z\"/></defs><use xlink:href=\"#DejaVuSans-Oblique-71\"/><use transform=\"translate(63.477 -16.406) scale(.7)\" xlink:href=\"#DejaVuSans-31\"/></g></g><g clip-path=\"url(#pdd02188ee0)\"><g transform=\"translate(36.363 138.91) scale(.1625 -.1625)\"><defs><path id=\"DejaVuSans-32\" transform=\"scale(.015625)\" d=\"m1228 531h2203v-531h-2962v531q359 372 979 998 621 627 780 809 303 340 423 576 121 236 121 464 0 372-261 606-261 235-680 235-297 0-627-103-329-103-704-313v638q381 153 712 231 332 78 607 78 725 0 1156-363 431-362 431-968 0-288-108-546-107-257-392-607-78-91-497-524-418-433-1181-1211z\"/></defs><use xlink:href=\"#DejaVuSans-Oblique-71\"/><use transform=\"translate(63.477 -16.406) scale(.7)\" xlink:href=\"#DejaVuSans-32\"/></g></g><g clip-path=\"url(#pdd02188ee0)\"><g transform=\"translate(36.363 184.36) scale(.1625 -.1625)\"><defs><path id=\"DejaVuSans-33\" transform=\"scale(.015625)\" d=\"m2597 2516q453-97 707-404 255-306 255-756 0-690-475-1069-475-378-1350-378-293 0-604 58t-642 174v609q262-153 574-231 313-78 654-78 593 0 904 234t311 681q0 413-289 645-289 233-804 233h-544v519h569q465 0 712 186t247 536q0 359-255 551-254 193-729 193-260 0-557-57-297-56-653-174v562q360 100 674 150t592 50q719 0 1137-327 419-326 419-882 0-388-222-655t-631-370z\"/></defs><use xlink:href=\"#DejaVuSans-Oblique-71\"/><use transform=\"translate(63.477 -16.406) scale(.7)\" xlink:href=\"#DejaVuSans-33\"/></g></g><g clip-path=\"url(#pdd02188ee0)\"><g transform=\"translate(36.363 229.82) scale(.1625 -.1625)\"><defs><path id=\"DejaVuSans-34\" transform=\"scale(.015625)\" d=\"m2419 4116-1594-2491h1594v2491zm-166 550h794v-3041h666v-525h-666v-1100h-628v1100h-2106v609l1940 2957z\"/></defs><use xlink:href=\"#DejaVuSans-Oblique-71\"/><use transform=\"translate(63.477 -16.406) scale(.7)\" xlink:href=\"#DejaVuSans-34\"/></g></g><g clip-path=\"url(#pdd02188ee0)\"><g transform=\"translate(36.363 275.27) scale(.1625 -.1625)\"><defs><path id=\"DejaVuSans-35\" transform=\"scale(.015625)\" d=\"m691 4666h2478v-532h-1900v-1143q137 47 274 70 138 23 276 23 781 0 1237-428 457-428 457-1159 0-753-469-1171-469-417-1322-417-294 0-599 50-304 50-629 150v635q281-153 581-228t634-75q541 0 856 284 316 284 316 772 0 487-316 771-315 285-856 285-253 0-505-56-251-56-513-175v2344z\"/></defs><use xlink:href=\"#DejaVuSans-Oblique-71\"/><use transform=\"translate(63.477 -16.406) scale(.7)\" xlink:href=\"#DejaVuSans-35\"/></g></g><g clip-path=\"url(#pdd02188ee0)\"><g transform=\"translate(36.363 320.72) scale(.1625 -.1625)\"><defs><path id=\"DejaVuSans-36\" transform=\"scale(.015625)\" d=\"m2113 2584q-425 0-674-291-248-290-248-796 0-503 248-796 249-292 674-292t673 292q248 293 248 796 0 506-248 796-248 291-673 291zm1253 1979v-575q-238 112-480 171-242 60-480 60-625 0-955-422-329-422-376-1275 184 272 462 417 279 145 613 145 703 0 1111-427 408-426 408-1160 0-719-425-1154-425-434-1131-434-810 0-1238 620-428 621-428 1799 0 1106 525 1764t1409 658q238 0 480-47t505-140z\"/></defs><use xlink:href=\"#DejaVuSans-Oblique-71\"/><use transform=\"translate(63.477 -16.406) scale(.7)\" xlink:href=\"#DejaVuSans-36\"/></g></g><g clip-path=\"url(#pdd02188ee0)\"><g transform=\"translate(36.363 366.17) scale(.1625 -.1625)\"><defs><path id=\"DejaVuSans-37\" transform=\"scale(.015625)\" d=\"m525 4666h3e3v-269l-1694-4397h-659l1594 4134h-2241v532z\"/></defs><use xlink:href=\"#DejaVuSans-Oblique-71\"/><use transform=\"translate(63.477 -16.406) scale(.7)\" xlink:href=\"#DejaVuSans-37\"/></g></g><defs><clipPath id=\"pdd02188ee0\"><rect x=\"7.2\" y=\"7.2\" width=\"110.83\" height=\"381.79\"/></clipPath></defs></svg>"
            ],
            "text/plain": [
              "<Figure size 146.797x505.68 with 1 Axes>"
            ]
          },
          "execution_count": 7,
          "metadata": {
          },
          "output_type": "execute_result"
        }
      ],
      "source": [
        "qc_encode = QuantumCircuit(8)\n",
        "qc_encode.x(7)\n",
        "qc_encode.draw()"
      ]
    },
    {
      "cell_type": "markdown",
      "metadata": {
      },
      "source": [
        "Das Extrahieren von Ergebnissen kann mit der Schaltung erfolgen, die wir von zuvor haben: `qc_output` ."
      ]
    },
    {
      "cell_type": "code",
      "execution_count": 8,
      "metadata": {
      },
      "outputs": [
        {
          "data": {
            "image/svg+xml": [
              "<?xml version=\"1.0\" encoding=\"UTF-8\"?><!DOCTYPE svg  PUBLIC '-//W3C//DTD SVG 1.1//EN'  'http://www.w3.org/Graphics/SVG/1.1/DTD/svg11.dtd'><svg width=\"557.15pt\" height=\"441.64pt\" version=\"1.1\" viewBox=\"0 0 557.15 441.64\" xmlns=\"http://www.w3.org/2000/svg\" xmlns:xlink=\"http://www.w3.org/1999/xlink\"><defs><style type=\"text/css\">*{stroke-linecap:butt;stroke-linejoin:round;}</style></defs><path d=\"m0 441.64h557.15v-441.64h-557.15z\" fill=\"#ffffff\"/><path d=\"m195.89 396.83h11.817l-5.9086 8.5221z\" clip-path=\"url(#p4fc83b5da7)\" fill=\"#778899\"/><path d=\"m241.34 396.83h11.817l-5.9086 8.5221z\" clip-path=\"url(#p4fc83b5da7)\" fill=\"#778899\"/><path d=\"m286.79 396.83h11.817l-5.9086 8.5221z\" clip-path=\"url(#p4fc83b5da7)\" fill=\"#778899\"/><path d=\"m332.24 396.83h11.817l-5.9086 8.5221z\" clip-path=\"url(#p4fc83b5da7)\" fill=\"#778899\"/><path d=\"m377.69 396.83h11.817l-5.9086 8.5221z\" clip-path=\"url(#p4fc83b5da7)\" fill=\"#778899\"/><path d=\"m423.15 396.83h11.817l-5.9086 8.5221z\" clip-path=\"url(#p4fc83b5da7)\" fill=\"#778899\"/><path d=\"m468.6 396.83h11.817l-5.9086 8.5221z\" clip-path=\"url(#p4fc83b5da7)\" fill=\"#778899\"/><path d=\"m514.05 396.83h11.817l-5.9086 8.5221z\" clip-path=\"url(#p4fc83b5da7)\" fill=\"#778899\"/><path d=\"m86.353 43.561h459.06\" clip-path=\"url(#p4fc83b5da7)\" fill=\"none\" stroke=\"#000000\" stroke-linecap=\"square\" stroke-width=\"2\"/><path d=\"m86.353 89.012h459.06\" clip-path=\"url(#p4fc83b5da7)\" fill=\"none\" stroke=\"#000000\" stroke-linecap=\"square\" stroke-width=\"2\"/><path d=\"m86.353 134.46h459.06\" clip-path=\"url(#p4fc83b5da7)\" fill=\"none\" stroke=\"#000000\" stroke-linecap=\"square\" stroke-width=\"2\"/><path d=\"m86.353 179.91h459.06\" clip-path=\"url(#p4fc83b5da7)\" fill=\"none\" stroke=\"#000000\" stroke-linecap=\"square\" stroke-width=\"2\"/><path d=\"m86.353 225.36h459.06\" clip-path=\"url(#p4fc83b5da7)\" fill=\"none\" stroke=\"#000000\" stroke-linecap=\"square\" stroke-width=\"2\"/><path d=\"m86.353 270.82h459.06\" clip-path=\"url(#p4fc83b5da7)\" fill=\"none\" stroke=\"#000000\" stroke-linecap=\"square\" stroke-width=\"2\"/><path d=\"m86.353 316.27h459.06\" clip-path=\"url(#p4fc83b5da7)\" fill=\"none\" stroke=\"#000000\" stroke-linecap=\"square\" stroke-width=\"2\"/><path d=\"m86.353 361.72h459.06\" clip-path=\"url(#p4fc83b5da7)\" fill=\"none\" stroke=\"#000000\" stroke-linecap=\"square\" stroke-width=\"2\"/><path d=\"m86.353 405.69h459.06\" clip-path=\"url(#p4fc83b5da7)\" fill=\"none\" stroke=\"#778899\" stroke-linecap=\"square\" stroke-width=\"2\"/><path d=\"m86.353 408.65h459.06\" clip-path=\"url(#p4fc83b5da7)\" fill=\"none\" stroke=\"#778899\" stroke-linecap=\"square\" stroke-width=\"2\"/><path d=\"m147.48 66.286h17.726v-45.451h-17.726z\" clip-path=\"url(#p4fc83b5da7)\" fill=\"#bdbdbd\" opacity=\".6\"/><path d=\"m147.48 111.74h17.726v-45.451h-17.726z\" clip-path=\"url(#p4fc83b5da7)\" fill=\"#bdbdbd\" opacity=\".6\"/><path d=\"m147.48 157.19h17.726v-45.451h-17.726z\" clip-path=\"url(#p4fc83b5da7)\" fill=\"#bdbdbd\" opacity=\".6\"/><path d=\"m147.48 202.64h17.726v-45.451h-17.726z\" clip-path=\"url(#p4fc83b5da7)\" fill=\"#bdbdbd\" opacity=\".6\"/><path d=\"m147.48 248.09h17.726v-45.451h-17.726z\" clip-path=\"url(#p4fc83b5da7)\" fill=\"#bdbdbd\" opacity=\".6\"/><path d=\"m147.48 293.54h17.726v-45.451h-17.726z\" clip-path=\"url(#p4fc83b5da7)\" fill=\"#bdbdbd\" opacity=\".6\"/><path d=\"m147.48 338.99h17.726v-45.451h-17.726z\" clip-path=\"url(#p4fc83b5da7)\" fill=\"#bdbdbd\" opacity=\".6\"/><path d=\"m147.48 384.44h17.726v-45.451h-17.726z\" clip-path=\"url(#p4fc83b5da7)\" fill=\"#bdbdbd\" opacity=\".6\"/><path d=\"m203.28 43.561v353.27\" clip-path=\"url(#p4fc83b5da7)\" fill=\"none\" stroke=\"#778899\" stroke-linecap=\"square\" stroke-width=\"2\"/><path d=\"m200.32 43.561v353.27\" clip-path=\"url(#p4fc83b5da7)\" fill=\"none\" stroke=\"#778899\" stroke-linecap=\"square\" stroke-width=\"2\"/><path d=\"m248.73 89.012v307.82\" clip-path=\"url(#p4fc83b5da7)\" fill=\"none\" stroke=\"#778899\" stroke-linecap=\"square\" stroke-width=\"2\"/><path d=\"m245.77 89.012v307.82\" clip-path=\"url(#p4fc83b5da7)\" fill=\"none\" stroke=\"#778899\" stroke-linecap=\"square\" stroke-width=\"2\"/><path d=\"m294.18 134.46v262.37\" clip-path=\"url(#p4fc83b5da7)\" fill=\"none\" stroke=\"#778899\" stroke-linecap=\"square\" stroke-width=\"2\"/><path d=\"m291.22 134.46v262.37\" clip-path=\"url(#p4fc83b5da7)\" fill=\"none\" stroke=\"#778899\" stroke-linecap=\"square\" stroke-width=\"2\"/><path d=\"m339.63 179.91v216.91\" clip-path=\"url(#p4fc83b5da7)\" fill=\"none\" stroke=\"#778899\" stroke-linecap=\"square\" stroke-width=\"2\"/><path d=\"m336.67 179.91v216.91\" clip-path=\"url(#p4fc83b5da7)\" fill=\"none\" stroke=\"#778899\" stroke-linecap=\"square\" stroke-width=\"2\"/><path d=\"m385.08 225.36v171.46\" clip-path=\"url(#p4fc83b5da7)\" fill=\"none\" stroke=\"#778899\" stroke-linecap=\"square\" stroke-width=\"2\"/><path d=\"m382.13 225.36v171.46\" clip-path=\"url(#p4fc83b5da7)\" fill=\"none\" stroke=\"#778899\" stroke-linecap=\"square\" stroke-width=\"2\"/><path d=\"m430.53 270.82v126.01\" clip-path=\"url(#p4fc83b5da7)\" fill=\"none\" stroke=\"#778899\" stroke-linecap=\"square\" stroke-width=\"2\"/><path d=\"m427.58 270.82v126.01\" clip-path=\"url(#p4fc83b5da7)\" fill=\"none\" stroke=\"#778899\" stroke-linecap=\"square\" stroke-width=\"2\"/><path d=\"m475.98 316.27v80.562\" clip-path=\"url(#p4fc83b5da7)\" fill=\"none\" stroke=\"#778899\" stroke-linecap=\"square\" stroke-width=\"2\"/><path d=\"m473.03 316.27v80.562\" clip-path=\"url(#p4fc83b5da7)\" fill=\"none\" stroke=\"#778899\" stroke-linecap=\"square\" stroke-width=\"2\"/><path d=\"m521.43 361.72v35.111\" clip-path=\"url(#p4fc83b5da7)\" fill=\"none\" stroke=\"#778899\" stroke-linecap=\"square\" stroke-width=\"2\"/><path d=\"m518.48 361.72v35.111\" clip-path=\"url(#p4fc83b5da7)\" fill=\"none\" stroke=\"#778899\" stroke-linecap=\"square\" stroke-width=\"2\"/><path d=\"m95.443 411.71 4.5451-9.0902\" clip-path=\"url(#p4fc83b5da7)\" fill=\"none\" stroke=\"#778899\" stroke-linecap=\"square\" stroke-width=\"1.5\"/><path d=\"m96.125 376.49h29.543v-29.543h-29.543z\" clip-path=\"url(#p4fc83b5da7)\" fill=\"#05bab6\" stroke=\"#05bab6\" stroke-width=\"1.5\"/><path d=\"m187.03 58.332h29.543v-29.543h-29.543z\" clip-path=\"url(#p4fc83b5da7)\" stroke=\"#000000\" stroke-width=\"1.5\"/><path d=\"m212.14 47.992c0-2.7413-1.0901-5.3732-3.0285-7.3116-1.9384-1.9384-4.5702-3.0285-7.3116-3.0285s-5.3732 1.0901-7.3116 3.0285-3.0285 4.5702-3.0285 7.3116\" clip-path=\"url(#p4fc83b5da7)\" fill=\"none\" stroke=\"#ffffff\" stroke-width=\"2\"/><path d=\"m232.48 103.78h29.543v-29.543h-29.543z\" clip-path=\"url(#p4fc83b5da7)\" stroke=\"#000000\" stroke-width=\"1.5\"/><path d=\"m257.59 93.443c0-2.7413-1.0901-5.3732-3.0285-7.3116-1.9384-1.9384-4.5702-3.0285-7.3116-3.0285s-5.3732 1.0901-7.3116 3.0285-3.0285 4.5702-3.0285 7.3116\" clip-path=\"url(#p4fc83b5da7)\" fill=\"none\" stroke=\"#ffffff\" stroke-width=\"2\"/><path d=\"m277.93 149.23h29.543v-29.543h-29.543z\" clip-path=\"url(#p4fc83b5da7)\" stroke=\"#000000\" stroke-width=\"1.5\"/><path d=\"m303.04 138.89c0-2.7413-1.0901-5.3732-3.0285-7.3116-1.9384-1.9384-4.5702-3.0285-7.3116-3.0285s-5.3732 1.0901-7.3116 3.0285-3.0285 4.5702-3.0285 7.3116\" clip-path=\"url(#p4fc83b5da7)\" fill=\"none\" stroke=\"#ffffff\" stroke-width=\"2\"/><path d=\"m323.38 194.69h29.543v-29.543h-29.543z\" clip-path=\"url(#p4fc83b5da7)\" stroke=\"#000000\" stroke-width=\"1.5\"/><path d=\"m348.49 184.35c0-2.7413-1.0901-5.3732-3.0285-7.3116-1.9384-1.9384-4.5702-3.0285-7.3116-3.0285s-5.3732 1.0901-7.3116 3.0285-3.0285 4.5702-3.0285 7.3116\" clip-path=\"url(#p4fc83b5da7)\" fill=\"none\" stroke=\"#ffffff\" stroke-width=\"2\"/><path d=\"m368.83 240.14h29.543v-29.543h-29.543z\" clip-path=\"url(#p4fc83b5da7)\" stroke=\"#000000\" stroke-width=\"1.5\"/><path d=\"m393.94 229.8c0-2.7413-1.0901-5.3732-3.0285-7.3116-1.9384-1.9384-4.5702-3.0285-7.3116-3.0285s-5.3732 1.0901-7.3116 3.0285-3.0285 4.5702-3.0285 7.3116\" clip-path=\"url(#p4fc83b5da7)\" fill=\"none\" stroke=\"#ffffff\" stroke-width=\"2\"/><path d=\"m414.28 285.59h29.543v-29.543h-29.543z\" clip-path=\"url(#p4fc83b5da7)\" stroke=\"#000000\" stroke-width=\"1.5\"/><path d=\"m439.39 275.25c0-2.7413-1.0901-5.3732-3.0285-7.3116-1.9384-1.9384-4.5702-3.0285-7.3116-3.0285s-5.3732 1.0901-7.3116 3.0285-3.0285 4.5702-3.0285 7.3116\" clip-path=\"url(#p4fc83b5da7)\" fill=\"none\" stroke=\"#ffffff\" stroke-width=\"2\"/><path d=\"m459.73 331.04h29.543v-29.543h-29.543z\" clip-path=\"url(#p4fc83b5da7)\" stroke=\"#000000\" stroke-width=\"1.5\"/><path d=\"m484.84 320.7c0-2.7413-1.0901-5.3732-3.0285-7.3116-1.9384-1.9384-4.5702-3.0285-7.3116-3.0285s-5.3732 1.0901-7.3116 3.0285-3.0285 4.5702-3.0285 7.3116\" clip-path=\"url(#p4fc83b5da7)\" fill=\"none\" stroke=\"#ffffff\" stroke-width=\"2\"/><path d=\"m505.18 376.49h29.543v-29.543h-29.543z\" clip-path=\"url(#p4fc83b5da7)\" stroke=\"#000000\" stroke-width=\"1.5\"/><path d=\"m530.3 366.15c0-2.7413-1.0901-5.3732-3.0285-7.3116-1.9384-1.9384-4.5702-3.0285-7.3116-3.0285s-5.3732 1.0901-7.3116 3.0285-3.0285 4.5702-3.0285 7.3116\" clip-path=\"url(#p4fc83b5da7)\" fill=\"none\" stroke=\"#ffffff\" stroke-width=\"2\"/><path d=\"m201.8 47.992 10.34-10.34\" clip-path=\"url(#p4fc83b5da7)\" fill=\"none\" stroke=\"#ffffff\" stroke-linecap=\"square\" stroke-width=\"2\"/><path d=\"m247.25 93.443 10.34-10.34\" clip-path=\"url(#p4fc83b5da7)\" fill=\"none\" stroke=\"#ffffff\" stroke-linecap=\"square\" stroke-width=\"2\"/><path d=\"m292.7 138.89 10.34-10.34\" clip-path=\"url(#p4fc83b5da7)\" fill=\"none\" stroke=\"#ffffff\" stroke-linecap=\"square\" stroke-width=\"2\"/><path d=\"m338.15 184.35 10.34-10.34\" clip-path=\"url(#p4fc83b5da7)\" fill=\"none\" stroke=\"#ffffff\" stroke-linecap=\"square\" stroke-width=\"2\"/><path d=\"m383.6 229.8 10.34-10.34\" clip-path=\"url(#p4fc83b5da7)\" fill=\"none\" stroke=\"#ffffff\" stroke-linecap=\"square\" stroke-width=\"2\"/><path d=\"m429.05 275.25 10.34-10.34\" clip-path=\"url(#p4fc83b5da7)\" fill=\"none\" stroke=\"#ffffff\" stroke-linecap=\"square\" stroke-width=\"2\"/><path d=\"m474.5 320.7 10.34-10.34\" clip-path=\"url(#p4fc83b5da7)\" fill=\"none\" stroke=\"#ffffff\" stroke-linecap=\"square\" stroke-width=\"2\"/><path d=\"m519.96 366.15 10.34-10.34\" clip-path=\"url(#p4fc83b5da7)\" fill=\"none\" stroke=\"#ffffff\" stroke-linecap=\"square\" stroke-width=\"2\"/><path d=\"m156.35 20.835v45.451\" clip-path=\"url(#p4fc83b5da7)\" fill=\"none\" stroke=\"#000000\" stroke-dasharray=\"3.7,1.6\"/><path d=\"m156.35 66.286v45.451\" clip-path=\"url(#p4fc83b5da7)\" fill=\"none\" stroke=\"#000000\" stroke-dasharray=\"3.7,1.6\"/><path d=\"m156.35 111.74v45.451\" clip-path=\"url(#p4fc83b5da7)\" fill=\"none\" stroke=\"#000000\" stroke-dasharray=\"3.7,1.6\"/><path d=\"m156.35 157.19v45.451\" clip-path=\"url(#p4fc83b5da7)\" fill=\"none\" stroke=\"#000000\" stroke-dasharray=\"3.7,1.6\"/><path d=\"m156.35 202.64v45.451\" clip-path=\"url(#p4fc83b5da7)\" fill=\"none\" stroke=\"#000000\" stroke-dasharray=\"3.7,1.6\"/><path d=\"m156.35 248.09v45.451\" clip-path=\"url(#p4fc83b5da7)\" fill=\"none\" stroke=\"#000000\" stroke-dasharray=\"3.7,1.6\"/><path d=\"m156.35 293.54v45.451\" clip-path=\"url(#p4fc83b5da7)\" fill=\"none\" stroke=\"#000000\" stroke-dasharray=\"3.7,1.6\"/><path d=\"m156.35 338.99v45.451\" clip-path=\"url(#p4fc83b5da7)\" fill=\"none\" stroke=\"#000000\" stroke-dasharray=\"3.7,1.6\"/><g clip-path=\"url(#p4fc83b5da7)\"><g transform=\"translate(106.44 365.3) scale(.13 -.13)\"><defs><path id=\"DejaVuSans-58\" transform=\"scale(.015625)\" d=\"m403 4666h678l1160-1735 1165 1735h678l-1500-2241 1600-2425h-678l-1312 1984-1322-1984h-681l1665 2491-1453 2175z\"/></defs><use xlink:href=\"#DejaVuSans-58\"/></g></g><g clip-path=\"url(#p4fc83b5da7)\"><g transform=\"translate(213.16 400.46) scale(.104 -.104)\"><defs><path id=\"DejaVuSans-30\" transform=\"scale(.015625)\" d=\"m2034 4250q-487 0-733-480-245-479-245-1442 0-959 245-1439 246-480 733-480 491 0 736 480 246 480 246 1439 0 963-246 1442-245 480-736 480zm0 500q785 0 1199-621 414-620 414-1801 0-1178-414-1799-414-620-1199-620-784 0-1198 620-414 621-414 1799 0 1181 414 1801 414 621 1198 621z\"/></defs><use xlink:href=\"#DejaVuSans-30\"/></g></g><g clip-path=\"url(#p4fc83b5da7)\"><g transform=\"translate(258.61 400.46) scale(.104 -.104)\"><defs><path id=\"DejaVuSans-31\" transform=\"scale(.015625)\" d=\"m794 531h1031v3560l-1122-225v575l1116 225h631v-4135h1031v-531h-2687v531z\"/></defs><use xlink:href=\"#DejaVuSans-31\"/></g></g><g clip-path=\"url(#p4fc83b5da7)\"><g transform=\"translate(304.06 400.46) scale(.104 -.104)\"><defs><path id=\"DejaVuSans-32\" transform=\"scale(.015625)\" d=\"m1228 531h2203v-531h-2962v531q359 372 979 998 621 627 780 809 303 340 423 576 121 236 121 464 0 372-261 606-261 235-680 235-297 0-627-103-329-103-704-313v638q381 153 712 231 332 78 607 78 725 0 1156-363 431-362 431-968 0-288-108-546-107-257-392-607-78-91-497-524-418-433-1181-1211z\"/></defs><use xlink:href=\"#DejaVuSans-32\"/></g></g><g clip-path=\"url(#p4fc83b5da7)\"><g transform=\"translate(349.51 400.46) scale(.104 -.104)\"><defs><path id=\"DejaVuSans-33\" transform=\"scale(.015625)\" d=\"m2597 2516q453-97 707-404 255-306 255-756 0-690-475-1069-475-378-1350-378-293 0-604 58t-642 174v609q262-153 574-231 313-78 654-78 593 0 904 234t311 681q0 413-289 645-289 233-804 233h-544v519h569q465 0 712 186t247 536q0 359-255 551-254 193-729 193-260 0-557-57-297-56-653-174v562q360 100 674 150t592 50q719 0 1137-327 419-326 419-882 0-388-222-655t-631-370z\"/></defs><use xlink:href=\"#DejaVuSans-33\"/></g></g><g clip-path=\"url(#p4fc83b5da7)\"><g transform=\"translate(394.97 400.46) scale(.104 -.104)\"><defs><path id=\"DejaVuSans-34\" transform=\"scale(.015625)\" d=\"m2419 4116-1594-2491h1594v2491zm-166 550h794v-3041h666v-525h-666v-1100h-628v1100h-2106v609l1940 2957z\"/></defs><use xlink:href=\"#DejaVuSans-34\"/></g></g><g clip-path=\"url(#p4fc83b5da7)\"><g transform=\"translate(440.42 400.46) scale(.104 -.104)\"><defs><path id=\"DejaVuSans-35\" transform=\"scale(.015625)\" d=\"m691 4666h2478v-532h-1900v-1143q137 47 274 70 138 23 276 23 781 0 1237-428 457-428 457-1159 0-753-469-1171-469-417-1322-417-294 0-599 50-304 50-629 150v635q281-153 581-228t634-75q541 0 856 284 316 284 316 772 0 487-316 771-315 285-856 285-253 0-505-56-251-56-513-175v2344z\"/></defs><use xlink:href=\"#DejaVuSans-35\"/></g></g><g clip-path=\"url(#p4fc83b5da7)\"><g transform=\"translate(485.87 400.46) scale(.104 -.104)\"><defs><path id=\"DejaVuSans-36\" transform=\"scale(.015625)\" d=\"m2113 2584q-425 0-674-291-248-290-248-796 0-503 248-796 249-292 674-292t673 292q248 293 248 796 0 506-248 796-248 291-673 291zm1253 1979v-575q-238 112-480 171-242 60-480 60-625 0-955-422-329-422-376-1275 184 272 462 417 279 145 613 145 703 0 1111-427 408-426 408-1160 0-719-425-1154-425-434-1131-434-810 0-1238 620-428 621-428 1799 0 1106 525 1764t1409 658q238 0 480-47t505-140z\"/></defs><use xlink:href=\"#DejaVuSans-36\"/></g></g><g clip-path=\"url(#p4fc83b5da7)\"><g transform=\"translate(531.32 400.46) scale(.104 -.104)\"><defs><path id=\"DejaVuSans-37\" transform=\"scale(.015625)\" d=\"m525 4666h3e3v-269l-1694-4397h-659l1594 4134h-2241v532z\"/></defs><use xlink:href=\"#DejaVuSans-37\"/></g></g><g clip-path=\"url(#p4fc83b5da7)\"><g transform=\"translate(59.225 48.012) scale(.1625 -.1625)\"><defs><path id=\"DejaVuSans-Oblique-71\" transform=\"scale(.015625)\" d=\"m2669 525q-231-303-546-460-314-156-695-156-531 0-833 358-301 358-301 986 0 506 186 978t533 847q225 244 517 375t614 131q387 0 637-153t363-462l100 525h578l-934-4813h-579l360 1844zm-1778 813q0-463 193-705 194-242 560-242 544 0 928 520t384 1264q0 450-199 689-198 239-569 239-272 0-504-127-231-126-403-370-181-256-286-600-104-343-104-668z\"/></defs><use xlink:href=\"#DejaVuSans-Oblique-71\"/><use transform=\"translate(63.477 -16.406) scale(.7)\" xlink:href=\"#DejaVuSans-30\"/></g></g><g clip-path=\"url(#p4fc83b5da7)\"><g transform=\"translate(59.225 93.463) scale(.1625 -.1625)\"><use xlink:href=\"#DejaVuSans-Oblique-71\"/><use transform=\"translate(63.477 -16.406) scale(.7)\" xlink:href=\"#DejaVuSans-31\"/></g></g><g clip-path=\"url(#p4fc83b5da7)\"><g transform=\"translate(59.225 138.91) scale(.1625 -.1625)\"><use xlink:href=\"#DejaVuSans-Oblique-71\"/><use transform=\"translate(63.477 -16.406) scale(.7)\" xlink:href=\"#DejaVuSans-32\"/></g></g><g clip-path=\"url(#p4fc83b5da7)\"><g transform=\"translate(59.225 184.36) scale(.1625 -.1625)\"><use xlink:href=\"#DejaVuSans-Oblique-71\"/><use transform=\"translate(63.477 -16.406) scale(.7)\" xlink:href=\"#DejaVuSans-33\"/></g></g><g clip-path=\"url(#p4fc83b5da7)\"><g transform=\"translate(59.225 229.82) scale(.1625 -.1625)\"><use xlink:href=\"#DejaVuSans-Oblique-71\"/><use transform=\"translate(63.477 -16.406) scale(.7)\" xlink:href=\"#DejaVuSans-34\"/></g></g><g clip-path=\"url(#p4fc83b5da7)\"><g transform=\"translate(59.225 275.27) scale(.1625 -.1625)\"><use xlink:href=\"#DejaVuSans-Oblique-71\"/><use transform=\"translate(63.477 -16.406) scale(.7)\" xlink:href=\"#DejaVuSans-35\"/></g></g><g clip-path=\"url(#p4fc83b5da7)\"><g transform=\"translate(59.225 320.72) scale(.1625 -.1625)\"><use xlink:href=\"#DejaVuSans-Oblique-71\"/><use transform=\"translate(63.477 -16.406) scale(.7)\" xlink:href=\"#DejaVuSans-36\"/></g></g><g clip-path=\"url(#p4fc83b5da7)\"><g transform=\"translate(59.225 366.17) scale(.1625 -.1625)\"><use xlink:href=\"#DejaVuSans-Oblique-71\"/><use transform=\"translate(63.477 -16.406) scale(.7)\" xlink:href=\"#DejaVuSans-37\"/></g></g><g clip-path=\"url(#p4fc83b5da7)\"><g transform=\"translate(90.898 400.46) scale(.104 -.104)\"><defs><path id=\"DejaVuSans-38\" transform=\"scale(.015625)\" d=\"m2034 2216q-450 0-708-241-257-241-257-662 0-422 257-663 258-241 708-241t709 242q260 243 260 662 0 421-258 662-257 241-711 241zm-631 268q-406 100-633 378-226 279-226 679 0 559 398 884 399 325 1092 325 697 0 1094-325t397-884q0-400-227-679-226-278-629-378 456-106 710-416 255-309 255-755 0-679-414-1042-414-362-1186-362-771 0-1186 362-414 363-414 1042 0 446 256 755 257 310 713 416zm-231 997q0-362 226-565 227-203 636-203 407 0 636 203 230 203 230 565 0 363-230 566-229 203-636 203-409 0-636-203-226-203-226-566z\"/></defs><use xlink:href=\"#DejaVuSans-38\"/></g></g><g clip-path=\"url(#p4fc83b5da7)\"><g transform=\"translate(33.012 411.65) scale(.1625 -.1625)\"><defs><path id=\"DejaVuSans-6d\" transform=\"scale(.015625)\" d=\"m3328 2828q216 388 516 572t706 184q547 0 844-383 297-382 297-1088v-2113h-578v2094q0 503-179 746-178 244-543 244-447 0-707-297-259-296-259-809v-1978h-578v2094q0 506-178 748t-550 242q-441 0-701-298-259-298-259-808v-1978h-578v3500h578v-544q197 322 472 475t653 153q382 0 649-194 267-193 395-562z\"/><path id=\"DejaVuSans-65\" transform=\"scale(.015625)\" d=\"m3597 1894v-281h-2644q38-594 358-905t892-311q331 0 642 81t618 244v-544q-310-131-635-200t-659-69q-838 0-1327 487-489 488-489 1320 0 859 464 1363 464 505 1252 505 706 0 1117-455 411-454 411-1235zm-575 169q-6 471-264 752-258 282-683 282-481 0-770-272t-333-766l2050 4z\"/><path id=\"DejaVuSans-61\" transform=\"scale(.015625)\" d=\"m2194 1759q-697 0-966-159t-269-544q0-306 202-486 202-179 548-179 479 0 768 339t289 901v128h-572zm1147 238v-1997h-575v531q-197-318-491-470t-719-152q-537 0-855 302-317 302-317 808 0 590 395 890 396 300 1180 300h807v57q0 397-261 614t-733 217q-300 0-585-72-284-72-546-216v532q315 122 612 182 297 61 578 61 760 0 1135-394 375-393 375-1193z\"/><path id=\"DejaVuSans-73\" transform=\"scale(.015625)\" d=\"m2834 3397v-544q-243 125-506 187-262 63-544 63-428 0-642-131t-214-394q0-200 153-314t616-217l197-44q612-131 870-370t258-667q0-488-386-773-386-284-1061-284-281 0-586 55t-642 164v594q319-166 628-249 309-82 613-82 406 0 624 139 219 139 219 392 0 234-158 359-157 125-692 241l-200 47q-534 112-772 345-237 233-237 639 0 494 350 762 350 269 994 269 318 0 599-47 282-46 519-140z\"/></defs><use xlink:href=\"#DejaVuSans-6d\"/><use x=\"97.412109\" xlink:href=\"#DejaVuSans-65\"/><use x=\"158.935547\" xlink:href=\"#DejaVuSans-61\"/><use x=\"220.214844\" xlink:href=\"#DejaVuSans-73\"/></g></g><defs><clipPath id=\"p4fc83b5da7\"><rect x=\"7.2\" y=\"7.2\" width=\"542.75\" height=\"427.24\"/></clipPath></defs></svg>"
            ],
            "text/plain": [
              "<Figure size 718.879x565.88 with 1 Axes>"
            ]
          },
          "execution_count": 8,
          "metadata": {
          },
          "output_type": "execute_result"
        }
      ],
      "source": [
        "qc_encode.measure_all()\n",
        "qc_encode.draw()"
      ]
    },
    {
      "cell_type": "markdown",
      "metadata": {
      },
      "source": [
        "Jetzt können wir die kombinierte Schaltung ausführen und uns die Ergebnisse ansehen."
      ]
    },
    {
      "cell_type": "code",
      "execution_count": 9,
      "metadata": {
      },
      "outputs": [
        {
          "data": {
            "image/svg+xml": [
              "<?xml version=\"1.0\" encoding=\"UTF-8\"?><!DOCTYPE svg  PUBLIC '-//W3C//DTD SVG 1.1//EN'  'http://www.w3.org/Graphics/SVG/1.1/DTD/svg11.dtd'><svg width=\"460.72pt\" height=\"364.8pt\" version=\"1.1\" viewBox=\"0 0 460.72 364.8\" xmlns=\"http://www.w3.org/2000/svg\" xmlns:xlink=\"http://www.w3.org/1999/xlink\"><defs><style type=\"text/css\">*{stroke-linecap:butt;stroke-linejoin:round;}</style></defs><path d=\"m0 364.8h460.72v-364.8h-460.72z\" fill=\"none\"/><path d=\"m62.921 279h390.6v-271.8h-390.6z\" fill=\"#ffffff\"/><defs><path id=\"m93bdf8d1b8\" d=\"m0 0v3.5\" stroke=\"#000000\" stroke-width=\".8\"/></defs><use x=\"258.22125\" y=\"279\" stroke=\"#000000\" stroke-width=\".8\" xlink:href=\"#m93bdf8d1b8\"/><g transform=\"translate(249.67 356.6) rotate(-70) scale(.14 -.14)\"><defs><path id=\"DejaVuSans-31\" transform=\"scale(.015625)\" d=\"m794 531h1031v3560l-1122-225v575l1116 225h631v-4135h1031v-531h-2687v531z\"/><path id=\"DejaVuSans-30\" transform=\"scale(.015625)\" d=\"m2034 4250q-487 0-733-480-245-479-245-1442 0-959 245-1439 246-480 733-480 491 0 736 480 246 480 246 1439 0 963-246 1442-245 480-736 480zm0 500q785 0 1199-621 414-620 414-1801 0-1178-414-1799-414-620-1199-620-784 0-1198 620-414 621-414 1799 0 1181 414 1801 414 621 1198 621z\"/></defs><use xlink:href=\"#DejaVuSans-31\"/><use x=\"63.623047\" xlink:href=\"#DejaVuSans-30\"/><use x=\"127.246094\" xlink:href=\"#DejaVuSans-30\"/><use x=\"190.869141\" xlink:href=\"#DejaVuSans-30\"/><use x=\"254.492188\" xlink:href=\"#DejaVuSans-30\"/><use x=\"318.115234\" xlink:href=\"#DejaVuSans-30\"/><use x=\"381.738281\" xlink:href=\"#DejaVuSans-30\"/><use x=\"445.361328\" xlink:href=\"#DejaVuSans-30\"/></g><path d=\"m62.921 279h390.6\" clip-path=\"url(#p28c8f19dac)\" fill=\"none\" stroke=\"#b0b0b0\" stroke-dasharray=\"2.96,1.28\" stroke-width=\".8\"/><defs><path id=\"m688759d740\" d=\"m0 0h-3.5\" stroke=\"#000000\" stroke-width=\".8\"/></defs><use x=\"62.92125\" y=\"279\" stroke=\"#000000\" stroke-width=\".8\" xlink:href=\"#m688759d740\"/><g transform=\"translate(24.749 284.32) scale(.14 -.14)\"><defs><path id=\"DejaVuSans-2e\" transform=\"scale(.015625)\" d=\"m684 794h660v-794h-660v794z\"/></defs><use xlink:href=\"#DejaVuSans-30\"/><use x=\"63.623047\" xlink:href=\"#DejaVuSans-2e\"/><use x=\"95.410156\" xlink:href=\"#DejaVuSans-30\"/><use x=\"159.033203\" xlink:href=\"#DejaVuSans-30\"/></g><path d=\"m62.921 222.38h390.6\" clip-path=\"url(#p28c8f19dac)\" fill=\"none\" stroke=\"#b0b0b0\" stroke-dasharray=\"2.96,1.28\" stroke-width=\".8\"/><use x=\"62.92125\" y=\"222.375\" stroke=\"#000000\" stroke-width=\".8\" xlink:href=\"#m688759d740\"/><g transform=\"translate(24.749 227.69) scale(.14 -.14)\"><defs><path id=\"DejaVuSans-32\" transform=\"scale(.015625)\" d=\"m1228 531h2203v-531h-2962v531q359 372 979 998 621 627 780 809 303 340 423 576 121 236 121 464 0 372-261 606-261 235-680 235-297 0-627-103-329-103-704-313v638q381 153 712 231 332 78 607 78 725 0 1156-363 431-362 431-968 0-288-108-546-107-257-392-607-78-91-497-524-418-433-1181-1211z\"/><path id=\"DejaVuSans-35\" transform=\"scale(.015625)\" d=\"m691 4666h2478v-532h-1900v-1143q137 47 274 70 138 23 276 23 781 0 1237-428 457-428 457-1159 0-753-469-1171-469-417-1322-417-294 0-599 50-304 50-629 150v635q281-153 581-228t634-75q541 0 856 284 316 284 316 772 0 487-316 771-315 285-856 285-253 0-505-56-251-56-513-175v2344z\"/></defs><use xlink:href=\"#DejaVuSans-30\"/><use x=\"63.623047\" xlink:href=\"#DejaVuSans-2e\"/><use x=\"95.410156\" xlink:href=\"#DejaVuSans-32\"/><use x=\"159.033203\" xlink:href=\"#DejaVuSans-35\"/></g><path d=\"m62.921 165.75h390.6\" clip-path=\"url(#p28c8f19dac)\" fill=\"none\" stroke=\"#b0b0b0\" stroke-dasharray=\"2.96,1.28\" stroke-width=\".8\"/><use x=\"62.92125\" y=\"165.75\" stroke=\"#000000\" stroke-width=\".8\" xlink:href=\"#m688759d740\"/><g transform=\"translate(24.749 171.07) scale(.14 -.14)\"><use xlink:href=\"#DejaVuSans-30\"/><use x=\"63.623047\" xlink:href=\"#DejaVuSans-2e\"/><use x=\"95.410156\" xlink:href=\"#DejaVuSans-35\"/><use x=\"159.033203\" xlink:href=\"#DejaVuSans-30\"/></g><path d=\"m62.921 109.12h390.6\" clip-path=\"url(#p28c8f19dac)\" fill=\"none\" stroke=\"#b0b0b0\" stroke-dasharray=\"2.96,1.28\" stroke-width=\".8\"/><use x=\"62.92125\" y=\"109.125\" stroke=\"#000000\" stroke-width=\".8\" xlink:href=\"#m688759d740\"/><g transform=\"translate(24.749 114.44) scale(.14 -.14)\"><defs><path id=\"DejaVuSans-37\" transform=\"scale(.015625)\" d=\"m525 4666h3e3v-269l-1694-4397h-659l1594 4134h-2241v532z\"/></defs><use xlink:href=\"#DejaVuSans-30\"/><use x=\"63.623047\" xlink:href=\"#DejaVuSans-2e\"/><use x=\"95.410156\" xlink:href=\"#DejaVuSans-37\"/><use x=\"159.033203\" xlink:href=\"#DejaVuSans-35\"/></g><path d=\"m62.921 52.5h390.6\" clip-path=\"url(#p28c8f19dac)\" fill=\"none\" stroke=\"#b0b0b0\" stroke-dasharray=\"2.96,1.28\" stroke-width=\".8\"/><use x=\"62.92125\" y=\"52.5\" stroke=\"#000000\" stroke-width=\".8\" xlink:href=\"#m688759d740\"/><g transform=\"translate(24.749 57.819) scale(.14 -.14)\"><use xlink:href=\"#DejaVuSans-31\"/><use x=\"63.623047\" xlink:href=\"#DejaVuSans-2e\"/><use x=\"95.410156\" xlink:href=\"#DejaVuSans-30\"/><use x=\"159.033203\" xlink:href=\"#DejaVuSans-30\"/></g><g transform=\"translate(17.838 185.86) rotate(-90) scale(.14 -.14)\"><defs><path id=\"DejaVuSans-50\" transform=\"scale(.015625)\" d=\"m1259 4147v-1753h794q441 0 681 228 241 228 241 650 0 419-241 647-240 228-681 228h-794zm-631 519h1425q785 0 1186-355 402-355 402-1039 0-691-402-1044-401-353-1186-353h-794v-1875h-631v4666z\"/><path id=\"DejaVuSans-72\" transform=\"scale(.015625)\" d=\"m2631 2963q-97 56-211 82-114 27-251 27-488 0-749-317t-261-911v-1844h-578v3500h578v-544q182 319 472 473 291 155 707 155 59 0 131-8 72-7 159-23l3-590z\"/><path id=\"DejaVuSans-6f\" transform=\"scale(.015625)\" d=\"m1959 3097q-462 0-731-361t-269-989 267-989q268-361 733-361 460 0 728 362 269 363 269 988 0 622-269 986-268 364-728 364zm0 487q750 0 1178-488 429-487 429-1349 0-859-429-1349-428-489-1178-489-753 0-1180 489-426 490-426 1349 0 862 426 1349 427 488 1180 488z\"/><path id=\"DejaVuSans-62\" transform=\"scale(.015625)\" d=\"m3116 1747q0 634-261 995t-717 361q-457 0-718-361t-261-995 261-995 718-361q456 0 717 361t261 995zm-1957 1222q182 312 458 463 277 152 661 152 638 0 1036-506 399-506 399-1331t-399-1332q-398-506-1036-506-384 0-661 152-276 152-458 464v-525h-578v4863h578v-1894z\"/><path id=\"DejaVuSans-61\" transform=\"scale(.015625)\" d=\"m2194 1759q-697 0-966-159t-269-544q0-306 202-486 202-179 548-179 479 0 768 339t289 901v128h-572zm1147 238v-1997h-575v531q-197-318-491-470t-719-152q-537 0-855 302-317 302-317 808 0 590 395 890 396 300 1180 300h807v57q0 397-261 614t-733 217q-300 0-585-72-284-72-546-216v532q315 122 612 182 297 61 578 61 760 0 1135-394 375-393 375-1193z\"/><path id=\"DejaVuSans-69\" transform=\"scale(.015625)\" d=\"m603 3500h575v-3500h-575v3500zm0 1363h575v-729h-575v729z\"/><path id=\"DejaVuSans-6c\" transform=\"scale(.015625)\" d=\"m603 4863h575v-4863h-575v4863z\"/><path id=\"DejaVuSans-74\" transform=\"scale(.015625)\" d=\"m1172 4494v-994h1184v-447h-1184v-1900q0-428 117-550t477-122h590v-481h-590q-666 0-919 248-253 249-253 905v1900h-422v447h422v994h578z\"/><path id=\"DejaVuSans-65\" transform=\"scale(.015625)\" d=\"m3597 1894v-281h-2644q38-594 358-905t892-311q331 0 642 81t618 244v-544q-310-131-635-200t-659-69q-838 0-1327 487-489 488-489 1320 0 859 464 1363 464 505 1252 505 706 0 1117-455 411-454 411-1235zm-575 169q-6 471-264 752-258 282-683 282-481 0-770-272t-333-766l2050 4z\"/><path id=\"DejaVuSans-73\" transform=\"scale(.015625)\" d=\"m2834 3397v-544q-243 125-506 187-262 63-544 63-428 0-642-131t-214-394q0-200 153-314t616-217l197-44q612-131 870-370t258-667q0-488-386-773-386-284-1061-284-281 0-586 55t-642 164v594q319-166 628-249 309-82 613-82 406 0 624 139 219 139 219 392 0 234-158 359-157 125-692 241l-200 47q-534 112-772 345-237 233-237 639 0 494 350 762 350 269 994 269 318 0 599-47 282-46 519-140z\"/></defs><use xlink:href=\"#DejaVuSans-50\"/><use x=\"58.552734\" xlink:href=\"#DejaVuSans-72\"/><use x=\"97.416016\" xlink:href=\"#DejaVuSans-6f\"/><use x=\"158.597656\" xlink:href=\"#DejaVuSans-62\"/><use x=\"222.074219\" xlink:href=\"#DejaVuSans-61\"/><use x=\"283.353516\" xlink:href=\"#DejaVuSans-62\"/><use x=\"346.830078\" xlink:href=\"#DejaVuSans-69\"/><use x=\"374.613281\" xlink:href=\"#DejaVuSans-6c\"/><use x=\"402.396484\" xlink:href=\"#DejaVuSans-69\"/><use x=\"430.179688\" xlink:href=\"#DejaVuSans-74\"/><use x=\"469.388672\" xlink:href=\"#DejaVuSans-69\"/><use x=\"497.171875\" xlink:href=\"#DejaVuSans-65\"/><use x=\"558.695312\" xlink:href=\"#DejaVuSans-73\"/></g><path d=\"m80.676 279h355.09v-226.5h-355.09z\" clip-path=\"url(#p28c8f19dac)\" fill=\"#648fff\"/><path d=\"m62.921 279v-271.8\" fill=\"none\" stroke=\"#000000\" stroke-linecap=\"square\" stroke-width=\".8\"/><path d=\"m453.52 279v-271.8\" fill=\"none\" stroke=\"#000000\" stroke-linecap=\"square\" stroke-width=\".8\"/><path d=\"m62.921 279h390.6\" fill=\"none\" stroke=\"#000000\" stroke-linecap=\"square\" stroke-width=\".8\"/><path d=\"m62.921 7.2h390.6\" fill=\"none\" stroke=\"#000000\" stroke-linecap=\"square\" stroke-width=\".8\"/><g transform=\"translate(243.91 39.095) scale(.1 -.1)\"><use xlink:href=\"#DejaVuSans-31\"/><use x=\"63.623047\" xlink:href=\"#DejaVuSans-2e\"/><use x=\"95.410156\" xlink:href=\"#DejaVuSans-30\"/><use x=\"159.033203\" xlink:href=\"#DejaVuSans-30\"/><use x=\"222.65625\" xlink:href=\"#DejaVuSans-30\"/></g><defs><clipPath id=\"p28c8f19dac\"><rect x=\"62.921\" y=\"7.2\" width=\"390.6\" height=\"271.8\"/></clipPath></defs></svg>"
            ],
            "text/plain": [
              "<Figure size 504x360 with 1 Axes>"
            ]
          },
          "execution_count": 9,
          "metadata": {
          },
          "output_type": "execute_result"
        }
      ],
      "source": [
        "sim = Aer.get_backend('aer_simulator') \n",
        "result = sim.run(qc_encode).result()\n",
        "counts = result.get_counts()\n",
        "plot_histogram(counts)"
      ]
    },
    {
      "cell_type": "markdown",
      "metadata": {
      },
      "source": [
        "Jetzt gibt unser Computer stattdessen den String `10000000` .\n",
        "\n",
        "Das Bit, das wir umgedreht haben und das von Qubit 7 stammt, befindet sich ganz links in der Zeichenfolge. Dies liegt daran, dass Qiskit die Bits in einer Zeichenfolge von rechts nach links nummeriert. Einige bevorzugen es, ihre Bits andersherum zu nummerieren, aber das System von Qiskit hat sicherlich seine Vorteile, wenn wir die Bits zur Darstellung von Zahlen verwenden. Konkret bedeutet dies, dass uns Qubit 7 mitteilt, wie viele `2^7` s wir in unserer Zahl haben. Durch Umdrehen dieses Bits haben wir nun die Zahl [[128|256|64|32]] in unseren einfachen 8-Bit-Computer geschrieben.\n",
        "\n",
        "Versuchen Sie jetzt, eine andere Zahl für sich selbst zu schreiben. Du könntest zum Beispiel dein Alter machen. Verwenden Sie einfach eine Suchmaschine, um herauszufinden, wie die Zahl im Binärformat aussieht (wenn sie ein „0b“ enthält, ignorieren Sie es einfach) und fügen Sie dann einige 0s auf der linken Seite hinzu, wenn Sie jünger als 128 sind."
      ]
    },
    {
      "cell_type": "code",
      "execution_count": 10,
      "metadata": {
      },
      "outputs": [
        {
          "data": {
            "image/svg+xml": [
              "<?xml version=\"1.0\" encoding=\"UTF-8\"?><!DOCTYPE svg  PUBLIC '-//W3C//DTD SVG 1.1//EN'  'http://www.w3.org/Graphics/SVG/1.1/DTD/svg11.dtd'><svg width=\"125.23pt\" height=\"396.19pt\" version=\"1.1\" viewBox=\"0 0 125.23 396.19\" xmlns=\"http://www.w3.org/2000/svg\" xmlns:xlink=\"http://www.w3.org/1999/xlink\"><defs><style type=\"text/css\">*{stroke-linecap:butt;stroke-linejoin:round;}</style></defs><path d=\"m0 396.19h125.23v-396.19h-125.23z\" fill=\"#ffffff\"/><path d=\"m63.491 43.561h49.996\" clip-path=\"url(#p09a6436628)\" fill=\"none\" stroke=\"#000000\" stroke-linecap=\"square\" stroke-width=\"2\"/><path d=\"m63.491 89.012h49.996\" clip-path=\"url(#p09a6436628)\" fill=\"none\" stroke=\"#000000\" stroke-linecap=\"square\" stroke-width=\"2\"/><path d=\"m63.491 134.46h49.996\" clip-path=\"url(#p09a6436628)\" fill=\"none\" stroke=\"#000000\" stroke-linecap=\"square\" stroke-width=\"2\"/><path d=\"m63.491 179.91h49.996\" clip-path=\"url(#p09a6436628)\" fill=\"none\" stroke=\"#000000\" stroke-linecap=\"square\" stroke-width=\"2\"/><path d=\"m63.491 225.36h49.996\" clip-path=\"url(#p09a6436628)\" fill=\"none\" stroke=\"#000000\" stroke-linecap=\"square\" stroke-width=\"2\"/><path d=\"m63.491 270.82h49.996\" clip-path=\"url(#p09a6436628)\" fill=\"none\" stroke=\"#000000\" stroke-linecap=\"square\" stroke-width=\"2\"/><path d=\"m63.491 316.27h49.996\" clip-path=\"url(#p09a6436628)\" fill=\"none\" stroke=\"#000000\" stroke-linecap=\"square\" stroke-width=\"2\"/><path d=\"m63.491 361.72h49.996\" clip-path=\"url(#p09a6436628)\" fill=\"none\" stroke=\"#000000\" stroke-linecap=\"square\" stroke-width=\"2\"/><path d=\"m73.263 103.78h29.543v-29.543h-29.543z\" clip-path=\"url(#p09a6436628)\" fill=\"#05bab6\" stroke=\"#05bab6\" stroke-width=\"1.5\"/><path d=\"m73.263 285.59h29.543v-29.543h-29.543z\" clip-path=\"url(#p09a6436628)\" fill=\"#05bab6\" stroke=\"#05bab6\" stroke-width=\"1.5\"/><g clip-path=\"url(#p09a6436628)\"><g transform=\"translate(83.582 92.599) scale(.13 -.13)\"><defs><path id=\"DejaVuSans-58\" transform=\"scale(.015625)\" d=\"m403 4666h678l1160-1735 1165 1735h678l-1500-2241 1600-2425h-678l-1312 1984-1322-1984h-681l1665 2491-1453 2175z\"/></defs><use xlink:href=\"#DejaVuSans-58\"/></g></g><g clip-path=\"url(#p09a6436628)\"><g transform=\"translate(83.582 274.4) scale(.13 -.13)\"><use xlink:href=\"#DejaVuSans-58\"/></g></g><g clip-path=\"url(#p09a6436628)\"><g transform=\"translate(36.363 48.012) scale(.1625 -.1625)\"><defs><path id=\"DejaVuSans-Oblique-71\" transform=\"scale(.015625)\" d=\"m2669 525q-231-303-546-460-314-156-695-156-531 0-833 358-301 358-301 986 0 506 186 978t533 847q225 244 517 375t614 131q387 0 637-153t363-462l100 525h578l-934-4813h-579l360 1844zm-1778 813q0-463 193-705 194-242 560-242 544 0 928 520t384 1264q0 450-199 689-198 239-569 239-272 0-504-127-231-126-403-370-181-256-286-600-104-343-104-668z\"/><path id=\"DejaVuSans-30\" transform=\"scale(.015625)\" d=\"m2034 4250q-487 0-733-480-245-479-245-1442 0-959 245-1439 246-480 733-480 491 0 736 480 246 480 246 1439 0 963-246 1442-245 480-736 480zm0 500q785 0 1199-621 414-620 414-1801 0-1178-414-1799-414-620-1199-620-784 0-1198 620-414 621-414 1799 0 1181 414 1801 414 621 1198 621z\"/></defs><use xlink:href=\"#DejaVuSans-Oblique-71\"/><use transform=\"translate(63.477 -16.406) scale(.7)\" xlink:href=\"#DejaVuSans-30\"/></g></g><g clip-path=\"url(#p09a6436628)\"><g transform=\"translate(36.363 93.463) scale(.1625 -.1625)\"><defs><path id=\"DejaVuSans-31\" transform=\"scale(.015625)\" d=\"m794 531h1031v3560l-1122-225v575l1116 225h631v-4135h1031v-531h-2687v531z\"/></defs><use xlink:href=\"#DejaVuSans-Oblique-71\"/><use transform=\"translate(63.477 -16.406) scale(.7)\" xlink:href=\"#DejaVuSans-31\"/></g></g><g clip-path=\"url(#p09a6436628)\"><g transform=\"translate(36.363 138.91) scale(.1625 -.1625)\"><defs><path id=\"DejaVuSans-32\" transform=\"scale(.015625)\" d=\"m1228 531h2203v-531h-2962v531q359 372 979 998 621 627 780 809 303 340 423 576 121 236 121 464 0 372-261 606-261 235-680 235-297 0-627-103-329-103-704-313v638q381 153 712 231 332 78 607 78 725 0 1156-363 431-362 431-968 0-288-108-546-107-257-392-607-78-91-497-524-418-433-1181-1211z\"/></defs><use xlink:href=\"#DejaVuSans-Oblique-71\"/><use transform=\"translate(63.477 -16.406) scale(.7)\" xlink:href=\"#DejaVuSans-32\"/></g></g><g clip-path=\"url(#p09a6436628)\"><g transform=\"translate(36.363 184.36) scale(.1625 -.1625)\"><defs><path id=\"DejaVuSans-33\" transform=\"scale(.015625)\" d=\"m2597 2516q453-97 707-404 255-306 255-756 0-690-475-1069-475-378-1350-378-293 0-604 58t-642 174v609q262-153 574-231 313-78 654-78 593 0 904 234t311 681q0 413-289 645-289 233-804 233h-544v519h569q465 0 712 186t247 536q0 359-255 551-254 193-729 193-260 0-557-57-297-56-653-174v562q360 100 674 150t592 50q719 0 1137-327 419-326 419-882 0-388-222-655t-631-370z\"/></defs><use xlink:href=\"#DejaVuSans-Oblique-71\"/><use transform=\"translate(63.477 -16.406) scale(.7)\" xlink:href=\"#DejaVuSans-33\"/></g></g><g clip-path=\"url(#p09a6436628)\"><g transform=\"translate(36.363 229.82) scale(.1625 -.1625)\"><defs><path id=\"DejaVuSans-34\" transform=\"scale(.015625)\" d=\"m2419 4116-1594-2491h1594v2491zm-166 550h794v-3041h666v-525h-666v-1100h-628v1100h-2106v609l1940 2957z\"/></defs><use xlink:href=\"#DejaVuSans-Oblique-71\"/><use transform=\"translate(63.477 -16.406) scale(.7)\" xlink:href=\"#DejaVuSans-34\"/></g></g><g clip-path=\"url(#p09a6436628)\"><g transform=\"translate(36.363 275.27) scale(.1625 -.1625)\"><defs><path id=\"DejaVuSans-35\" transform=\"scale(.015625)\" d=\"m691 4666h2478v-532h-1900v-1143q137 47 274 70 138 23 276 23 781 0 1237-428 457-428 457-1159 0-753-469-1171-469-417-1322-417-294 0-599 50-304 50-629 150v635q281-153 581-228t634-75q541 0 856 284 316 284 316 772 0 487-316 771-315 285-856 285-253 0-505-56-251-56-513-175v2344z\"/></defs><use xlink:href=\"#DejaVuSans-Oblique-71\"/><use transform=\"translate(63.477 -16.406) scale(.7)\" xlink:href=\"#DejaVuSans-35\"/></g></g><g clip-path=\"url(#p09a6436628)\"><g transform=\"translate(36.363 320.72) scale(.1625 -.1625)\"><defs><path id=\"DejaVuSans-36\" transform=\"scale(.015625)\" d=\"m2113 2584q-425 0-674-291-248-290-248-796 0-503 248-796 249-292 674-292t673 292q248 293 248 796 0 506-248 796-248 291-673 291zm1253 1979v-575q-238 112-480 171-242 60-480 60-625 0-955-422-329-422-376-1275 184 272 462 417 279 145 613 145 703 0 1111-427 408-426 408-1160 0-719-425-1154-425-434-1131-434-810 0-1238 620-428 621-428 1799 0 1106 525 1764t1409 658q238 0 480-47t505-140z\"/></defs><use xlink:href=\"#DejaVuSans-Oblique-71\"/><use transform=\"translate(63.477 -16.406) scale(.7)\" xlink:href=\"#DejaVuSans-36\"/></g></g><g clip-path=\"url(#p09a6436628)\"><g transform=\"translate(36.363 366.17) scale(.1625 -.1625)\"><defs><path id=\"DejaVuSans-37\" transform=\"scale(.015625)\" d=\"m525 4666h3e3v-269l-1694-4397h-659l1594 4134h-2241v532z\"/></defs><use xlink:href=\"#DejaVuSans-Oblique-71\"/><use transform=\"translate(63.477 -16.406) scale(.7)\" xlink:href=\"#DejaVuSans-37\"/></g></g><defs><clipPath id=\"p09a6436628\"><rect x=\"7.2\" y=\"7.2\" width=\"110.83\" height=\"381.79\"/></clipPath></defs></svg>"
            ],
            "text/plain": [
              "<Figure size 146.797x505.68 with 1 Axes>"
            ]
          },
          "execution_count": 10,
          "metadata": {
          },
          "output_type": "execute_result"
        }
      ],
      "source": [
        "qc_encode = QuantumCircuit(8)\n",
        "qc_encode.x(1)\n",
        "qc_encode.x(5)\n",
        "\n",
        "qc_encode.draw()"
      ]
    },
    {
      "cell_type": "markdown",
      "metadata": {
      },
      "source": [
        "Jetzt wissen wir, wie man Informationen in einem Computer verschlüsselt. Der nächste Schritt ist die Verarbeitung: Eine Eingabe, die wir codiert haben, in eine Ausgabe umzuwandeln, die wir brauchen."
      ]
    },
    {
      "cell_type": "markdown",
      "metadata": {
      },
      "source": [
        "### 4.2 Merken, wie man hinzufügt<a id=\"remembering-add\"></a>"
      ]
    },
    {
      "cell_type": "markdown",
      "metadata": {
      },
      "source": [
        "Um Inputs in Outputs umzuwandeln, müssen wir ein Problem lösen. Lassen Sie uns einige grundlegende Mathematik tun. In der Grundschule haben Sie gelernt, große mathematische Probleme in überschaubare Stücke zu zerlegen. Wie würden Sie zum Beispiel vorgehen, um die folgende Aufgabe zu lösen?\n",
        "\n",
        "```code\n",
        "   9213\n",
        "+  1854\n",
        "=  ????\n",
        "```\n",
        "\n",
        "Eine Möglichkeit ist, es Ziffer für Ziffer von rechts nach links zu tun. Also fangen wir mit 3+4 an\n",
        "\n",
        "```code\n",
        "   9213\n",
        "+  1854\n",
        "=  ???7\n",
        "```\n",
        "\n",
        "Und dann 1+5\n",
        "\n",
        "```code\n",
        "   9213\n",
        "+  1854\n",
        "=  ??67\n",
        "```\n",
        "\n",
        "Dann haben wir 2+8=10. Da dies eine zweistellige Antwort ist, müssen wir die Eins in die nächste Spalte übertragen.\n",
        "\n",
        "```code\n",
        "   9213\n",
        "+  1854\n",
        "=  ?067\n",
        "   ¹\n",
        "```\n",
        "\n",
        "Schließlich haben wir 9+1+1=11 und bekommen unsere Antwort\n",
        "\n",
        "```code\n",
        "   9213\n",
        "+  1854\n",
        "= 11067\n",
        "   ¹\n",
        "```\n",
        "\n",
        "Dies mag nur eine einfache Addition sein, aber es demonstriert die Prinzipien hinter allen Algorithmen. Ob der Algorithmus darauf ausgelegt ist, mathematische Probleme zu lösen oder Text oder Bilder zu verarbeiten, wir zerlegen große Aufgaben immer in kleine und einfache Schritte.\n",
        "\n",
        "Um auf einem Computer zu laufen, müssen Algorithmen auf die kleinsten und einfachsten Schritte herunterkompiliert werden. Um zu sehen, wie diese aussehen, machen wir das obige Additionsproblem noch einmal, aber in Binärform.\n",
        "\n",
        "```code\n",
        "   10001111111101\n",
        "+  00011100111110\n",
        "                                    \n",
        "=  ??????????????\n",
        "```\n",
        "\n",
        "Beachten Sie, dass die zweite Zahl auf der linken Seite ein paar zusätzliche Nullen hat. Dies dient nur dazu, die beiden Saiten gleich lang zu machen.\n",
        "\n",
        "Unsere erste Aufgabe besteht darin, die 1+0 für die rechte Spalte zu machen. Im Binärsystem ist die Antwort wie in jedem Zahlensystem 1. Wir erhalten das gleiche Ergebnis für die 0+1 der zweiten Spalte.\n",
        "\n",
        "```code\n",
        "   10001111111101\n",
        "+  00011100111110\n",
        "\n",
        "=  ????????????11\n",
        "```\n",
        "\n",
        "Als nächstes haben wir 1+1. Wie Sie sicher wissen, ist 1+1=2. Im Binärformat wird die Zahl 2 als `10` geschrieben und benötigt daher zwei Bits. Das bedeutet, dass wir die 1 übertragen müssen, genauso wie wir es für die Zahl 10 in Dezimalzahlen tun würden.\n",
        "\n",
        "```code\n",
        "   10001111111101\n",
        "+  00011100111110\n",
        "=  ???????????011\n",
        "             ¹\n",
        "```\n",
        "\n",
        "In der nächsten Spalte müssen wir nun `1+1+1` berechnen. Das bedeutet, drei Zahlen zusammenzuzählen, also wird es für unseren Computer kompliziert. Aber wir können es immer noch auf einfachere Operationen herunterkompilieren, und zwar auf eine Weise, bei der wir immer nur zwei Bits addieren müssen. Dazu können wir nur mit den ersten beiden 1en beginnen.\n",
        "\n",
        "```code\n",
        "   1\n",
        "+  1\n",
        "= 10\n",
        "```\n",
        "\n",
        "Jetzt müssen wir diese `10` zur letzten `1` hinzufügen, was mit unserer üblichen Methode zum Durchgehen der Spalten erfolgen kann.\n",
        "\n",
        "```code\n",
        "  10\n",
        "+ 01\n",
        "= 11\n",
        "```\n",
        "\n",
        "Die endgültige Antwort ist `11` (auch bekannt als 3).\n",
        "\n",
        "Jetzt können wir uns dem Rest des Problems zuwenden. Mit der Antwort `11` haben wir ein weiteres Carry-Bit.\n",
        "\n",
        "```code\n",
        "   10001111111101\n",
        "+  00011100111110\n",
        "=  ??????????1011\n",
        "            ¹¹\n",
        "```\n",
        "\n",
        "Jetzt haben wir also ein weiteres 1+1+1 vor uns. Aber wir wissen bereits, wie das geht, also ist es keine große Sache.\n",
        "\n",
        "Tatsächlich ist alles, was bisher übrig geblieben ist, etwas, von dem wir bereits wissen, wie es geht. Das liegt daran, dass, wenn Sie alles in nur zwei Bits aufteilen, es nur vier mögliche Dinge gibt, die Sie jemals berechnen müssen. Hier sind die vier Grundsummen (wir schreiben alle Antworten mit zwei Bits, um konsistent zu sein).\n",
        "\n",
        "```code\n",
        "0+0 = 00 (in decimal, this is 0+0=0)\n",
        "0+1 = 01 (in decimal, this is 0+1=1)\n",
        "1+0 = 01 (in decimal, this is 1+0=1)\n",
        "1+1 = 10 (in decimal, this is 1+1=2)\n",
        "```\n",
        "\n",
        "Dies wird als *Halbaddierer* bezeichnet. Wenn unser Computer dies implementieren und viele davon verketten kann, kann er alles hinzufügen."
      ]
    },
    {
      "cell_type": "markdown",
      "metadata": {
      },
      "source": [
        "### 4.3 Hinzufügen mit Qiskit<a id=\"adding-qiskit\"></a>"
      ]
    },
    {
      "cell_type": "markdown",
      "metadata": {
      },
      "source": [
        "Lassen Sie uns mit Qiskit unseren eigenen Halbaddierer erstellen. Dies umfasst einen Teil der Schaltung, der die Eingabe codiert, einen Teil, der den Algorithmus ausführt, und einen Teil, der das Ergebnis extrahiert. Der erste Teil muss geändert werden, wenn wir eine neue Eingabe verwenden möchten, aber der Rest bleibt immer gleich."
      ]
    },
    {
      "cell_type": "markdown",
      "metadata": {
      },
      "source": [
        "![Halbaddierer, der auf einer Quantenschaltung implementiert ist](images/half-adder.svg)\n"
      ]
    },
    {
      "cell_type": "markdown",
      "metadata": {
        "gloss": {
          "xor": {
            "text": "An XOR gate implements an exclusive or; that is, a true output results if one, and only one, of the inputs to the gate is true. If both inputs are false or both are true, a false output results",
            "title": "XOR gate"
          }
        }
      },
      "source": [
        "Die beiden Bits, die wir hinzufügen möchten, sind in den Qubits 0 und 1 codiert. Das obige Beispiel codiert eine `1` in diesen beiden Qubits und versucht daher, die Lösung von `1+1` zu finden. Das Ergebnis ist eine Zeichenfolge aus zwei Bits, die wir aus den Qubits 2 und 3 auslesen und in den klassischen Bits 0 bzw. 1 speichern.\n",
        "\n",
        "Die Grundoperationen des Rechnens sind als Logikgatter bekannt. Wir haben bereits das NICHT-Gatter verwendet, aber das reicht nicht aus, um unseren Halbaddierer zu machen. Wir konnten es nur verwenden, um die Antworten manuell aufzuschreiben. Da wir möchten, dass der Computer die eigentliche Berechnung für uns erledigt, benötigen wir einige leistungsfähigere Gates.\n",
        "\n",
        "Um zu sehen, was wir brauchen, schauen wir uns noch einmal an, was unser Halbaddierer tun muss.\n",
        "\n",
        "```code\n",
        "0+0 = 00\n",
        "0+1 = 01\n",
        "1+0 = 01\n",
        "1+1 = 10\n",
        "```\n",
        "\n",
        "Das Bit ganz rechts in allen vier Antworten wird vollständig davon bestimmt, ob die beiden Bits, die wir hinzufügen, gleich oder unterschiedlich sind. Also für `0+0` und `1+1` , wo die beiden Bits gleich sind, kommt das ganz rechte Bit der Antwort heraus [[0|1]]. Für `0+1` und `1+0` , wo wir unterschiedliche Bitwerte addieren, ist das Bit ganz rechts [[1|0]].\n",
        "\n",
        "Um diesen Teil unserer Lösung richtig zu machen, brauchen wir etwas, das herausfinden kann, ob zwei Bits unterschiedlich sind oder nicht. Traditionell wird dies beim Studium digitaler Berechnungen als [XOR-Gatter](gloss:xor) bezeichnet.\n",
        "\n",
        "Eingang 1 | Eingang 2 | XOR-Ausgabe\n",
        ":-: | :-: | :-:\n",
        "0 | 0 | 0\n",
        "0 | 1 | 1\n",
        "1 | 0 | 1\n",
        "1 | 1 | 0\n",
        "\n",
        "In Quantencomputern wird die Arbeit des XOR-Gatters vom gesteuerten NICHT-Gatter erledigt. Da das ein ziemlich langer Name ist, nennen wir ihn normalerweise einfach CNOT. In Qiskit heißt es `cx` , was noch kürzer ist. In Schaltplänen wird es wie im Bild unten gezeichnet."
      ]
    },
    {
      "cell_type": "code",
      "execution_count": 11,
      "metadata": {
      },
      "outputs": [
        {
          "data": {
            "image/svg+xml": [
              "<?xml version=\"1.0\" encoding=\"UTF-8\"?><!DOCTYPE svg  PUBLIC '-//W3C//DTD SVG 1.1//EN'  'http://www.w3.org/Graphics/SVG/1.1/DTD/svg11.dtd'><svg width=\"125.12pt\" height=\"123.48pt\" version=\"1.1\" viewBox=\"0 0 125.12 123.48\" xmlns=\"http://www.w3.org/2000/svg\" xmlns:xlink=\"http://www.w3.org/1999/xlink\"><defs><style type=\"text/css\">*{stroke-linecap:butt;stroke-linejoin:round;}</style></defs><path d=\"m0 123.48h125.12v-123.48h-125.12z\" fill=\"#ffffff\"/><path d=\"m63.381 43.561h49.996\" clip-path=\"url(#pe5255c2968)\" fill=\"none\" stroke=\"#000000\" stroke-linecap=\"square\" stroke-width=\"2\"/><path d=\"m63.381 89.012h49.996\" clip-path=\"url(#pe5255c2968)\" fill=\"none\" stroke=\"#000000\" stroke-linecap=\"square\" stroke-width=\"2\"/><path d=\"m87.925 89.012v-45.451\" clip-path=\"url(#pe5255c2968)\" fill=\"none\" stroke=\"#6fa4ff\" stroke-linecap=\"square\" stroke-width=\"2\"/><path d=\"m87.925 47.992c1.1752 0 2.3025-0.46693 3.1335-1.2979 0.83102-0.83102 1.2979-1.9583 1.2979-3.1335s-0.46693-2.3025-1.2979-3.1335c-0.83102-0.83102-1.9583-1.2979-3.1335-1.2979s-2.3025 0.46693-3.1335 1.2979c-0.83102 0.83102-1.2979 1.9583-1.2979 3.1335s0.46693 2.3025 1.2979 3.1335c0.83102 0.83102 1.9583 1.2979 3.1335 1.2979z\" clip-path=\"url(#pe5255c2968)\" fill=\"#6fa4ff\" stroke=\"#6fa4ff\" stroke-width=\"1.5\"/><path d=\"m87.925 99.352c2.7422 0 5.3725-1.0895 7.3116-3.0285 1.939-1.939 3.0285-4.5693 3.0285-7.3116s-1.0895-5.3725-3.0285-7.3116c-1.939-1.939-4.5693-3.0285-7.3116-3.0285s-5.3725 1.0895-7.3116 3.0285c-1.939 1.939-3.0285 4.5693-3.0285 7.3116s1.0895 5.3725 3.0285 7.3116c1.939 1.939 4.5693 3.0285 7.3116 3.0285z\" clip-path=\"url(#pe5255c2968)\" fill=\"#6fa4ff\" stroke=\"#6fa4ff\" stroke-width=\"2\"/><path d=\"m87.925 94.92v-11.817\" clip-path=\"url(#pe5255c2968)\" fill=\"none\" stroke=\"#ffffff\" stroke-linecap=\"square\" stroke-width=\"2\"/><path d=\"m82.016 89.012h11.817\" clip-path=\"url(#pe5255c2968)\" fill=\"none\" stroke=\"#ffffff\" stroke-linecap=\"square\" stroke-width=\"2\"/><g clip-path=\"url(#pe5255c2968)\"><g transform=\"translate(36.253 48.012) scale(.1625 -.1625)\"><defs><path id=\"DejaVuSans-Oblique-71\" transform=\"scale(.015625)\" d=\"m2669 525q-231-303-546-460-314-156-695-156-531 0-833 358-301 358-301 986 0 506 186 978t533 847q225 244 517 375t614 131q387 0 637-153t363-462l100 525h578l-934-4813h-579l360 1844zm-1778 813q0-463 193-705 194-242 560-242 544 0 928 520t384 1264q0 450-199 689-198 239-569 239-272 0-504-127-231-126-403-370-181-256-286-600-104-343-104-668z\"/><path id=\"DejaVuSans-30\" transform=\"scale(.015625)\" d=\"m2034 4250q-487 0-733-480-245-479-245-1442 0-959 245-1439 246-480 733-480 491 0 736 480 246 480 246 1439 0 963-246 1442-245 480-736 480zm0 500q785 0 1199-621 414-620 414-1801 0-1178-414-1799-414-620-1199-620-784 0-1198 620-414 621-414 1799 0 1181 414 1801 414 621 1198 621z\"/></defs><use xlink:href=\"#DejaVuSans-Oblique-71\"/><use transform=\"translate(63.477 -16.406) scale(.7)\" xlink:href=\"#DejaVuSans-30\"/></g></g><g clip-path=\"url(#pe5255c2968)\"><g transform=\"translate(36.253 93.463) scale(.1625 -.1625)\"><defs><path id=\"DejaVuSans-31\" transform=\"scale(.015625)\" d=\"m794 531h1031v3560l-1122-225v575l1116 225h631v-4135h1031v-531h-2687v531z\"/></defs><use xlink:href=\"#DejaVuSans-Oblique-71\"/><use transform=\"translate(63.477 -16.406) scale(.7)\" xlink:href=\"#DejaVuSans-31\"/></g></g><defs><clipPath id=\"pe5255c2968\"><rect x=\"7.2\" y=\"7.2\" width=\"110.72\" height=\"109.08\"/></clipPath></defs></svg>"
            ],
            "text/plain": [
              "<Figure size 146.652x144.48 with 1 Axes>"
            ]
          },
          "execution_count": 11,
          "metadata": {
          },
          "output_type": "execute_result"
        }
      ],
      "source": [
        "qc_cnot = QuantumCircuit(2)\n",
        "qc_cnot.cx(0,1)\n",
        "qc_cnot.draw()"
      ]
    },
    {
      "cell_type": "markdown",
      "metadata": {
      },
      "source": [
        "Dies wird auf ein Paar Qubits angewendet. Eines fungiert als Kontroll-Qubit (das ist das mit dem kleinen Punkt). Das andere fungiert als *Ziel-Qubit* (mit dem großen Kreis, in dem sich ein `+` befindet).\n",
        "\n",
        "Es gibt mehrere Möglichkeiten, die Wirkung der CNOT zu erklären. Eines ist zu sagen, dass es seine zwei Eingangsbits betrachtet, um zu sehen, ob sie gleich oder unterschiedlich sind. Als nächstes überschreibt es das Ziel-Qubit mit der Antwort. Das Ziel wird `0` , wenn sie gleich sind, und `1` , wenn sie unterschiedlich sind.\n",
        "\n",
        "<img src=\"images/cnot_xor.svg\">\n",
        "\n",
        "Eine andere Möglichkeit, CNOT zu erklären, besteht darin, zu sagen, dass es ein NOT auf das Ziel ausführt, wenn die Steuerung `1` ist, und ansonsten nichts tut. Diese Erklärung ist genauso gültig wie die vorherige (tatsächlich gibt sie dem Tor seinen Namen).\n",
        "\n",
        "Probieren Sie das CNOT selbst aus, indem Sie jede der möglichen Eingaben ausprobieren. Hier ist zum Beispiel eine Schaltung, die den CNOT mit dem Eingang `01` testet."
      ]
    },
    {
      "cell_type": "code",
      "execution_count": 12,
      "metadata": {
      },
      "outputs": [
        {
          "data": {
            "image/svg+xml": [
              "<?xml version=\"1.0\" encoding=\"UTF-8\"?><!DOCTYPE svg  PUBLIC '-//W3C//DTD SVG 1.1//EN'  'http://www.w3.org/Graphics/SVG/1.1/DTD/svg11.dtd'><svg width=\"261.48pt\" height=\"168.93pt\" version=\"1.1\" viewBox=\"0 0 261.48 168.93\" xmlns=\"http://www.w3.org/2000/svg\" xmlns:xlink=\"http://www.w3.org/1999/xlink\"><defs><style type=\"text/css\">*{stroke-linecap:butt;stroke-linejoin:round;}</style></defs><path d=\"m0 168.93h261.48v-168.93h-261.48z\" fill=\"#ffffff\"/><path d=\"m172.92 124.12h11.817l-5.9086 8.5221z\" clip-path=\"url(#p8f3b521eb2)\" fill=\"#778899\"/><path d=\"m218.37 124.12h11.817l-5.9086 8.5221z\" clip-path=\"url(#p8f3b521eb2)\" fill=\"#778899\"/><path d=\"m63.381 43.561h186.35\" clip-path=\"url(#p8f3b521eb2)\" fill=\"none\" stroke=\"#000000\" stroke-linecap=\"square\" stroke-width=\"2\"/><path d=\"m63.381 89.012h186.35\" clip-path=\"url(#p8f3b521eb2)\" fill=\"none\" stroke=\"#000000\" stroke-linecap=\"square\" stroke-width=\"2\"/><path d=\"m63.381 132.99h186.35\" clip-path=\"url(#p8f3b521eb2)\" fill=\"none\" stroke=\"#778899\" stroke-linecap=\"square\" stroke-width=\"2\"/><path d=\"m63.381 135.94h186.35\" clip-path=\"url(#p8f3b521eb2)\" fill=\"none\" stroke=\"#778899\" stroke-linecap=\"square\" stroke-width=\"2\"/><path d=\"m133.38 89.012v-45.451\" clip-path=\"url(#p8f3b521eb2)\" fill=\"none\" stroke=\"#6fa4ff\" stroke-linecap=\"square\" stroke-width=\"2\"/><path d=\"m180.3 43.561v80.562\" clip-path=\"url(#p8f3b521eb2)\" fill=\"none\" stroke=\"#778899\" stroke-linecap=\"square\" stroke-width=\"2\"/><path d=\"m177.35 43.561v80.562\" clip-path=\"url(#p8f3b521eb2)\" fill=\"none\" stroke=\"#778899\" stroke-linecap=\"square\" stroke-width=\"2\"/><path d=\"m225.75 89.012v35.111\" clip-path=\"url(#p8f3b521eb2)\" fill=\"none\" stroke=\"#778899\" stroke-linecap=\"square\" stroke-width=\"2\"/><path d=\"m222.8 89.012v35.111\" clip-path=\"url(#p8f3b521eb2)\" fill=\"none\" stroke=\"#778899\" stroke-linecap=\"square\" stroke-width=\"2\"/><path d=\"m72.471 139.01 4.5451-9.0902\" clip-path=\"url(#p8f3b521eb2)\" fill=\"none\" stroke=\"#778899\" stroke-linecap=\"square\" stroke-width=\"1.5\"/><path d=\"m73.153 58.332h29.543v-29.543h-29.543z\" clip-path=\"url(#p8f3b521eb2)\" fill=\"#05bab6\" stroke=\"#05bab6\" stroke-width=\"1.5\"/><path d=\"m133.38 47.992c1.1752 0 2.3025-0.46693 3.1335-1.2979 0.83102-0.83102 1.2979-1.9583 1.2979-3.1335s-0.46693-2.3025-1.2979-3.1335c-0.83102-0.83102-1.9583-1.2979-3.1335-1.2979s-2.3025 0.46693-3.1335 1.2979c-0.83102 0.83102-1.2979 1.9583-1.2979 3.1335s0.46693 2.3025 1.2979 3.1335c0.83102 0.83102 1.9583 1.2979 3.1335 1.2979z\" clip-path=\"url(#p8f3b521eb2)\" fill=\"#6fa4ff\" stroke=\"#6fa4ff\" stroke-width=\"1.5\"/><path d=\"m133.38 99.352c2.7422 0 5.3725-1.0895 7.3116-3.0285 1.939-1.939 3.0285-4.5693 3.0285-7.3116s-1.0895-5.3725-3.0285-7.3116c-1.939-1.939-4.5693-3.0285-7.3116-3.0285s-5.3725 1.0895-7.3116 3.0285c-1.939 1.939-3.0285 4.5693-3.0285 7.3116s1.0895 5.3725 3.0285 7.3116c1.939 1.939 4.5693 3.0285 7.3116 3.0285z\" clip-path=\"url(#p8f3b521eb2)\" fill=\"#6fa4ff\" stroke=\"#6fa4ff\" stroke-width=\"2\"/><path d=\"m164.06 58.332h29.543v-29.543h-29.543z\" clip-path=\"url(#p8f3b521eb2)\" stroke=\"#000000\" stroke-width=\"1.5\"/><path d=\"m189.17 47.992c0-2.7413-1.0901-5.3732-3.0285-7.3116-1.9384-1.9384-4.5702-3.0285-7.3116-3.0285s-5.3732 1.0901-7.3116 3.0285c-1.9384 1.9384-3.0285 4.5702-3.0285 7.3116\" clip-path=\"url(#p8f3b521eb2)\" fill=\"none\" stroke=\"#ffffff\" stroke-width=\"2\"/><path d=\"m209.51 103.78h29.543v-29.543h-29.543z\" clip-path=\"url(#p8f3b521eb2)\" stroke=\"#000000\" stroke-width=\"1.5\"/><path d=\"m234.62 93.443c0-2.7413-1.0901-5.3732-3.0285-7.3116-1.9384-1.9384-4.5702-3.0285-7.3116-3.0285s-5.3732 1.0901-7.3116 3.0285c-1.9384 1.9384-3.0285 4.5702-3.0285 7.3116\" clip-path=\"url(#p8f3b521eb2)\" fill=\"none\" stroke=\"#ffffff\" stroke-width=\"2\"/><path d=\"m178.83 47.992 10.34-10.34\" clip-path=\"url(#p8f3b521eb2)\" fill=\"none\" stroke=\"#ffffff\" stroke-linecap=\"square\" stroke-width=\"2\"/><path d=\"m224.28 93.443 10.34-10.34\" clip-path=\"url(#p8f3b521eb2)\" fill=\"none\" stroke=\"#ffffff\" stroke-linecap=\"square\" stroke-width=\"2\"/><path d=\"m133.38 94.92v-11.817\" clip-path=\"url(#p8f3b521eb2)\" fill=\"none\" stroke=\"#ffffff\" stroke-linecap=\"square\" stroke-width=\"2\"/><path d=\"m127.47 89.012h11.817\" clip-path=\"url(#p8f3b521eb2)\" fill=\"none\" stroke=\"#ffffff\" stroke-linecap=\"square\" stroke-width=\"2\"/><g clip-path=\"url(#p8f3b521eb2)\"><g transform=\"translate(83.472 47.148) scale(.13 -.13)\"><defs><path id=\"DejaVuSans-58\" transform=\"scale(.015625)\" d=\"m403 4666h678l1160-1735 1165 1735h678l-1500-2241 1600-2425h-678l-1312 1984-1322-1984h-681l1665 2491-1453 2175z\"/></defs><use xlink:href=\"#DejaVuSans-58\"/></g></g><g clip-path=\"url(#p8f3b521eb2)\"><g transform=\"translate(190.19 127.75) scale(.104 -.104)\"><defs><path id=\"DejaVuSans-30\" transform=\"scale(.015625)\" d=\"m2034 4250q-487 0-733-480-245-479-245-1442 0-959 245-1439 246-480 733-480 491 0 736 480 246 480 246 1439 0 963-246 1442-245 480-736 480zm0 500q785 0 1199-621 414-620 414-1801 0-1178-414-1799-414-620-1199-620-784 0-1198 620-414 621-414 1799 0 1181 414 1801 414 621 1198 621z\"/></defs><use xlink:href=\"#DejaVuSans-30\"/></g></g><g clip-path=\"url(#p8f3b521eb2)\"><g transform=\"translate(235.64 127.75) scale(.104 -.104)\"><defs><path id=\"DejaVuSans-31\" transform=\"scale(.015625)\" d=\"m794 531h1031v3560l-1122-225v575l1116 225h631v-4135h1031v-531h-2687v531z\"/></defs><use xlink:href=\"#DejaVuSans-31\"/></g></g><g clip-path=\"url(#p8f3b521eb2)\"><g transform=\"translate(36.253 48.012) scale(.1625 -.1625)\"><defs><path id=\"DejaVuSans-Oblique-71\" transform=\"scale(.015625)\" d=\"m2669 525q-231-303-546-460-314-156-695-156-531 0-833 358-301 358-301 986 0 506 186 978t533 847q225 244 517 375t614 131q387 0 637-153t363-462l100 525h578l-934-4813h-579l360 1844zm-1778 813q0-463 193-705 194-242 560-242 544 0 928 520t384 1264q0 450-199 689-198 239-569 239-272 0-504-127-231-126-403-370-181-256-286-600-104-343-104-668z\"/></defs><use xlink:href=\"#DejaVuSans-Oblique-71\"/><use transform=\"translate(63.477 -16.406) scale(.7)\" xlink:href=\"#DejaVuSans-30\"/></g></g><g clip-path=\"url(#p8f3b521eb2)\"><g transform=\"translate(36.253 93.463) scale(.1625 -.1625)\"><use xlink:href=\"#DejaVuSans-Oblique-71\"/><use transform=\"translate(63.477 -16.406) scale(.7)\" xlink:href=\"#DejaVuSans-31\"/></g></g><g clip-path=\"url(#p8f3b521eb2)\"><g transform=\"translate(67.926 127.75) scale(.104 -.104)\"><defs><path id=\"DejaVuSans-32\" transform=\"scale(.015625)\" d=\"m1228 531h2203v-531h-2962v531q359 372 979 998 621 627 780 809 303 340 423 576 121 236 121 464 0 372-261 606-261 235-680 235-297 0-627-103-329-103-704-313v638q381 153 712 231 332 78 607 78 725 0 1156-363 431-362 431-968 0-288-108-546-107-257-392-607-78-91-497-524-418-433-1181-1211z\"/></defs><use xlink:href=\"#DejaVuSans-32\"/></g></g><g clip-path=\"url(#p8f3b521eb2)\"><g transform=\"translate(45.356 138.95) scale(.1625 -.1625)\"><defs><path id=\"DejaVuSans-63\" transform=\"scale(.015625)\" d=\"m3122 3366v-538q-244 135-489 202t-495 67q-560 0-870-355-309-354-309-995t309-996q310-354 870-354 250 0 495 67t489 202v-532q-241-112-499-168-257-57-548-57-791 0-1257 497-465 497-465 1341 0 856 470 1346 471 491 1290 491 265 0 518-55 253-54 491-163z\"/></defs><use xlink:href=\"#DejaVuSans-63\"/></g></g><defs><clipPath id=\"p8f3b521eb2\"><rect x=\"7.2\" y=\"7.2\" width=\"247.08\" height=\"154.53\"/></clipPath></defs></svg>"
            ],
            "text/plain": [
              "<Figure size 327.252x204.68 with 1 Axes>"
            ]
          },
          "execution_count": 12,
          "metadata": {
          },
          "output_type": "execute_result"
        }
      ],
      "source": [
        "qc = QuantumCircuit(2,2)\n",
        "qc.x(0)\n",
        "qc.cx(0,1)\n",
        "qc.measure(0,0)\n",
        "qc.measure(1,1)\n",
        "qc.draw()"
      ]
    },
    {
      "cell_type": "markdown",
      "metadata": {
      },
      "source": [
        "Wenn Sie diese Schaltung ausführen, werden Sie feststellen, dass der Ausgang `11` ist. Wir können uns vorstellen, dass dies aus einem der folgenden Gründe geschieht.\n",
        "\n",
        "- Der CNOT berechnet, ob die Eingabewerte unterschiedlich sind, und stellt fest, dass dies der Fall ist, was bedeutet, dass er `1` ausgeben möchte. Dies geschieht, indem der Zustand von Qubit 1 (der sich, wie Sie wissen, links von der Bitfolge befindet) überschrieben wird, wodurch `01` in `11` umgewandelt wird.\n",
        "\n",
        "- Der CNOT sieht, dass sich Qubit 0 im Zustand `1` befindet, und wendet daher ein NOT auf Qubit 1 an. Dadurch wird die `0` von Qubit 1 in eine `1` gekippt und so `01` in `11` umgewandelt.\n",
        "\n",
        "Hier ist eine Tabelle, die alle möglichen Eingänge und entsprechenden Ausgänge des CNOT-Gatters zeigt:\n",
        "\n",
        "Eingang (q1 q0) | Ausgang (q1 q0)\n",
        ":-: | :-:\n",
        "00 | 00\n",
        "01 | 11\n",
        "10 | 10\n",
        "11 | 01\n",
        "\n",
        "Für unseren Halbaddierer wollen wir keinen unserer Eingänge überschreiben. Stattdessen wollen wir das Ergebnis auf ein anderes Qubit-Paar schreiben. Dafür können wir zwei CNOTs verwenden."
      ]
    },
    {
      "cell_type": "code",
      "execution_count": 13,
      "metadata": {
      },
      "outputs": [
        {
          "data": {
            "image/svg+xml": [
              "<?xml version=\"1.0\" encoding=\"UTF-8\"?><!DOCTYPE svg  PUBLIC '-//W3C//DTD SVG 1.1//EN'  'http://www.w3.org/Graphics/SVG/1.1/DTD/svg11.dtd'><svg width=\"397.94pt\" height=\"259.84pt\" version=\"1.1\" viewBox=\"0 0 397.94 259.84\" xmlns=\"http://www.w3.org/2000/svg\" xmlns:xlink=\"http://www.w3.org/1999/xlink\"><defs><style type=\"text/css\">*{stroke-linecap:butt;stroke-linejoin:round;}</style></defs><path d=\"m0 259.84h397.94v-259.84h-397.94z\" fill=\"#ffffff\"/><path d=\"m309.38 215.02h11.817l-5.9086 8.5221z\" clip-path=\"url(#p0da38d45c0)\" fill=\"#778899\"/><path d=\"m354.83 215.02h11.817l-5.9086 8.5221z\" clip-path=\"url(#p0da38d45c0)\" fill=\"#778899\"/><path d=\"m63.491 43.561h322.7\" clip-path=\"url(#p0da38d45c0)\" fill=\"none\" stroke=\"#000000\" stroke-linecap=\"square\" stroke-width=\"2\"/><path d=\"m63.491 89.012h322.7\" clip-path=\"url(#p0da38d45c0)\" fill=\"none\" stroke=\"#000000\" stroke-linecap=\"square\" stroke-width=\"2\"/><path d=\"m63.491 134.46h322.7\" clip-path=\"url(#p0da38d45c0)\" fill=\"none\" stroke=\"#000000\" stroke-linecap=\"square\" stroke-width=\"2\"/><path d=\"m63.491 179.91h322.7\" clip-path=\"url(#p0da38d45c0)\" fill=\"none\" stroke=\"#000000\" stroke-linecap=\"square\" stroke-width=\"2\"/><path d=\"m63.491 223.89h322.7\" clip-path=\"url(#p0da38d45c0)\" fill=\"none\" stroke=\"#778899\" stroke-linecap=\"square\" stroke-width=\"2\"/><path d=\"m63.491 226.84h322.7\" clip-path=\"url(#p0da38d45c0)\" fill=\"none\" stroke=\"#778899\" stroke-linecap=\"square\" stroke-width=\"2\"/><path d=\"m124.62 66.286h17.726v-45.451h-17.726z\" clip-path=\"url(#p0da38d45c0)\" fill=\"#bdbdbd\" opacity=\".6\"/><path d=\"m124.62 111.74h17.726v-45.451h-17.726z\" clip-path=\"url(#p0da38d45c0)\" fill=\"#bdbdbd\" opacity=\".6\"/><path d=\"m124.62 157.19h17.726v-45.451h-17.726z\" clip-path=\"url(#p0da38d45c0)\" fill=\"#bdbdbd\" opacity=\".6\"/><path d=\"m124.62 202.64h17.726v-45.451h-17.726z\" clip-path=\"url(#p0da38d45c0)\" fill=\"#bdbdbd\" opacity=\".6\"/><path d=\"m260.98 66.286h17.726v-45.451h-17.726z\" clip-path=\"url(#p0da38d45c0)\" fill=\"#bdbdbd\" opacity=\".6\"/><path d=\"m260.98 111.74h17.726v-45.451h-17.726z\" clip-path=\"url(#p0da38d45c0)\" fill=\"#bdbdbd\" opacity=\".6\"/><path d=\"m260.98 157.19h17.726v-45.451h-17.726z\" clip-path=\"url(#p0da38d45c0)\" fill=\"#bdbdbd\" opacity=\".6\"/><path d=\"m260.98 202.64h17.726v-45.451h-17.726z\" clip-path=\"url(#p0da38d45c0)\" fill=\"#bdbdbd\" opacity=\".6\"/><path d=\"m178.94 134.46v-90.902\" clip-path=\"url(#p0da38d45c0)\" fill=\"none\" stroke=\"#6fa4ff\" stroke-linecap=\"square\" stroke-width=\"2\"/><path d=\"m224.39 134.46v-45.451\" clip-path=\"url(#p0da38d45c0)\" fill=\"none\" stroke=\"#6fa4ff\" stroke-linecap=\"square\" stroke-width=\"2\"/><path d=\"m316.77 134.46v80.562\" clip-path=\"url(#p0da38d45c0)\" fill=\"none\" stroke=\"#778899\" stroke-linecap=\"square\" stroke-width=\"2\"/><path d=\"m313.81 134.46v80.562\" clip-path=\"url(#p0da38d45c0)\" fill=\"none\" stroke=\"#778899\" stroke-linecap=\"square\" stroke-width=\"2\"/><path d=\"m362.22 179.91v35.111\" clip-path=\"url(#p0da38d45c0)\" fill=\"none\" stroke=\"#778899\" stroke-linecap=\"square\" stroke-width=\"2\"/><path d=\"m359.26 179.91v35.111\" clip-path=\"url(#p0da38d45c0)\" fill=\"none\" stroke=\"#778899\" stroke-linecap=\"square\" stroke-width=\"2\"/><path d=\"m72.581 229.91 4.5451-9.0902\" clip-path=\"url(#p0da38d45c0)\" fill=\"none\" stroke=\"#778899\" stroke-linecap=\"square\" stroke-width=\"1.5\"/><path d=\"m73.263 58.332h29.543v-29.543h-29.543z\" clip-path=\"url(#p0da38d45c0)\" fill=\"#05bab6\" stroke=\"#05bab6\" stroke-width=\"1.5\"/><path d=\"m73.263 103.78h29.543v-29.543h-29.543z\" clip-path=\"url(#p0da38d45c0)\" fill=\"#05bab6\" stroke=\"#05bab6\" stroke-width=\"1.5\"/><path d=\"m178.94 47.992c1.1752 0 2.3025-0.46693 3.1335-1.2979 0.83102-0.83102 1.2979-1.9583 1.2979-3.1335s-0.46693-2.3025-1.2979-3.1335c-0.83102-0.83102-1.9583-1.2979-3.1335-1.2979s-2.3025 0.46693-3.1335 1.2979c-0.83102 0.83102-1.2979 1.9583-1.2979 3.1335s0.46693 2.3025 1.2979 3.1335c0.83102 0.83102 1.9583 1.2979 3.1335 1.2979z\" clip-path=\"url(#p0da38d45c0)\" fill=\"#6fa4ff\" stroke=\"#6fa4ff\" stroke-width=\"1.5\"/><path d=\"m178.94 144.8c2.7422 0 5.3725-1.0895 7.3116-3.0285 1.939-1.939 3.0285-4.5693 3.0285-7.3116s-1.0895-5.3725-3.0285-7.3116c-1.939-1.939-4.5693-3.0285-7.3116-3.0285s-5.3725 1.0895-7.3116 3.0285c-1.939 1.939-3.0285 4.5693-3.0285 7.3116s1.0895 5.3725 3.0285 7.3116c1.939 1.939 4.5693 3.0285 7.3116 3.0285z\" clip-path=\"url(#p0da38d45c0)\" fill=\"#6fa4ff\" stroke=\"#6fa4ff\" stroke-width=\"2\"/><path d=\"m224.39 93.443c1.1752 0 2.3025-0.46693 3.1335-1.2979 0.83102-0.83102 1.2979-1.9583 1.2979-3.1335s-0.46693-2.3025-1.2979-3.1335c-0.83102-0.83102-1.9583-1.2979-3.1335-1.2979s-2.3025 0.46693-3.1335 1.2979c-0.83102 0.83102-1.2979 1.9583-1.2979 3.1335s0.46693 2.3025 1.2979 3.1335c0.83102 0.83102 1.9583 1.2979 3.1335 1.2979z\" clip-path=\"url(#p0da38d45c0)\" fill=\"#6fa4ff\" stroke=\"#6fa4ff\" stroke-width=\"1.5\"/><path d=\"m224.39 144.8c2.7422 0 5.3725-1.0895 7.3116-3.0285 1.939-1.939 3.0285-4.5693 3.0285-7.3116s-1.0895-5.3725-3.0285-7.3116c-1.939-1.939-4.5693-3.0285-7.3116-3.0285s-5.3725 1.0895-7.3116 3.0285c-1.939 1.939-3.0285 4.5693-3.0285 7.3116s1.0895 5.3725 3.0285 7.3116c1.939 1.939 4.5693 3.0285 7.3116 3.0285z\" clip-path=\"url(#p0da38d45c0)\" fill=\"#6fa4ff\" stroke=\"#6fa4ff\" stroke-width=\"2\"/><path d=\"m300.52 149.23h29.543v-29.543h-29.543z\" clip-path=\"url(#p0da38d45c0)\" stroke=\"#000000\" stroke-width=\"1.5\"/><path d=\"m325.63 138.89c0-2.7413-1.0901-5.3732-3.0285-7.3116s-4.5702-3.0285-7.3116-3.0285-5.3732 1.0901-7.3116 3.0285c-1.9384 1.9384-3.0285 4.5702-3.0285 7.3116\" clip-path=\"url(#p0da38d45c0)\" fill=\"none\" stroke=\"#ffffff\" stroke-width=\"2\"/><path d=\"m345.97 194.69h29.543v-29.543h-29.543z\" clip-path=\"url(#p0da38d45c0)\" stroke=\"#000000\" stroke-width=\"1.5\"/><path d=\"m371.08 184.35c0-2.7413-1.0901-5.3732-3.0285-7.3116s-4.5702-3.0285-7.3116-3.0285-5.3732 1.0901-7.3116 3.0285c-1.9384 1.9384-3.0285 4.5702-3.0285 7.3116\" clip-path=\"url(#p0da38d45c0)\" fill=\"none\" stroke=\"#ffffff\" stroke-width=\"2\"/><path d=\"m315.29 138.89 10.34-10.34\" clip-path=\"url(#p0da38d45c0)\" fill=\"none\" stroke=\"#ffffff\" stroke-linecap=\"square\" stroke-width=\"2\"/><path d=\"m360.74 184.35 10.34-10.34\" clip-path=\"url(#p0da38d45c0)\" fill=\"none\" stroke=\"#ffffff\" stroke-linecap=\"square\" stroke-width=\"2\"/><path d=\"m133.49 20.835v45.451\" clip-path=\"url(#p0da38d45c0)\" fill=\"none\" stroke=\"#000000\" stroke-dasharray=\"3.7,1.6\"/><path d=\"m133.49 66.286v45.451\" clip-path=\"url(#p0da38d45c0)\" fill=\"none\" stroke=\"#000000\" stroke-dasharray=\"3.7,1.6\"/><path d=\"m133.49 111.74v45.451\" clip-path=\"url(#p0da38d45c0)\" fill=\"none\" stroke=\"#000000\" stroke-dasharray=\"3.7,1.6\"/><path d=\"m133.49 157.19v45.451\" clip-path=\"url(#p0da38d45c0)\" fill=\"none\" stroke=\"#000000\" stroke-dasharray=\"3.7,1.6\"/><path d=\"m178.94 140.37v-11.817\" clip-path=\"url(#p0da38d45c0)\" fill=\"none\" stroke=\"#ffffff\" stroke-linecap=\"square\" stroke-width=\"2\"/><path d=\"m173.03 134.46h11.817\" clip-path=\"url(#p0da38d45c0)\" fill=\"none\" stroke=\"#ffffff\" stroke-linecap=\"square\" stroke-width=\"2\"/><path d=\"m224.39 140.37v-11.817\" clip-path=\"url(#p0da38d45c0)\" fill=\"none\" stroke=\"#ffffff\" stroke-linecap=\"square\" stroke-width=\"2\"/><path d=\"m218.48 134.46h11.817\" clip-path=\"url(#p0da38d45c0)\" fill=\"none\" stroke=\"#ffffff\" stroke-linecap=\"square\" stroke-width=\"2\"/><path d=\"m269.84 20.835v45.451\" clip-path=\"url(#p0da38d45c0)\" fill=\"none\" stroke=\"#000000\" stroke-dasharray=\"3.7,1.6\"/><path d=\"m269.84 66.286v45.451\" clip-path=\"url(#p0da38d45c0)\" fill=\"none\" stroke=\"#000000\" stroke-dasharray=\"3.7,1.6\"/><path d=\"m269.84 111.74v45.451\" clip-path=\"url(#p0da38d45c0)\" fill=\"none\" stroke=\"#000000\" stroke-dasharray=\"3.7,1.6\"/><path d=\"m269.84 157.19v45.451\" clip-path=\"url(#p0da38d45c0)\" fill=\"none\" stroke=\"#000000\" stroke-dasharray=\"3.7,1.6\"/><g clip-path=\"url(#p0da38d45c0)\"><g transform=\"translate(83.582 47.148) scale(.13 -.13)\"><defs><path id=\"DejaVuSans-58\" transform=\"scale(.015625)\" d=\"m403 4666h678l1160-1735 1165 1735h678l-1500-2241 1600-2425h-678l-1312 1984-1322-1984h-681l1665 2491-1453 2175z\"/></defs><use xlink:href=\"#DejaVuSans-58\"/></g></g><g clip-path=\"url(#p0da38d45c0)\"><g transform=\"translate(83.582 92.599) scale(.13 -.13)\"><use xlink:href=\"#DejaVuSans-58\"/></g></g><g clip-path=\"url(#p0da38d45c0)\"><g transform=\"translate(326.65 218.66) scale(.104 -.104)\"><defs><path id=\"DejaVuSans-30\" transform=\"scale(.015625)\" d=\"m2034 4250q-487 0-733-480-245-479-245-1442 0-959 245-1439 246-480 733-480 491 0 736 480 246 480 246 1439 0 963-246 1442-245 480-736 480zm0 500q785 0 1199-621 414-620 414-1801 0-1178-414-1799-414-620-1199-620-784 0-1198 620-414 621-414 1799 0 1181 414 1801 414 621 1198 621z\"/></defs><use xlink:href=\"#DejaVuSans-30\"/></g></g><g clip-path=\"url(#p0da38d45c0)\"><g transform=\"translate(372.1 218.66) scale(.104 -.104)\"><defs><path id=\"DejaVuSans-31\" transform=\"scale(.015625)\" d=\"m794 531h1031v3560l-1122-225v575l1116 225h631v-4135h1031v-531h-2687v531z\"/></defs><use xlink:href=\"#DejaVuSans-31\"/></g></g><g clip-path=\"url(#p0da38d45c0)\"><g transform=\"translate(36.363 48.012) scale(.1625 -.1625)\"><defs><path id=\"DejaVuSans-Oblique-71\" transform=\"scale(.015625)\" d=\"m2669 525q-231-303-546-460-314-156-695-156-531 0-833 358-301 358-301 986 0 506 186 978t533 847q225 244 517 375t614 131q387 0 637-153t363-462l100 525h578l-934-4813h-579l360 1844zm-1778 813q0-463 193-705 194-242 560-242 544 0 928 520t384 1264q0 450-199 689-198 239-569 239-272 0-504-127-231-126-403-370-181-256-286-600-104-343-104-668z\"/></defs><use xlink:href=\"#DejaVuSans-Oblique-71\"/><use transform=\"translate(63.477 -16.406) scale(.7)\" xlink:href=\"#DejaVuSans-30\"/></g></g><g clip-path=\"url(#p0da38d45c0)\"><g transform=\"translate(36.363 93.463) scale(.1625 -.1625)\"><use xlink:href=\"#DejaVuSans-Oblique-71\"/><use transform=\"translate(63.477 -16.406) scale(.7)\" xlink:href=\"#DejaVuSans-31\"/></g></g><g clip-path=\"url(#p0da38d45c0)\"><g transform=\"translate(36.363 138.91) scale(.1625 -.1625)\"><defs><path id=\"DejaVuSans-32\" transform=\"scale(.015625)\" d=\"m1228 531h2203v-531h-2962v531q359 372 979 998 621 627 780 809 303 340 423 576 121 236 121 464 0 372-261 606-261 235-680 235-297 0-627-103-329-103-704-313v638q381 153 712 231 332 78 607 78 725 0 1156-363 431-362 431-968 0-288-108-546-107-257-392-607-78-91-497-524-418-433-1181-1211z\"/></defs><use xlink:href=\"#DejaVuSans-Oblique-71\"/><use transform=\"translate(63.477 -16.406) scale(.7)\" xlink:href=\"#DejaVuSans-32\"/></g></g><g clip-path=\"url(#p0da38d45c0)\"><g transform=\"translate(36.363 184.36) scale(.1625 -.1625)\"><defs><path id=\"DejaVuSans-33\" transform=\"scale(.015625)\" d=\"m2597 2516q453-97 707-404 255-306 255-756 0-690-475-1069-475-378-1350-378-293 0-604 58t-642 174v609q262-153 574-231 313-78 654-78 593 0 904 234t311 681q0 413-289 645-289 233-804 233h-544v519h569q465 0 712 186t247 536q0 359-255 551-254 193-729 193-260 0-557-57-297-56-653-174v562q360 100 674 150t592 50q719 0 1137-327 419-326 419-882 0-388-222-655t-631-370z\"/></defs><use xlink:href=\"#DejaVuSans-Oblique-71\"/><use transform=\"translate(63.477 -16.406) scale(.7)\" xlink:href=\"#DejaVuSans-33\"/></g></g><g clip-path=\"url(#p0da38d45c0)\"><g transform=\"translate(68.036 218.66) scale(.104 -.104)\"><use xlink:href=\"#DejaVuSans-32\"/></g></g><g clip-path=\"url(#p0da38d45c0)\"><g transform=\"translate(45.466 229.85) scale(.1625 -.1625)\"><defs><path id=\"DejaVuSans-63\" transform=\"scale(.015625)\" d=\"m3122 3366v-538q-244 135-489 202t-495 67q-560 0-870-355-309-354-309-995t309-996q310-354 870-354 250 0 495 67t489 202v-532q-241-112-499-168-257-57-548-57-791 0-1257 497-465 497-465 1341 0 856 470 1346 471 491 1290 491 265 0 518-55 253-54 491-163z\"/></defs><use xlink:href=\"#DejaVuSans-63\"/></g></g><defs><clipPath id=\"p0da38d45c0\"><rect x=\"7.2\" y=\"7.2\" width=\"383.54\" height=\"245.44\"/></clipPath></defs></svg>"
            ],
            "text/plain": [
              "<Figure size 507.997x325.08 with 1 Axes>"
            ]
          },
          "execution_count": 13,
          "metadata": {
          },
          "output_type": "execute_result"
        }
      ],
      "source": [
        "qc_ha = QuantumCircuit(4,2)\n",
        "# encode inputs in qubits 0 and 1\n",
        "qc_ha.x(0) # For a=0, remove this line. For a=1, leave it.\n",
        "qc_ha.x(1) # For b=0, remove this line. For b=1, leave it.\n",
        "qc_ha.barrier()\n",
        "# use cnots to write the XOR of the inputs on qubit 2\n",
        "qc_ha.cx(0,2)\n",
        "qc_ha.cx(1,2)\n",
        "qc_ha.barrier()\n",
        "# extract outputs\n",
        "qc_ha.measure(2,0) # extract XOR value\n",
        "qc_ha.measure(3,1)\n",
        "\n",
        "qc_ha.draw()"
      ]
    },
    {
      "cell_type": "markdown",
      "metadata": {
        "gloss": {
          "toffoli": {
            "text": "The Toffoli gate, invented by Tommaso Toffoli, is a universal reversible logic gate, which means that any reversible circuit can be constructed from Toffoli gates. It is also known as the _controlled-controlled-not_ gate, which describes its action. It has 3-bit inputs and outputs; if the first two bits are both set to 1, it inverts the third bit, otherwise all bits stay the same.",
            "title": "Toffoli"
          }
        }
      },
      "source": [
        "Wir sind jetzt auf halbem Weg zu einem voll funktionsfähigen Halbaddierer. Wir haben nur noch das andere Bit der Ausgabe zu erledigen: dasjenige, das auf Qubit 3 leben wird.\n",
        "\n",
        "Wenn Sie sich die vier möglichen Summen noch einmal ansehen, werden Sie feststellen, dass es nur einen Fall gibt, bei dem dies `1` statt `0` ist: `1+1` = `10` . Es passiert nur, wenn beide Bits, die wir hinzufügen, `1` sind.\n",
        "\n",
        "Um diesen Teil der Ausgabe zu berechnen, könnten wir unseren Computer einfach dazu bringen, zu prüfen, ob beide Eingaben `1` sind. Wenn sie es sind – und nur wenn sie es sind – müssen wir ein NICHT-Gatter auf Qubit 3 machen. Das wird es nur für diesen Fall auf den erforderlichen Wert von `1` umdrehen und uns die Ausgabe geben, die wir brauchen.\n",
        "\n",
        "Dafür brauchen wir ein neues Gate: wie ein CNOT, aber gesteuert auf zwei Qubits statt nur auf einem. Dadurch wird nur dann ein NOT für das Ziel-Qubit ausgeführt, wenn sich beide Steuerelemente im Zustand `1` befinden. Dieses neue Tor heißt [Toffoli](gloss:toffoli) . Für diejenigen unter Ihnen, die mit booleschen Logikgattern vertraut sind, handelt es sich im Grunde genommen um ein UND-Gatter.\n",
        "\n",
        "In Qiskit wird der Toffoli mit dem `ccx` Befehl dargestellt."
      ]
    },
    {
      "cell_type": "code",
      "execution_count": 14,
      "metadata": {
      },
      "outputs": [
        {
          "data": {
            "image/svg+xml": [
              "<?xml version=\"1.0\" encoding=\"UTF-8\"?><!DOCTYPE svg  PUBLIC '-//W3C//DTD SVG 1.1//EN'  'http://www.w3.org/Graphics/SVG/1.1/DTD/svg11.dtd'><svg width=\"443.39pt\" height=\"259.84pt\" version=\"1.1\" viewBox=\"0 0 443.39 259.84\" xmlns=\"http://www.w3.org/2000/svg\" xmlns:xlink=\"http://www.w3.org/1999/xlink\"><defs><style type=\"text/css\">*{stroke-linecap:butt;stroke-linejoin:round;}</style></defs><path d=\"m0 259.84h443.39v-259.84h-443.39z\" fill=\"#ffffff\"/><path d=\"m354.83 215.02h11.817l-5.9086 8.5221z\" clip-path=\"url(#p4e207b9b32)\" fill=\"#778899\"/><path d=\"m400.28 215.02h11.817l-5.9086 8.5221z\" clip-path=\"url(#p4e207b9b32)\" fill=\"#778899\"/><path d=\"m63.491 43.561h368.15\" clip-path=\"url(#p4e207b9b32)\" fill=\"none\" stroke=\"#000000\" stroke-linecap=\"square\" stroke-width=\"2\"/><path d=\"m63.491 89.012h368.15\" clip-path=\"url(#p4e207b9b32)\" fill=\"none\" stroke=\"#000000\" stroke-linecap=\"square\" stroke-width=\"2\"/><path d=\"m63.491 134.46h368.15\" clip-path=\"url(#p4e207b9b32)\" fill=\"none\" stroke=\"#000000\" stroke-linecap=\"square\" stroke-width=\"2\"/><path d=\"m63.491 179.91h368.15\" clip-path=\"url(#p4e207b9b32)\" fill=\"none\" stroke=\"#000000\" stroke-linecap=\"square\" stroke-width=\"2\"/><path d=\"m63.491 223.89h368.15\" clip-path=\"url(#p4e207b9b32)\" fill=\"none\" stroke=\"#778899\" stroke-linecap=\"square\" stroke-width=\"2\"/><path d=\"m63.491 226.84h368.15\" clip-path=\"url(#p4e207b9b32)\" fill=\"none\" stroke=\"#778899\" stroke-linecap=\"square\" stroke-width=\"2\"/><path d=\"m124.62 66.286h17.726v-45.451h-17.726z\" clip-path=\"url(#p4e207b9b32)\" fill=\"#bdbdbd\" opacity=\".6\"/><path d=\"m124.62 111.74h17.726v-45.451h-17.726z\" clip-path=\"url(#p4e207b9b32)\" fill=\"#bdbdbd\" opacity=\".6\"/><path d=\"m124.62 157.19h17.726v-45.451h-17.726z\" clip-path=\"url(#p4e207b9b32)\" fill=\"#bdbdbd\" opacity=\".6\"/><path d=\"m124.62 202.64h17.726v-45.451h-17.726z\" clip-path=\"url(#p4e207b9b32)\" fill=\"#bdbdbd\" opacity=\".6\"/><path d=\"m306.43 66.286h17.726v-45.451h-17.726z\" clip-path=\"url(#p4e207b9b32)\" fill=\"#bdbdbd\" opacity=\".6\"/><path d=\"m306.43 111.74h17.726v-45.451h-17.726z\" clip-path=\"url(#p4e207b9b32)\" fill=\"#bdbdbd\" opacity=\".6\"/><path d=\"m306.43 157.19h17.726v-45.451h-17.726z\" clip-path=\"url(#p4e207b9b32)\" fill=\"#bdbdbd\" opacity=\".6\"/><path d=\"m306.43 202.64h17.726v-45.451h-17.726z\" clip-path=\"url(#p4e207b9b32)\" fill=\"#bdbdbd\" opacity=\".6\"/><path d=\"m178.94 134.46v-90.902\" clip-path=\"url(#p4e207b9b32)\" fill=\"none\" stroke=\"#6fa4ff\" stroke-linecap=\"square\" stroke-width=\"2\"/><path d=\"m224.39 134.46v-45.451\" clip-path=\"url(#p4e207b9b32)\" fill=\"none\" stroke=\"#6fa4ff\" stroke-linecap=\"square\" stroke-width=\"2\"/><path d=\"m269.84 179.91v-136.35\" clip-path=\"url(#p4e207b9b32)\" fill=\"none\" stroke=\"#bb8bff\" stroke-linecap=\"square\" stroke-width=\"2\"/><path d=\"m362.22 134.46v80.562\" clip-path=\"url(#p4e207b9b32)\" fill=\"none\" stroke=\"#778899\" stroke-linecap=\"square\" stroke-width=\"2\"/><path d=\"m359.26 134.46v80.562\" clip-path=\"url(#p4e207b9b32)\" fill=\"none\" stroke=\"#778899\" stroke-linecap=\"square\" stroke-width=\"2\"/><path d=\"m407.67 179.91v35.111\" clip-path=\"url(#p4e207b9b32)\" fill=\"none\" stroke=\"#778899\" stroke-linecap=\"square\" stroke-width=\"2\"/><path d=\"m404.71 179.91v35.111\" clip-path=\"url(#p4e207b9b32)\" fill=\"none\" stroke=\"#778899\" stroke-linecap=\"square\" stroke-width=\"2\"/><path d=\"m72.581 229.91 4.5451-9.0902\" clip-path=\"url(#p4e207b9b32)\" fill=\"none\" stroke=\"#778899\" stroke-linecap=\"square\" stroke-width=\"1.5\"/><path d=\"m73.263 58.332h29.543v-29.543h-29.543z\" clip-path=\"url(#p4e207b9b32)\" fill=\"#05bab6\" stroke=\"#05bab6\" stroke-width=\"1.5\"/><path d=\"m73.263 103.78h29.543v-29.543h-29.543z\" clip-path=\"url(#p4e207b9b32)\" fill=\"#05bab6\" stroke=\"#05bab6\" stroke-width=\"1.5\"/><path d=\"m178.94 47.992c1.1752 0 2.3025-0.46693 3.1335-1.2979 0.83102-0.83102 1.2979-1.9583 1.2979-3.1335s-0.46693-2.3025-1.2979-3.1335c-0.83102-0.83102-1.9583-1.2979-3.1335-1.2979s-2.3025 0.46693-3.1335 1.2979c-0.83102 0.83102-1.2979 1.9583-1.2979 3.1335s0.46693 2.3025 1.2979 3.1335c0.83102 0.83102 1.9583 1.2979 3.1335 1.2979z\" clip-path=\"url(#p4e207b9b32)\" fill=\"#6fa4ff\" stroke=\"#6fa4ff\" stroke-width=\"1.5\"/><path d=\"m178.94 144.8c2.7422 0 5.3725-1.0895 7.3116-3.0285 1.939-1.939 3.0285-4.5693 3.0285-7.3116s-1.0895-5.3725-3.0285-7.3116c-1.939-1.939-4.5693-3.0285-7.3116-3.0285s-5.3725 1.0895-7.3116 3.0285c-1.939 1.939-3.0285 4.5693-3.0285 7.3116s1.0895 5.3725 3.0285 7.3116c1.939 1.939 4.5693 3.0285 7.3116 3.0285z\" clip-path=\"url(#p4e207b9b32)\" fill=\"#6fa4ff\" stroke=\"#6fa4ff\" stroke-width=\"2\"/><path d=\"m224.39 93.443c1.1752 0 2.3025-0.46693 3.1335-1.2979 0.83102-0.83102 1.2979-1.9583 1.2979-3.1335s-0.46693-2.3025-1.2979-3.1335c-0.83102-0.83102-1.9583-1.2979-3.1335-1.2979s-2.3025 0.46693-3.1335 1.2979c-0.83102 0.83102-1.2979 1.9583-1.2979 3.1335s0.46693 2.3025 1.2979 3.1335c0.83102 0.83102 1.9583 1.2979 3.1335 1.2979z\" clip-path=\"url(#p4e207b9b32)\" fill=\"#6fa4ff\" stroke=\"#6fa4ff\" stroke-width=\"1.5\"/><path d=\"m224.39 144.8c2.7422 0 5.3725-1.0895 7.3116-3.0285 1.939-1.939 3.0285-4.5693 3.0285-7.3116s-1.0895-5.3725-3.0285-7.3116c-1.939-1.939-4.5693-3.0285-7.3116-3.0285s-5.3725 1.0895-7.3116 3.0285c-1.939 1.939-3.0285 4.5693-3.0285 7.3116s1.0895 5.3725 3.0285 7.3116c1.939 1.939 4.5693 3.0285 7.3116 3.0285z\" clip-path=\"url(#p4e207b9b32)\" fill=\"#6fa4ff\" stroke=\"#6fa4ff\" stroke-width=\"2\"/><path d=\"m269.84 47.992c1.1752 0 2.3025-0.46693 3.1335-1.2979 0.83102-0.83102 1.2979-1.9583 1.2979-3.1335s-0.46693-2.3025-1.2979-3.1335c-0.83102-0.83102-1.9583-1.2979-3.1335-1.2979s-2.3025 0.46693-3.1335 1.2979c-0.83102 0.83102-1.2979 1.9583-1.2979 3.1335s0.46693 2.3025 1.2979 3.1335c0.83102 0.83102 1.9583 1.2979 3.1335 1.2979z\" clip-path=\"url(#p4e207b9b32)\" fill=\"#bb8bff\" stroke=\"#bb8bff\" stroke-width=\"1.5\"/><path d=\"m269.84 93.443c1.1752 0 2.3025-0.46693 3.1335-1.2979 0.83102-0.83102 1.2979-1.9583 1.2979-3.1335s-0.46693-2.3025-1.2979-3.1335c-0.83102-0.83102-1.9583-1.2979-3.1335-1.2979s-2.3025 0.46693-3.1335 1.2979c-0.83102 0.83102-1.2979 1.9583-1.2979 3.1335s0.46693 2.3025 1.2979 3.1335c0.83102 0.83102 1.9583 1.2979 3.1335 1.2979z\" clip-path=\"url(#p4e207b9b32)\" fill=\"#bb8bff\" stroke=\"#bb8bff\" stroke-width=\"1.5\"/><path d=\"m269.84 190.25c2.7422 0 5.3725-1.0895 7.3116-3.0285 1.939-1.939 3.0285-4.5693 3.0285-7.3116s-1.0895-5.3725-3.0285-7.3116c-1.939-1.939-4.5693-3.0285-7.3116-3.0285s-5.3725 1.0895-7.3116 3.0285c-1.939 1.939-3.0285 4.5693-3.0285 7.3116s1.0895 5.3725 3.0285 7.3116c1.939 1.939 4.5693 3.0285 7.3116 3.0285z\" clip-path=\"url(#p4e207b9b32)\" fill=\"#bb8bff\" stroke=\"#bb8bff\" stroke-width=\"2\"/><path d=\"m345.97 149.23h29.543v-29.543h-29.543z\" clip-path=\"url(#p4e207b9b32)\" stroke=\"#000000\" stroke-width=\"1.5\"/><path d=\"m371.08 138.89c0-2.7413-1.0901-5.3732-3.0285-7.3116s-4.5702-3.0285-7.3116-3.0285-5.3732 1.0901-7.3116 3.0285c-1.9384 1.9384-3.0285 4.5702-3.0285 7.3116\" clip-path=\"url(#p4e207b9b32)\" fill=\"none\" stroke=\"#ffffff\" stroke-width=\"2\"/><path d=\"m391.42 194.69h29.543v-29.543h-29.543z\" clip-path=\"url(#p4e207b9b32)\" stroke=\"#000000\" stroke-width=\"1.5\"/><path d=\"m416.53 184.35c0-2.7413-1.0901-5.3732-3.0285-7.3116s-4.5702-3.0285-7.3116-3.0285-5.3732 1.0901-7.3116 3.0285c-1.9384 1.9384-3.0285 4.5702-3.0285 7.3116\" clip-path=\"url(#p4e207b9b32)\" fill=\"none\" stroke=\"#ffffff\" stroke-width=\"2\"/><path d=\"m360.74 138.89 10.34-10.34\" clip-path=\"url(#p4e207b9b32)\" fill=\"none\" stroke=\"#ffffff\" stroke-linecap=\"square\" stroke-width=\"2\"/><path d=\"m406.19 184.35 10.34-10.34\" clip-path=\"url(#p4e207b9b32)\" fill=\"none\" stroke=\"#ffffff\" stroke-linecap=\"square\" stroke-width=\"2\"/><path d=\"m133.49 20.835v45.451\" clip-path=\"url(#p4e207b9b32)\" fill=\"none\" stroke=\"#000000\" stroke-dasharray=\"3.7,1.6\"/><path d=\"m133.49 66.286v45.451\" clip-path=\"url(#p4e207b9b32)\" fill=\"none\" stroke=\"#000000\" stroke-dasharray=\"3.7,1.6\"/><path d=\"m133.49 111.74v45.451\" clip-path=\"url(#p4e207b9b32)\" fill=\"none\" stroke=\"#000000\" stroke-dasharray=\"3.7,1.6\"/><path d=\"m133.49 157.19v45.451\" clip-path=\"url(#p4e207b9b32)\" fill=\"none\" stroke=\"#000000\" stroke-dasharray=\"3.7,1.6\"/><path d=\"m178.94 140.37v-11.817\" clip-path=\"url(#p4e207b9b32)\" fill=\"none\" stroke=\"#ffffff\" stroke-linecap=\"square\" stroke-width=\"2\"/><path d=\"m173.03 134.46h11.817\" clip-path=\"url(#p4e207b9b32)\" fill=\"none\" stroke=\"#ffffff\" stroke-linecap=\"square\" stroke-width=\"2\"/><path d=\"m224.39 140.37v-11.817\" clip-path=\"url(#p4e207b9b32)\" fill=\"none\" stroke=\"#ffffff\" stroke-linecap=\"square\" stroke-width=\"2\"/><path d=\"m218.48 134.46h11.817\" clip-path=\"url(#p4e207b9b32)\" fill=\"none\" stroke=\"#ffffff\" stroke-linecap=\"square\" stroke-width=\"2\"/><path d=\"m269.84 185.82v-11.817\" clip-path=\"url(#p4e207b9b32)\" fill=\"none\" stroke=\"#ffffff\" stroke-linecap=\"square\" stroke-width=\"2\"/><path d=\"m263.93 179.91h11.817\" clip-path=\"url(#p4e207b9b32)\" fill=\"none\" stroke=\"#ffffff\" stroke-linecap=\"square\" stroke-width=\"2\"/><path d=\"m315.29 20.835v45.451\" clip-path=\"url(#p4e207b9b32)\" fill=\"none\" stroke=\"#000000\" stroke-dasharray=\"3.7,1.6\"/><path d=\"m315.29 66.286v45.451\" clip-path=\"url(#p4e207b9b32)\" fill=\"none\" stroke=\"#000000\" stroke-dasharray=\"3.7,1.6\"/><path d=\"m315.29 111.74v45.451\" clip-path=\"url(#p4e207b9b32)\" fill=\"none\" stroke=\"#000000\" stroke-dasharray=\"3.7,1.6\"/><path d=\"m315.29 157.19v45.451\" clip-path=\"url(#p4e207b9b32)\" fill=\"none\" stroke=\"#000000\" stroke-dasharray=\"3.7,1.6\"/><g clip-path=\"url(#p4e207b9b32)\"><g transform=\"translate(83.582 47.148) scale(.13 -.13)\"><defs><path id=\"DejaVuSans-58\" transform=\"scale(.015625)\" d=\"m403 4666h678l1160-1735 1165 1735h678l-1500-2241 1600-2425h-678l-1312 1984-1322-1984h-681l1665 2491-1453 2175z\"/></defs><use xlink:href=\"#DejaVuSans-58\"/></g></g><g clip-path=\"url(#p4e207b9b32)\"><g transform=\"translate(83.582 92.599) scale(.13 -.13)\"><use xlink:href=\"#DejaVuSans-58\"/></g></g><g clip-path=\"url(#p4e207b9b32)\"><g transform=\"translate(372.1 218.66) scale(.104 -.104)\"><defs><path id=\"DejaVuSans-30\" transform=\"scale(.015625)\" d=\"m2034 4250q-487 0-733-480-245-479-245-1442 0-959 245-1439 246-480 733-480 491 0 736 480 246 480 246 1439 0 963-246 1442-245 480-736 480zm0 500q785 0 1199-621 414-620 414-1801 0-1178-414-1799-414-620-1199-620-784 0-1198 620-414 621-414 1799 0 1181 414 1801 414 621 1198 621z\"/></defs><use xlink:href=\"#DejaVuSans-30\"/></g></g><g clip-path=\"url(#p4e207b9b32)\"><g transform=\"translate(417.55 218.66) scale(.104 -.104)\"><defs><path id=\"DejaVuSans-31\" transform=\"scale(.015625)\" d=\"m794 531h1031v3560l-1122-225v575l1116 225h631v-4135h1031v-531h-2687v531z\"/></defs><use xlink:href=\"#DejaVuSans-31\"/></g></g><g clip-path=\"url(#p4e207b9b32)\"><g transform=\"translate(36.363 48.012) scale(.1625 -.1625)\"><defs><path id=\"DejaVuSans-Oblique-71\" transform=\"scale(.015625)\" d=\"m2669 525q-231-303-546-460-314-156-695-156-531 0-833 358-301 358-301 986 0 506 186 978t533 847q225 244 517 375t614 131q387 0 637-153t363-462l100 525h578l-934-4813h-579l360 1844zm-1778 813q0-463 193-705 194-242 560-242 544 0 928 520t384 1264q0 450-199 689-198 239-569 239-272 0-504-127-231-126-403-370-181-256-286-600-104-343-104-668z\"/></defs><use xlink:href=\"#DejaVuSans-Oblique-71\"/><use transform=\"translate(63.477 -16.406) scale(.7)\" xlink:href=\"#DejaVuSans-30\"/></g></g><g clip-path=\"url(#p4e207b9b32)\"><g transform=\"translate(36.363 93.463) scale(.1625 -.1625)\"><use xlink:href=\"#DejaVuSans-Oblique-71\"/><use transform=\"translate(63.477 -16.406) scale(.7)\" xlink:href=\"#DejaVuSans-31\"/></g></g><g clip-path=\"url(#p4e207b9b32)\"><g transform=\"translate(36.363 138.91) scale(.1625 -.1625)\"><defs><path id=\"DejaVuSans-32\" transform=\"scale(.015625)\" d=\"m1228 531h2203v-531h-2962v531q359 372 979 998 621 627 780 809 303 340 423 576 121 236 121 464 0 372-261 606-261 235-680 235-297 0-627-103-329-103-704-313v638q381 153 712 231 332 78 607 78 725 0 1156-363 431-362 431-968 0-288-108-546-107-257-392-607-78-91-497-524-418-433-1181-1211z\"/></defs><use xlink:href=\"#DejaVuSans-Oblique-71\"/><use transform=\"translate(63.477 -16.406) scale(.7)\" xlink:href=\"#DejaVuSans-32\"/></g></g><g clip-path=\"url(#p4e207b9b32)\"><g transform=\"translate(36.363 184.36) scale(.1625 -.1625)\"><defs><path id=\"DejaVuSans-33\" transform=\"scale(.015625)\" d=\"m2597 2516q453-97 707-404 255-306 255-756 0-690-475-1069-475-378-1350-378-293 0-604 58t-642 174v609q262-153 574-231 313-78 654-78 593 0 904 234t311 681q0 413-289 645-289 233-804 233h-544v519h569q465 0 712 186t247 536q0 359-255 551-254 193-729 193-260 0-557-57-297-56-653-174v562q360 100 674 150t592 50q719 0 1137-327 419-326 419-882 0-388-222-655t-631-370z\"/></defs><use xlink:href=\"#DejaVuSans-Oblique-71\"/><use transform=\"translate(63.477 -16.406) scale(.7)\" xlink:href=\"#DejaVuSans-33\"/></g></g><g clip-path=\"url(#p4e207b9b32)\"><g transform=\"translate(68.036 218.66) scale(.104 -.104)\"><use xlink:href=\"#DejaVuSans-32\"/></g></g><g clip-path=\"url(#p4e207b9b32)\"><g transform=\"translate(45.466 229.85) scale(.1625 -.1625)\"><defs><path id=\"DejaVuSans-63\" transform=\"scale(.015625)\" d=\"m3122 3366v-538q-244 135-489 202t-495 67q-560 0-870-355-309-354-309-995t309-996q310-354 870-354 250 0 495 67t489 202v-532q-241-112-499-168-257-57-548-57-791 0-1257 497-465 497-465 1341 0 856 470 1346 471 491 1290 491 265 0 518-55 253-54 491-163z\"/></defs><use xlink:href=\"#DejaVuSans-63\"/></g></g><defs><clipPath id=\"p4e207b9b32\"><rect x=\"7.2\" y=\"7.2\" width=\"428.99\" height=\"245.44\"/></clipPath></defs></svg>"
            ],
            "text/plain": [
              "<Figure size 568.197x325.08 with 1 Axes>"
            ]
          },
          "execution_count": 14,
          "metadata": {
          },
          "output_type": "execute_result"
        }
      ],
      "source": [
        "qc_ha = QuantumCircuit(4,2)\n",
        "# encode inputs in qubits 0 and 1\n",
        "qc_ha.x(0) # For a=0, remove the this line. For a=1, leave it.\n",
        "qc_ha.x(1) # For b=0, remove the this line. For b=1, leave it.\n",
        "qc_ha.barrier()\n",
        "# use cnots to write the XOR of the inputs on qubit 2\n",
        "qc_ha.cx(0,2)\n",
        "qc_ha.cx(1,2)\n",
        "# use ccx to write the AND of the inputs on qubit 3\n",
        "qc_ha.ccx(0,1,3)\n",
        "qc_ha.barrier()\n",
        "# extract outputs\n",
        "qc_ha.measure(2,0) # extract XOR value\n",
        "qc_ha.measure(3,1) # extract AND value\n",
        "\n",
        "qc_ha.draw()"
      ]
    },
    {
      "cell_type": "markdown",
      "metadata": {
      },
      "source": [
        "In diesem Beispiel berechnen wir `1+1` , da die beiden Eingangsbits beide `1` sind. Mal sehen, was wir bekommen."
      ]
    },
    {
      "cell_type": "code",
      "execution_count": 15,
      "metadata": {
      },
      "outputs": [
        {
          "name": "stderr",
          "output_type": "stream",
          "text": [
            "/home/divs/.local/lib/python3.8/site-packages/qiskit/utils/deprecation.py:62: DeprecationWarning: Using a qobj for run() is deprecated as of qiskit-aer 0.9.0 and will be removed no sooner than 3 months from that release date. Transpiled circuits should now be passed directly using `backend.run(circuits, **run_options).\n",
            "  return func(*args, **kwargs)\n"
          ]
        },
        {
          "data": {
            "image/svg+xml": [
              "<?xml version=\"1.0\" encoding=\"UTF-8\"?><!DOCTYPE svg  PUBLIC '-//W3C//DTD SVG 1.1//EN'  'http://www.w3.org/Graphics/SVG/1.1/DTD/svg11.dtd'><svg width=\"460.72pt\" height=\"314.57pt\" version=\"1.1\" viewBox=\"0 0 460.72 314.57\" xmlns=\"http://www.w3.org/2000/svg\" xmlns:xlink=\"http://www.w3.org/1999/xlink\"><defs><style type=\"text/css\">*{stroke-linecap:butt;stroke-linejoin:round;}</style></defs><path d=\"m0 314.57h460.72v-314.57h-460.72z\" fill=\"none\"/><path d=\"m62.921 279h390.6v-271.8h-390.6z\" fill=\"#ffffff\"/><defs><path id=\"m3c85d64d64\" d=\"m0 0v3.5\" stroke=\"#000000\" stroke-width=\".8\"/></defs><use x=\"258.22125\" y=\"279\" stroke=\"#000000\" stroke-width=\".8\" xlink:href=\"#m3c85d64d64\"/><g transform=\"translate(258.8 306.38) rotate(-70) scale(.14 -.14)\"><defs><path id=\"DejaVuSans-31\" transform=\"scale(.015625)\" d=\"m794 531h1031v3560l-1122-225v575l1116 225h631v-4135h1031v-531h-2687v531z\"/><path id=\"DejaVuSans-30\" transform=\"scale(.015625)\" d=\"m2034 4250q-487 0-733-480-245-479-245-1442 0-959 245-1439 246-480 733-480 491 0 736 480 246 480 246 1439 0 963-246 1442-245 480-736 480zm0 500q785 0 1199-621 414-620 414-1801 0-1178-414-1799-414-620-1199-620-784 0-1198 620-414 621-414 1799 0 1181 414 1801 414 621 1198 621z\"/></defs><use xlink:href=\"#DejaVuSans-31\"/><use x=\"63.623047\" xlink:href=\"#DejaVuSans-30\"/></g><path d=\"m62.921 279h390.6\" clip-path=\"url(#pf122a43369)\" fill=\"none\" stroke=\"#b0b0b0\" stroke-dasharray=\"2.96,1.28\" stroke-width=\".8\"/><defs><path id=\"m372e3748b7\" d=\"m0 0h-3.5\" stroke=\"#000000\" stroke-width=\".8\"/></defs><use x=\"62.92125\" y=\"279\" stroke=\"#000000\" stroke-width=\".8\" xlink:href=\"#m372e3748b7\"/><g transform=\"translate(24.749 284.32) scale(.14 -.14)\"><defs><path id=\"DejaVuSans-2e\" transform=\"scale(.015625)\" d=\"m684 794h660v-794h-660v794z\"/></defs><use xlink:href=\"#DejaVuSans-30\"/><use x=\"63.623047\" xlink:href=\"#DejaVuSans-2e\"/><use x=\"95.410156\" xlink:href=\"#DejaVuSans-30\"/><use x=\"159.033203\" xlink:href=\"#DejaVuSans-30\"/></g><path d=\"m62.921 222.38h390.6\" clip-path=\"url(#pf122a43369)\" fill=\"none\" stroke=\"#b0b0b0\" stroke-dasharray=\"2.96,1.28\" stroke-width=\".8\"/><use x=\"62.92125\" y=\"222.375\" stroke=\"#000000\" stroke-width=\".8\" xlink:href=\"#m372e3748b7\"/><g transform=\"translate(24.749 227.69) scale(.14 -.14)\"><defs><path id=\"DejaVuSans-32\" transform=\"scale(.015625)\" d=\"m1228 531h2203v-531h-2962v531q359 372 979 998 621 627 780 809 303 340 423 576 121 236 121 464 0 372-261 606-261 235-680 235-297 0-627-103-329-103-704-313v638q381 153 712 231 332 78 607 78 725 0 1156-363 431-362 431-968 0-288-108-546-107-257-392-607-78-91-497-524-418-433-1181-1211z\"/><path id=\"DejaVuSans-35\" transform=\"scale(.015625)\" d=\"m691 4666h2478v-532h-1900v-1143q137 47 274 70 138 23 276 23 781 0 1237-428 457-428 457-1159 0-753-469-1171-469-417-1322-417-294 0-599 50-304 50-629 150v635q281-153 581-228t634-75q541 0 856 284 316 284 316 772 0 487-316 771-315 285-856 285-253 0-505-56-251-56-513-175v2344z\"/></defs><use xlink:href=\"#DejaVuSans-30\"/><use x=\"63.623047\" xlink:href=\"#DejaVuSans-2e\"/><use x=\"95.410156\" xlink:href=\"#DejaVuSans-32\"/><use x=\"159.033203\" xlink:href=\"#DejaVuSans-35\"/></g><path d=\"m62.921 165.75h390.6\" clip-path=\"url(#pf122a43369)\" fill=\"none\" stroke=\"#b0b0b0\" stroke-dasharray=\"2.96,1.28\" stroke-width=\".8\"/><use x=\"62.92125\" y=\"165.75\" stroke=\"#000000\" stroke-width=\".8\" xlink:href=\"#m372e3748b7\"/><g transform=\"translate(24.749 171.07) scale(.14 -.14)\"><use xlink:href=\"#DejaVuSans-30\"/><use x=\"63.623047\" xlink:href=\"#DejaVuSans-2e\"/><use x=\"95.410156\" xlink:href=\"#DejaVuSans-35\"/><use x=\"159.033203\" xlink:href=\"#DejaVuSans-30\"/></g><path d=\"m62.921 109.12h390.6\" clip-path=\"url(#pf122a43369)\" fill=\"none\" stroke=\"#b0b0b0\" stroke-dasharray=\"2.96,1.28\" stroke-width=\".8\"/><use x=\"62.92125\" y=\"109.125\" stroke=\"#000000\" stroke-width=\".8\" xlink:href=\"#m372e3748b7\"/><g transform=\"translate(24.749 114.44) scale(.14 -.14)\"><defs><path id=\"DejaVuSans-37\" transform=\"scale(.015625)\" d=\"m525 4666h3e3v-269l-1694-4397h-659l1594 4134h-2241v532z\"/></defs><use xlink:href=\"#DejaVuSans-30\"/><use x=\"63.623047\" xlink:href=\"#DejaVuSans-2e\"/><use x=\"95.410156\" xlink:href=\"#DejaVuSans-37\"/><use x=\"159.033203\" xlink:href=\"#DejaVuSans-35\"/></g><path d=\"m62.921 52.5h390.6\" clip-path=\"url(#pf122a43369)\" fill=\"none\" stroke=\"#b0b0b0\" stroke-dasharray=\"2.96,1.28\" stroke-width=\".8\"/><use x=\"62.92125\" y=\"52.5\" stroke=\"#000000\" stroke-width=\".8\" xlink:href=\"#m372e3748b7\"/><g transform=\"translate(24.749 57.819) scale(.14 -.14)\"><use xlink:href=\"#DejaVuSans-31\"/><use x=\"63.623047\" xlink:href=\"#DejaVuSans-2e\"/><use x=\"95.410156\" xlink:href=\"#DejaVuSans-30\"/><use x=\"159.033203\" xlink:href=\"#DejaVuSans-30\"/></g><g transform=\"translate(17.838 185.86) rotate(-90) scale(.14 -.14)\"><defs><path id=\"DejaVuSans-50\" transform=\"scale(.015625)\" d=\"m1259 4147v-1753h794q441 0 681 228 241 228 241 650 0 419-241 647-240 228-681 228h-794zm-631 519h1425q785 0 1186-355 402-355 402-1039 0-691-402-1044-401-353-1186-353h-794v-1875h-631v4666z\"/><path id=\"DejaVuSans-72\" transform=\"scale(.015625)\" d=\"m2631 2963q-97 56-211 82-114 27-251 27-488 0-749-317t-261-911v-1844h-578v3500h578v-544q182 319 472 473 291 155 707 155 59 0 131-8 72-7 159-23l3-590z\"/><path id=\"DejaVuSans-6f\" transform=\"scale(.015625)\" d=\"m1959 3097q-462 0-731-361t-269-989 267-989q268-361 733-361 460 0 728 362 269 363 269 988 0 622-269 986-268 364-728 364zm0 487q750 0 1178-488 429-487 429-1349 0-859-429-1349-428-489-1178-489-753 0-1180 489-426 490-426 1349 0 862 426 1349 427 488 1180 488z\"/><path id=\"DejaVuSans-62\" transform=\"scale(.015625)\" d=\"m3116 1747q0 634-261 995t-717 361q-457 0-718-361t-261-995 261-995 718-361q456 0 717 361t261 995zm-1957 1222q182 312 458 463 277 152 661 152 638 0 1036-506 399-506 399-1331t-399-1332q-398-506-1036-506-384 0-661 152-276 152-458 464v-525h-578v4863h578v-1894z\"/><path id=\"DejaVuSans-61\" transform=\"scale(.015625)\" d=\"m2194 1759q-697 0-966-159t-269-544q0-306 202-486 202-179 548-179 479 0 768 339t289 901v128h-572zm1147 238v-1997h-575v531q-197-318-491-470t-719-152q-537 0-855 302-317 302-317 808 0 590 395 890 396 300 1180 300h807v57q0 397-261 614t-733 217q-300 0-585-72-284-72-546-216v532q315 122 612 182 297 61 578 61 760 0 1135-394 375-393 375-1193z\"/><path id=\"DejaVuSans-69\" transform=\"scale(.015625)\" d=\"m603 3500h575v-3500h-575v3500zm0 1363h575v-729h-575v729z\"/><path id=\"DejaVuSans-6c\" transform=\"scale(.015625)\" d=\"m603 4863h575v-4863h-575v4863z\"/><path id=\"DejaVuSans-74\" transform=\"scale(.015625)\" d=\"m1172 4494v-994h1184v-447h-1184v-1900q0-428 117-550t477-122h590v-481h-590q-666 0-919 248-253 249-253 905v1900h-422v447h422v994h578z\"/><path id=\"DejaVuSans-65\" transform=\"scale(.015625)\" d=\"m3597 1894v-281h-2644q38-594 358-905t892-311q331 0 642 81t618 244v-544q-310-131-635-200t-659-69q-838 0-1327 487-489 488-489 1320 0 859 464 1363 464 505 1252 505 706 0 1117-455 411-454 411-1235zm-575 169q-6 471-264 752-258 282-683 282-481 0-770-272t-333-766l2050 4z\"/><path id=\"DejaVuSans-73\" transform=\"scale(.015625)\" d=\"m2834 3397v-544q-243 125-506 187-262 63-544 63-428 0-642-131t-214-394q0-200 153-314t616-217l197-44q612-131 870-370t258-667q0-488-386-773-386-284-1061-284-281 0-586 55t-642 164v594q319-166 628-249 309-82 613-82 406 0 624 139 219 139 219 392 0 234-158 359-157 125-692 241l-200 47q-534 112-772 345-237 233-237 639 0 494 350 762 350 269 994 269 318 0 599-47 282-46 519-140z\"/></defs><use xlink:href=\"#DejaVuSans-50\"/><use x=\"58.552734\" xlink:href=\"#DejaVuSans-72\"/><use x=\"97.416016\" xlink:href=\"#DejaVuSans-6f\"/><use x=\"158.597656\" xlink:href=\"#DejaVuSans-62\"/><use x=\"222.074219\" xlink:href=\"#DejaVuSans-61\"/><use x=\"283.353516\" xlink:href=\"#DejaVuSans-62\"/><use x=\"346.830078\" xlink:href=\"#DejaVuSans-69\"/><use x=\"374.613281\" xlink:href=\"#DejaVuSans-6c\"/><use x=\"402.396484\" xlink:href=\"#DejaVuSans-69\"/><use x=\"430.179688\" xlink:href=\"#DejaVuSans-74\"/><use x=\"469.388672\" xlink:href=\"#DejaVuSans-69\"/><use x=\"497.171875\" xlink:href=\"#DejaVuSans-65\"/><use x=\"558.695312\" xlink:href=\"#DejaVuSans-73\"/></g><path d=\"m80.676 279h355.09v-226.5h-355.09z\" clip-path=\"url(#pf122a43369)\" fill=\"#648fff\"/><path d=\"m62.921 279v-271.8\" fill=\"none\" stroke=\"#000000\" stroke-linecap=\"square\" stroke-width=\".8\"/><path d=\"m453.52 279v-271.8\" fill=\"none\" stroke=\"#000000\" stroke-linecap=\"square\" stroke-width=\".8\"/><path d=\"m62.921 279h390.6\" fill=\"none\" stroke=\"#000000\" stroke-linecap=\"square\" stroke-width=\".8\"/><path d=\"m62.921 7.2h390.6\" fill=\"none\" stroke=\"#000000\" stroke-linecap=\"square\" stroke-width=\".8\"/><g transform=\"translate(243.91 39.095) scale(.1 -.1)\"><use xlink:href=\"#DejaVuSans-31\"/><use x=\"63.623047\" xlink:href=\"#DejaVuSans-2e\"/><use x=\"95.410156\" xlink:href=\"#DejaVuSans-30\"/><use x=\"159.033203\" xlink:href=\"#DejaVuSans-30\"/><use x=\"222.65625\" xlink:href=\"#DejaVuSans-30\"/></g><defs><clipPath id=\"pf122a43369\"><rect x=\"62.921\" y=\"7.2\" width=\"390.6\" height=\"271.8\"/></clipPath></defs></svg>"
            ],
            "text/plain": [
              "<Figure size 504x360 with 1 Axes>"
            ]
          },
          "execution_count": 15,
          "metadata": {
          },
          "output_type": "execute_result"
        }
      ],
      "source": [
        "qobj = assemble(qc_ha)\n",
        "counts = sim.run(qobj).result().get_counts()\n",
        "plot_histogram(counts)"
      ]
    },
    {
      "cell_type": "markdown",
      "metadata": {
      },
      "source": [
        "Das Ergebnis ist `10` , was die binäre Darstellung der Zahl 2 ist. Wir haben einen Computer gebaut, der das berühmte mathematische Problem 1+1 lösen kann!\n",
        "\n",
        "Jetzt können Sie es mit den anderen drei möglichen Eingaben ausprobieren und zeigen, dass unser Algorithmus auch für diese die richtigen Ergebnisse liefert.\n",
        "\n",
        "Der Halbaddierer enthält alles, was Sie zum Addieren benötigen. Mit den Gattern NOT, CNOT und Toffoli können wir Programme erstellen, die eine beliebige Menge von Zahlen beliebiger Größe addieren.\n",
        "\n",
        "Diese drei Gatter reichen aus, um auch alles andere im Computerbereich zu erledigen. Tatsächlich können wir sogar auf die CNOT verzichten. Außerdem wird das NICHT-Gatter nur wirklich benötigt, um Bits mit dem Wert `1` zu erstellen. Das Toffoli-Gatter ist im Wesentlichen das Atom der Mathematik. Es ist das einfachste Element, aus dem sich jede andere Problemlösungstechnik zusammenstellen lässt.\n",
        "\n",
        "Wie wir sehen werden, spalten wir beim Quantencomputing das Atom."
      ]
    },
    {
      "cell_type": "code",
      "execution_count": 16,
      "metadata": {
      },
      "outputs": [
        {
          "name": "stderr",
          "output_type": "stream",
          "text": [
            "/home/divs/.local/lib/python3.8/site-packages/qiskit/aqua/__init__.py:86: DeprecationWarning: The package qiskit.aqua is deprecated. It was moved/refactored to qiskit-terra For more information see <https://github.com/Qiskit/qiskit-aqua/blob/main/README.md#migration-guide>\n",
            "  warn_package('aqua', 'qiskit-terra')\n"
          ]
        },
        {
          "data": {
            "text/html": [
              "<h3>Version Information</h3><table><tr><th>Qiskit Software</th><th>Version</th></tr><tr><td><code>qiskit-terra</code></td><td>0.18.2</td></tr><tr><td><code>qiskit-aer</code></td><td>0.9.0</td></tr><tr><td><code>qiskit-ignis</code></td><td>0.6.0</td></tr><tr><td><code>qiskit-ibmq-provider</code></td><td>0.16.0</td></tr><tr><td><code>qiskit-aqua</code></td><td>0.9.5</td></tr><tr><td><code>qiskit</code></td><td>0.30.0</td></tr><tr><td><code>qiskit-nature</code></td><td>0.2.1</td></tr><tr><td><code>qiskit-finance</code></td><td>0.2.1</td></tr><tr><td><code>qiskit-optimization</code></td><td>0.2.2</td></tr><tr><td><code>qiskit-machine-learning</code></td><td>0.2.1</td></tr><tr><th>System information</th></tr><tr><td>Python</td><td>3.8.10 (default, Jun  2 2021, 10:49:15) \n",
              "[GCC 9.4.0]</td></tr><tr><td>OS</td><td>Linux</td></tr><tr><td>CPUs</td><td>2</td></tr><tr><td>Memory (Gb)</td><td>7.521877288818359</td></tr><tr><td colspan='2'>Sun Oct 03 22:50:56 2021 IST</td></tr></table>"
            ],
            "text/plain": [
              "<IPython.core.display.HTML object>"
            ]
          },
          "metadata": {
          },
          "output_type": "display_data"
        }
      ],
      "source": [
        "import qiskit.tools.jupyter\n",
        "%qiskit_version_table"
      ]
    }
  ],
  "metadata": {
    "kernelspec": {
      "display_name": "Python 3",
      "language": "python",
      "name": "python3"
    },
    "language_info": {
      "codemirror_mode": {
        "name": "ipython",
        "version": 3
      },
      "file_extension": ".py",
      "mimetype": "text/x-python",
      "name": "python",
      "nbconvert_exporter": "python",
      "pygments_lexer": "ipython3",
      "version": "3.9"
    }
  },
  "nbformat": 4,
  "nbformat_minor": 2
}
