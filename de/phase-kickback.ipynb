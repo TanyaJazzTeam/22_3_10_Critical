{
  "cells": [
    {
      "cell_type": "markdown",
      "metadata": {
      },
      "source": [
        "# Phasenrückschlag\n",
        "\n",
        "Auf dieser Seite behandeln wir ein Verhalten von kontrollierten Quantengattern, das als „Phasen-Kickback“ bekannt ist. Dieser interessante Quanteneffekt ist ein Baustein in vielen berühmten Quantenalgorithmen, darunter Shors Faktorisierungsalgorithmus und Grovers Suchalgorithmus."
      ]
    },
    {
      "cell_type": "markdown",
      "metadata": {
        "formulas": {
          "_control-qubit-post": {
            "meaning": "This is the state of the control qubit after the controlled gate."
          },
          "_control-qubit-pre": {
            "meaning": "This is the control qubit. This qubit is in a superposition of |0〉 and |1〉."
          },
          "_eig-val-A": {
            "meaning": "This is a complex number, which we call the <i>eigenvalue</i>."
          },
          "_eig-val-U": {
            "meaning": "This is a complex number with magnitude 1.<br><a href='https://en.wikipedia.org/wiki/Euler%27s_formula'>Read more</a>."
          },
          "_eig-vec-A": {
            "meaning": "This is a vector. In this case, this vector is an <i>eigenvector</i> of the matrix 'A'."
          },
          "_eig-vec-U": {
            "meaning": "This is a state vector, and in this case, an eigen<i>state</i> of the matrix 'U', with eigenvalue exp(2πiθ)."
          },
          "_eig-vec-X": {
            "meaning": "This is a state vector, and in this case, an eigen<i>state</i> of the X-gate, with eigenvalue -1."
          },
          "_matrix-A": {
            "meaning": "This letter represents a matrix."
          },
          "_matrix-CU": {
            "meaning": "This is the operation U, controlled by another qubit."
          },
          "_matrix-CX": {
            "meaning": "This the controlled-X (CNOT) gate."
          },
          "_matrix-U": {
            "meaning": "This letter represents a unitary matrix (e.g. a quantum gate)."
          }
        }
      },
      "source": [
        "## Eigenvektoren\n",
        "\n",
        "Sie sollten bereits mit Eigenvektoren und Eigenwerten vertraut sein, aber wenn nicht, können Sie [hier](https://www.khanacademy.org/math/linear-algebra/alternate-bases/eigen-everything/v/linear-algebra-introduction-to-eigenvalues-and-eigenvectors) eine schöne Einführung lesen. Wenn Sie vertraut *sind* , sollten Sie die Eigenvektorgleichung erkennen:\n",
        "\n",
        "$$ \\class{_matrix-A}{A}\\class{_eig-vec-A}{|x\\rangle} = \\class{_eig-val-A}{\\lambda}\\class{_eig-vec-A} {|x\\rangle} $$\n",
        "\n",
        "Beim Quantencomputing ist das noch einfacher. Da alle unsere Zustandsvektoren den Betrag 1 haben, müssen auch unsere Eigenwerte den Betrag 1 haben, also $\\lambda = e^{2\\pi i \\theta}$. Für ein Quantengatter $U$ und seinen Eigenzustand $|x\\rangle$ gilt also:\n",
        "\n",
        "$$ \\class{_matrix-U}{U}\\class{_eig-vec-U}{|x\\rangle} = \\class{_eig-val-U}{e^{2\\pi i \\theta}}\\ class{_eig-vec-U}{|x\\rangle} $$\n",
        "\n",
        "Zusammenfassend: Wenn ein Gatter alle Amplituden eines Zustandsvektors um denselben Betrag dreht (und nur dreht), dann ist dieser Zustand ein *Eigenzustand* dieses Gatters.\n",
        "\n",
        "<!-- ::: q-block -->\n",
        "\n",
        "### Erkundung von Eigenvektoren\n",
        "\n",
        "Verwenden Sie das Widget unten, um zu sehen, wie ein Single-Qubit-Gate einen Single-Qubit-Zustand umwandelt. Können Sie herausfinden, welche Zustände Eigenzustände welcher Gatter sind?\n",
        "\n",
        "```\n",
        "q-eigenvector-widget\n",
        "```\n",
        "\n",
        "<!-- ::: -->"
      ]
    },
    {
      "cell_type": "markdown",
      "metadata": {
      },
      "source": [
        "## Kontrollierte Gates &amp; Eigenzustände\n",
        "\n",
        "Sobald Sie sich mit dem Konzept der Eigenzustände vertraut gemacht haben, können wir darüber nachdenken, was passiert, wenn wir diese Schaltkreise anhand des Zustands eines anderen Qubits steuern. Wir wissen zum Beispiel, dass das Z-Gatter, das auf den Zustand $|1\\rangle$ einwirkt, eine negative globale Phase einführt ($\\theta = 0,5$), lassen Sie uns herausfinden, was passiert, wenn wir diese Operation steuern.\n",
        "\n",
        "<!-- ::: q-block.tabs -->\n",
        "\n",
        "### Das kontrollierte Z-Tor\n",
        "\n",
        "<!-- ::: tab -->\n",
        "\n",
        "### |10〉\n",
        "\n",
        "<!-- ::: column(width=200) -->\n",
        "\n",
        "Wenn das Kontroll-Qubit $|0\\rangle$ ist, dann ist das Verhalten trivial; nichts passiert.\n",
        "\n",
        "<!-- ::: column(width=400) -->\n",
        "\n",
        "![Schaltplan, der ein Zwei-Qubit-Register im Zustand 01 zeigt, auf das ein CZ-Gate wirkt. Der Zustand ist unverändert](images/kickback/tabs/0/0.svg)\n",
        "\n",
        "<!-- ::: -->\n",
        "\n",
        "<!-- ::: tab -->\n",
        "\n",
        "### |11〉\n",
        "\n",
        "<!-- ::: column(width=200) -->\n",
        "\n",
        "Wenn das Kontroll-Qubit $|1\\rangle$ ist, führt das Gate eine globale Phase ein (beachten Sie das Minuszeichen im Bild rechts), aber die Zustände des Qubits bleiben unverändert.\n",
        "\n",
        "<!-- ::: column(width=400) -->\n",
        "\n",
        "![Schaltplan, der ein Zwei-Qubit-Register im Zustand 01 zeigt, auf das ein CZ-Gate wirkt. Der Zustand ist unverändert](images/kickback/tabs/0/1.svg)\n",
        "\n",
        "<!-- ::: -->\n",
        "\n",
        "<!-- ::: tab -->\n",
        "\n",
        "### |1+〉\n",
        "\n",
        "<!-- ::: column(width=200) -->\n",
        "\n",
        "Das kontrollierte Z-Gate tut nichts, wenn die Steuerung $|0\\rangle$ ist, und führt eine negative Phase ein, wenn die Steuerung $|1\\rangle$ ist. Wenn sich das Steuer-Qubit in Überlagerung befindet, ändert das Gate die *relative* Phase zwischen den Zuständen $|0\\rangle$ und $|1\\rangle$ des Steuer-Qubits.\n",
        "\n",
        "<!-- ::: column(width=400) -->\n",
        "\n",
        "![Schaltplan, der ein Zwei-Qubit-Register im Zustand 01 zeigt, auf das ein CZ-Gate wirkt. Der Zustand ist unverändert](images/kickback/tabs/0/2.svg)\n",
        "\n",
        "<!-- ::: -->\n",
        "\n",
        "<!-- ::: -->\n",
        "\n",
        "<!-- ::: -->\n",
        "\n",
        "Wenn das Steuerelement $|{+}\\rangle$ und das Ziel $|1\\rangle$ ist, ändert das kontrollierte Z-Gate den Zustand des *Steuer-* Qubits, lässt das Ziel-Qubit jedoch unverändert. Dieser Effekt wird „Phase Kickback“ genannt, da der Eigenwert in den Zustand des Kontroll-Qubits zurückkehrt."
      ]
    },
    {
      "cell_type": "markdown",
      "metadata": {
      },
      "source": [
        "Allgemeiner gesagt: Wenn wir ein Quantengatter $U$ und seinen Eigenzustand $|x\\rangle$ haben, dann fügt $U$, das auf $|x\\rangle$ einwirkt, eine globale Phase $\\theta$ hinzu, wie wir oben gesehen haben.\n",
        "\n",
        "$$ \\class{_matrix-U}{U}\\class{_eig-vec-U}{|x\\rangle} = \\class{_eig-val-U}{e^{2\\pi i \\theta}}\\ class{_eig-vec-U}{|x\\rangle} $$\n",
        "\n",
        "Wenn wir die Operation $U|x\\rangle$ durch ein anderes Qubit in einer Überlagerung von $|0\\rangle$ und $|1\\rangle$ steuern, dann hat dies den Effekt, dass das Steuer-Qubit um die Z-Achse rotiert Winkel $\\theta$. Dh:\n",
        "\n",
        "$$ \\class{_matrix-CU}{CU}\\class{_eig-vec-U}{|x\\rangle}\\class{_control-qubit-pre}{(\\alpha|0\\rangle + \\beta|1\\ rangle)} = \\class{_eig-vec-U}{|x\\rangle}\\class{_control-qubit-post}{(\\alpha|0\\rangle + \\beta e^{2\\pi i \\theta}| 1\\rangle)} $$"
      ]
    },
    {
      "cell_type": "markdown",
      "metadata": {
      },
      "source": [
        "Im obigen Beispiel sehen wir, dass die „Steuerung“ des gesteuerten Z-Gatters tatsächlich eine Z-Rotation durchführt; etwas, das das Qubit nur hätte beobachten sollen, hat es tatsächlich verändert. Aus diesem Grund sehen Sie das kontrollierte Z-Gate oft als zwei Kontrollen gezeichnet."
      ]
    },
    {
      "cell_type": "code",
      "execution_count": 1,
      "metadata": {
      },
      "outputs": [
        {
          "data": {
            "image/svg+xml": [
              "<?xml version=\"1.0\" encoding=\"UTF-8\"?><!DOCTYPE svg  PUBLIC '-//W3C//DTD SVG 1.1//EN'  'http://www.w3.org/Graphics/SVG/1.1/DTD/svg11.dtd'><svg width=\"125.12pt\" height=\"123.48pt\" version=\"1.1\" viewBox=\"0 0 125.12 123.48\" xmlns=\"http://www.w3.org/2000/svg\" xmlns:xlink=\"http://www.w3.org/1999/xlink\"><defs><style type=\"text/css\">*{stroke-linejoin: round; stroke-linecap: butt}</style></defs><path d=\"m0 123.48h125.12v-123.48h-125.12z\" fill=\"#ffffff\"/><path d=\"m63.381 43.561h49.996\" clip-path=\"url(#pb03c8b0eb8)\" fill=\"none\" stroke=\"#000000\" stroke-linecap=\"square\" stroke-width=\"2\"/><path d=\"m63.381 89.012h49.996\" clip-path=\"url(#pb03c8b0eb8)\" fill=\"none\" stroke=\"#000000\" stroke-linecap=\"square\" stroke-width=\"2\"/><path d=\"m87.925 89.012v-45.451\" clip-path=\"url(#pb03c8b0eb8)\" fill=\"none\" stroke=\"#1192e8\" stroke-linecap=\"square\" stroke-width=\"2\"/><path d=\"m87.925 89.012v-45.451\" clip-path=\"url(#pb03c8b0eb8)\" fill=\"none\" stroke=\"#1192e8\" stroke-linecap=\"square\" stroke-width=\"2\"/><path d=\"m87.925 47.992c1.1752 0 2.3025-0.46693 3.1335-1.2979 0.83102-0.83102 1.2979-1.9583 1.2979-3.1335 0-1.1752-0.46693-2.3025-1.2979-3.1335-0.83102-0.83102-1.9583-1.2979-3.1335-1.2979s-2.3025 0.46693-3.1335 1.2979c-0.83102 0.83102-1.2979 1.9583-1.2979 3.1335 0 1.1752 0.46693 2.3025 1.2979 3.1335 0.83102 0.83102 1.9583 1.2979 3.1335 1.2979z\" clip-path=\"url(#pb03c8b0eb8)\" fill=\"#1192e8\" stroke=\"#1192e8\" stroke-width=\"1.5\"/><path d=\"m87.925 93.443c1.1752 0 2.3025-0.46693 3.1335-1.2979 0.83102-0.83102 1.2979-1.9583 1.2979-3.1335s-0.46693-2.3025-1.2979-3.1335c-0.83102-0.83102-1.9583-1.2979-3.1335-1.2979s-2.3025 0.46693-3.1335 1.2979c-0.83102 0.83102-1.2979 1.9583-1.2979 3.1335s0.46693 2.3025 1.2979 3.1335c0.83102 0.83102 1.9583 1.2979 3.1335 1.2979z\" clip-path=\"url(#pb03c8b0eb8)\" fill=\"#1192e8\" stroke=\"#1192e8\" stroke-width=\"1.5\"/><g clip-path=\"url(#pb03c8b0eb8)\"><g transform=\"translate(36.253 47.786) scale(.1625 -.1625)\"><defs><path id=\"DejaVuSans-Oblique-71\" transform=\"scale(.015625)\" d=\"m2669 525q-231-303-546-460-314-156-695-156-531 0-833 358-301 358-301 986 0 506 186 978t533 847q225 244 517 375t614 131q387 0 637-153t363-462l100 525h578l-934-4813h-579l360 1844zm-1778 813q0-463 193-705 194-242 560-242 544 0 928 520t384 1264q0 450-199 689-198 239-569 239-272 0-504-127-231-126-403-370-181-256-286-600-104-343-104-668z\"/><path id=\"DejaVuSans-30\" transform=\"scale(.015625)\" d=\"m2034 4250q-487 0-733-480-245-479-245-1442 0-959 245-1439 246-480 733-480 491 0 736 480 246 480 246 1439 0 963-246 1442-245 480-736 480zm0 500q785 0 1199-621 414-620 414-1801 0-1178-414-1799-414-620-1199-620-784 0-1198 620-414 621-414 1799 0 1181 414 1801 414 621 1198 621z\"/></defs><use xlink:href=\"#DejaVuSans-Oblique-71\"/><use transform=\"translate(63.477 -16.406) scale(.7)\" xlink:href=\"#DejaVuSans-30\"/></g></g><g clip-path=\"url(#pb03c8b0eb8)\"><g transform=\"translate(36.253 93.237) scale(.1625 -.1625)\"><defs><path id=\"DejaVuSans-31\" transform=\"scale(.015625)\" d=\"m794 531h1031v3560l-1122-225v575l1116 225h631v-4135h1031v-531h-2687v531z\"/></defs><use xlink:href=\"#DejaVuSans-Oblique-71\"/><use transform=\"translate(63.477 -16.406) scale(.7)\" xlink:href=\"#DejaVuSans-31\"/></g></g><defs><clipPath id=\"pb03c8b0eb8\"><rect x=\"7.2\" y=\"7.2\" width=\"110.72\" height=\"109.08\"/></clipPath></defs></svg>"
            ],
            "text/plain": [
              "<Figure size 146.652x144.48 with 1 Axes>"
            ]
          },
          "execution_count": 1,
          "metadata": {
          },
          "output_type": "execute_result"
        }
      ],
      "source": [
        "from qiskit import QuantumCircuit\n",
        "qc = QuantumCircuit(2)\n",
        "qc.cz(0,1)\n",
        "qc.draw()"
      ]
    },
    {
      "cell_type": "markdown",
      "metadata": {
      },
      "source": [
        "## Das CNOT-Tor\n",
        "\n",
        "Betrachten wir den Phase-Kickback-Effekt mit einem anderen Zwei-Qubit-Gate. Da der Zustand $|{-}\\rangle$ ein Eigenzustand des X-Gatters mit dem Eigenwert $-1$ ist, erhalten wir:\n",
        "\n",
        "$$ \\class{_matrix-CX}{CX}\\class{_eig-vec-X}{|{-}\\rangle}\\class{_control-qubit-pre}{(\\alpha|0\\rangle + \\beta| 1\\rangle)} = \\class{_eig-vec-X}{|{-}\\rangle}\\class{_control-qubit-post}{(\\alpha|0\\rangle - \\beta |1\\rangle)} $ $\n",
        "\n",
        "![](images/kickback/cnot-kickback.svg)\n",
        "\n",
        "Auch in diesem Fall ist die Phasenänderung $\\theta = 0,5$, also wird unser Kontroll-Qubit um die Z-Achse gedreht.\n",
        "\n",
        "<!-- ::: q-block -->\n",
        "\n",
        "### Gearbeitetes Beispiel\n",
        "\n",
        "<summary>Kickback mit dem CNOT-Gate (zum Vergrößern klicken)</summary>\n",
        "\n",
        "```\n",
        "q-carousel\n",
        "        div.md\n",
        "            <img src=\"images/kickback/carousel/cnot/carousel-img-0.svg\"><br>By definition, the controlled-X gate (CNOT) flips the state of the target qubit (in our example, the rightmost bit is the target) if the control qubit is $|1\\rangle$. In the image above, we show the CNOT gate transforming one state vector to another.\n",
        "        div.md\n",
        "            <img src=\"images/kickback/carousel/cnot/carousel-img-1.svg\"><br>For example, if the control qubit is in the state $|0\\rangle$, then we always get the exact same statevector back. In the image above, the amplitudes of the states where the control is $|1\\rangle$ are both zero, so we see no effect when we swap them.\n",
        "        div.md\n",
        "            <img src=\"images/kickback/carousel/cnot/carousel-img-2.svg\"><br>Another example: If the control qubit is in the state $|1\\rangle$, then we do an X-gate on the target qubit. In this case, the target qubit is in an eigenstate of the X-gate, so we get the same statevector back, up to global phase. This change is a global phase, since the relative phase between the $|0\\rangle$ and $|1\\rangle$ amplitudes of the target qubit stayed the same.\n",
        "        div.md\n",
        "            <img src=\"images/kickback/carousel/cnot/carousel-img-3.svg\"><br>Let us look at the state vector when the control is in the state $|{+}\\rangle$ (i.e. $\\tfrac{1}{\\sqrt{2}}(|0\\rangle + |1\\rangle)$), and the target in the state $|{-}\\rangle$ (i.e. $\\tfrac{1}{\\sqrt{2}}(|0\\rangle - |1\\rangle)$). We can see these two qubits are separable, as measuring one does not affect the state of the other.\n",
        "        div.md\n",
        "            <img src=\"images/kickback/carousel/cnot/carousel-img-4.svg\"><br> For example, regardless of whether we measure the control qubit as $|0\\rangle$ or $|1\\rangle$, the amplitudes for measuring the target as $|0\\rangle$ or $|1\\rangle$ stay the same.\n",
        "        div.md\n",
        "            <img src=\"images/kickback/carousel/cnot/carousel-img-5.svg\"><br>With all this in mind, let's see what happens when we apply the CNOT to this $|{+}{-}\\rangle$ state.\n",
        "        div.md\n",
        "            <img src=\"images/kickback/carousel/cnot/carousel-img-6.svg\"><br>After the CNOT, these qubits are still separable, as the state of one does not change when we measure the other. However, the relative phase between the $|0\\rangle$ and $|1\\rangle$ amplitudes of the control qubit has changed!\n",
        "```\n",
        "\n",
        "\n",
        "\n",
        "\n",
        "<!-- ::: -->\n",
        "\n",
        "Wenn wir uns daran erinnern, dass das H-Gatter die Transformation $|0\\rangle \\rightarrow |{+}\\rangle$ und $|1\\rangle \\rightarrow |{-}\\rangle$ durchführt (und umgekehrt), erhalten wir Folgendes Identität:\n",
        "\n",
        "![](images/kickback/cnot-identity.svg)"
      ]
    },
    {
      "cell_type": "markdown",
      "metadata": {
      },
      "source": [
        "## Deutschs Problem\n",
        "\n",
        "Wir haben gerade gesehen, dass die Konditionierung einer Aktion auf den Zustand eines Qubits tatsächlich den Zustand des steuernden Qubits ändern kann. Dies ist ein „Quanten“-Effekt, dh etwas, das wir bei klassischen Bits nicht sehen.\n",
        "\n",
        "Beim Quantencomputing wollen wir Algorithmen entwickeln, die klassische Computer *nicht* ausführen können, also ist ein guter Anfang, zu versuchen, diesen Effekt als ein zu lösendes Problem neu zu formulieren. Auf diese Weise können wir beweisen, dass Quantencomputer in irgendetwas zumindest etwas besser sind als klassische Computer.\n",
        "\n",
        "Das Problem von Deutsch macht genau das. Deutsch ist ein „Black Box“-Problem; ein künstliches Problem, bei dem wir eine Funktion auf unsere Bits anwenden dürfen, uns aber nicht ansehen dürfen, wie die Funktion funktioniert. Die Herausforderung besteht darin, einige Eigenschaften der Box zu entdecken, indem verschiedene Ein- und Ausgänge ausprobiert werden.\n",
        "\n",
        "Deutschs Problem ist folgendes: Wir haben eine klassische, umkehrbare Funktion (die wir kurz $f$ nennen), die auf zwei Bits wirkt, $ a $ &amp; $ b $. Die Funktion lässt Bit $ a $ in Ruhe, kann aber Bit $ b $ umkehren oder nicht. Deutschs Problem verlangt von uns, herauszufinden, ob sich $f$ in Abhängigkeit vom Wert von $ a $ anders verhält (wir nennen das \"ausgeglichenes\" Verhalten) oder ob es $ a $ ignoriert und immer dasselbe mit $ b $ macht (\"konstantes\" Verhalten). Die Herausforderung besteht darin, dies zu tun, während Sie $f$ so wenig wie möglich anwenden.\n",
        "\n",
        "![Bild von deutschs Problem als Quantenschaltkreis. Die Schaltung hat zwei Bits, die oberen und unteren Drähte sind jeweils mit ](images/kickback/deutsch-problem.svg)\n",
        "\n",
        "Der beste klassische Algorithmus für dieses Problem wendet $f$ zweimal mit unterschiedlichen Werten von $ a $ an und prüft dann, ob sich $f$ anders verhalten hat."
      ]
    },
    {
      "cell_type": "markdown",
      "metadata": {
      },
      "source": [
        "## Deutschs Algorithmus\n",
        "\n",
        "Wie Sie vielleicht schon erraten haben, können wir Phasen-Kickback verwenden, um einen Quantenalgorithmus zu erstellen, der sogar noch besser abschneidet als der klassische Algorithmus. Wenn wir Qubit $ a $ in den Zustand $|{+}\\rangle$ und Qubit $ b $ in den Zustand $|{-}\\rangle$ versetzen, dann wird jeder Flip, der auf $ a $ bedingt ist, einen negativen Relativwert zurückwerfen Phase, wobei Qubit $ a $ von $|{+}\\rangle$ zu $|{-}\\rangle$ umgedreht wird. Wir können dann ein H-Gatter auf $ a $ anwenden, um zu sehen, ob ein Kickback aufgetreten ist oder nicht.\n",
        "\n",
        "![Bild von Deutschs Algorithmus als Quantenschaltkreis.](images/kickback/deutsch-algorithm.svg)\n",
        "\n",
        "<!-- ::: q-block.reminder -->\n",
        "\n",
        "### Mehr Info\n",
        "\n",
        "\n",
        "<summary>In der Blackbox (zum Vergrößern klicken)</summary> Wenn dies immer noch wie Zauberei erscheint, kann es helfen, über alle möglichen Deutsch-Funktionen und die Quantenschaltkreise nachzudenken, die sie implementieren. Es gibt vier mögliche Deutsch-Funktionen: zwei konstante und zwei ausgeglichene.\n",
        "\n",
        "Wenn sie konstant ist, kann die Funktion entweder nichts tun oder Qubit $ b $ umdrehen. Im ausgeglichenen Zustand kann die Funktion entweder $ b $ nur umkehren, wenn $ a $ $|1\\rangle$ ist, oder $ b $ nur umkehren, wenn $ a $ $|0\\rangle$ ist. Sie können alle vier Szenarien im Bild unten sehen.\n",
        "\n",
        "<img src=\"images/kickback/deutsch-oracles.svg\">\n",
        "\n",
        "Bei beiden konstanten Funktionen bleibt das oberste Qubit unverändert (da wir nichts daran tun), und bei den ausgeglichenen Funktionen dreht der Kickback-Effekt das oberste Qubit von $|{+}\\rangle$ auf $|{- }\\rangle$.\n",
        "\n",
        "\n",
        "\n",
        "\n",
        "<!-- ::: -->\n",
        "\n",
        "Dies ist nicht das beeindruckendste Beispiel für Quantenbeschleunigung; es ist sehr spezifisch und wir finden keine Black-Box-Probleme in freier Wildbahn. Stattdessen liefert uns Deutschs Problem ein ermutigendes Ergebnis und einige interessante Effekte, die es zu untersuchen gilt. Im Rest dieses Kurses werden wir dieses einfache Experiment erweitern, um noch beeindruckendere Probleme zu lösen, einschließlich Factoring."
      ]
    },
    {
      "cell_type": "markdown",
      "metadata": {
      },
      "source": [
        "<!-- ::: q-block.exercise -->\n",
        "\n",
        "### Übung\n",
        "\n",
        "Erstellen Sie eine Funktion, `deutsch()` , die eine Deutsch-Funktion als `QuantumCircuit` verwendet und den Deutsch-Algorithmus verwendet, um sie auf einem Quantensimulator zu lösen. Ihre Funktion sollte `True` zurückgeben, wenn die Deutsch-Funktion ausgeglichen ist, und `False` , wenn sie konstant ist.\n",
        "\n",
        "Sie können die Funktion `deutsch_problem()` verwenden, um einen `QuantumCircuit` zu erstellen, den Sie als Eingabe für Ihre `deutsch()` Funktion verwenden können.\n",
        "\n",
        "<!-- ::: -->"
      ]
    },
    {
      "cell_type": "code",
      "execution_count": null,
      "metadata": {
      },
      "outputs": [

      ],
      "source": [
        "from qiskit import QuantumCircuit\n",
        "import numpy as np\n",
        "\n",
        "def deutsch_problem(seed=None):\n",
        "    \"\"\"Returns a circuit that carries out the function\n",
        "    from Deutsch's problem.\n",
        "    Args:\n",
        "        seed (int): If set, then returned circuit will\n",
        "            always be the same for the same seed.\n",
        "    Returns: QuantumCircuit\n",
        "    \"\"\"\n",
        "    np.random.seed(seed)\n",
        "    problem = QuantumCircuit(2)\n",
        "    if np.random.randint(2):\n",
        "        print(\"Function is balanced.\")\n",
        "        problem.cx(0, 1)\n",
        "    else:\n",
        "        print(\"Function is constant.\")\n",
        "    if np.random.randint(2):\n",
        "        problem.x(1)\n",
        "    return problem"
      ]
    },
    {
      "cell_type": "code",
      "execution_count": null,
      "metadata": {
      },
      "outputs": [

      ],
      "source": [
        "def deutsch(function):\n",
        "    \"\"\"Implements Deutsch's algorithm.\n",
        "\n",
        "    Args:\n",
        "        function (QuantumCircuit): Deutsch function to solve.\n",
        "            Must be a 2-qubit circuit, and either balanced,\n",
        "            or constant.\n",
        "    Returns:\n",
        "        bool: True if the circuit is balanced, otherwise False.\n",
        "    \"\"\"\n",
        "\n",
        "    # your code here"
      ]
    },
    {
      "cell_type": "markdown",
      "metadata": {
      },
      "source": [
        "## Zusammenfassung\n",
        "\n",
        "Auf dieser Seite haben wir:\n",
        "\n",
        "- fasste das Konzept der Eigenwerte und Eigenvektoren zusammen\n",
        "- untersuchte den Phasen-Kickback-Effekt und behandelte einige spezifische Beispiele\n",
        "- führte Deutschs Problem als ein Szenario ein, in dem Quantencomputer gegenüber klassischen Computern im Vorteil sind\n",
        "\n",
        "Wenn Sie alles andere auf dieser Seite vergessen haben, ist die folgende Zusammenfassung des Phasenrückschlags das Wichtigste, an das Sie sich erinnern und mit dem Sie sich wohl fühlen sollten:\n",
        "\n",
        "<!-- ::: q-block.reminder -->\n",
        "\n",
        "### Erinnerung: Phasenrückschlag\n",
        "\n",
        "Wenn wir ein Quantengatter $U$ und seinen Eigenzustand $|x\\rangle$ haben, dann fügt $U$, das auf $|x\\rangle$ einwirkt, eine globale Phase $\\theta$ hinzu. Dh:\n",
        "\n",
        "$$ \\class{_matrix-U}{U}\\class{_eig-vec-U}{|x\\rangle} = \\class{_eig-val-U}{e^{2\\pi i \\theta}}\\ class{_eig-vec-U}{|x\\rangle} $$\n",
        "\n",
        "Wenn wir die Operation $U|x\\rangle$ durch ein anderes Qubit in einer Überlagerung von $|0\\rangle$ und $|1\\rangle$ steuern, dann hat dies den Effekt, dass das Steuer-Qubit um die Z-Achse rotiert Winkel $\\theta$. Dh:\n",
        "\n",
        "$$ \\class{_matrix-CU}{CU}\\class{_eig-vec-U}{|x\\rangle}\\class{_control-qubit-pre}{(\\alpha|0\\rangle + \\beta|1\\ rangle)} = \\class{_eig-vec-U}{|x\\rangle}\\class{_control-qubit-post}{(\\alpha|0\\rangle + \\beta e^{2\\pi i \\theta}| 1\\rangle)} $$\n",
        "\n",
        "<!-- ::: -->"
      ]
    }
  ],
  "metadata": {
    "kernelspec": {
      "display_name": "Python 3",
      "language": "python",
      "name": "python3"
    },
    "language_info": {
      "codemirror_mode": {
        "name": "ipython",
        "version": 3
      },
      "file_extension": ".py",
      "mimetype": "text/x-python",
      "name": "python",
      "nbconvert_exporter": "python",
      "pygments_lexer": "ipython3",
      "version": "3.9"
    }
  },
  "nbformat": 4,
  "nbformat_minor": 4
}
