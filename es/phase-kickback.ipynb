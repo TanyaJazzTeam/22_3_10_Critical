{
  "cells": [
    {
      "cell_type": "markdown",
      "metadata": {
      },
      "source": [
        "# Contragolpe de fase\n",
        "\n",
        "En esta página, cubriremos un comportamiento de puertas cuánticas controladas conocido como \"retroceso de fase\". Este interesante efecto cuántico es un bloque de construcción en muchos algoritmos cuánticos famosos, incluido el algoritmo de factorización de Shor y el algoritmo de búsqueda de Grover."
      ]
    },
    {
      "cell_type": "markdown",
      "metadata": {
        "formulas": {
          "_control-qubit-post": {
            "meaning": "This is the state of the control qubit after the controlled gate."
          },
          "_control-qubit-pre": {
            "meaning": "This is the control qubit. This qubit is in a superposition of |0〉 and |1〉."
          },
          "_eig-val-A": {
            "meaning": "This is a complex number, which we call the <i>eigenvalue</i>."
          },
          "_eig-val-U": {
            "meaning": "This is a complex number with magnitude 1.<br><a href='https://en.wikipedia.org/wiki/Euler%27s_formula'>Read more</a>."
          },
          "_eig-vec-A": {
            "meaning": "This is a vector. In this case, this vector is an <i>eigenvector</i> of the matrix 'A'."
          },
          "_eig-vec-U": {
            "meaning": "This is a state vector, and in this case, an eigen<i>state</i> of the matrix 'U', with eigenvalue exp(2πiθ)."
          },
          "_eig-vec-X": {
            "meaning": "This is a state vector, and in this case, an eigen<i>state</i> of the X-gate, with eigenvalue -1."
          },
          "_matrix-A": {
            "meaning": "This letter represents a matrix."
          },
          "_matrix-CU": {
            "meaning": "This is the operation U, controlled by another qubit."
          },
          "_matrix-CX": {
            "meaning": "This the controlled-X (CNOT) gate."
          },
          "_matrix-U": {
            "meaning": "This letter represents a unitary matrix (e.g. a quantum gate)."
          }
        }
      },
      "source": [
        "## vectores propios\n",
        "\n",
        "Ya debería estar familiarizado con los vectores propios y los valores propios, pero si no, puede leer una buena introducción [aquí](https://www.khanacademy.org/math/linear-algebra/alternate-bases/eigen-everything/v/linear-algebra-introduction-to-eigenvalues-and-eigenvectors) . Si *está* familiarizado, entonces debería reconocer la ecuación del vector propio:\n",
        "\n",
        "$$ \\class{_matrix-A}{A}\\class{_eig-vec-A}{|x\\rangle} = \\class{_eig-val-A}{\\lambda}\\class{_eig-vec-A} {|x\\rango} $$\n",
        "\n",
        "Esto es aún más simple en la computación cuántica. Dado que todos nuestros vectores de estado tienen una magnitud de 1, nuestros valores propios también deben tener una magnitud de 1, es decir, $\\lambda = e^{2\\pi i \\theta}$. Entonces, para una puerta cuántica $U$ y su estado propio $|x\\rangle$, tenemos:\n",
        "\n",
        "$$ \\class{_matrix-U}{U}\\class{_eig-vec-U}{|x\\rangle} = \\class{_eig-val-U}{e^{2\\pi i \\theta}}\\ clase{_eig-vec-U}{|x\\rangle} $$\n",
        "\n",
        "Para resumir: si una puerta rota (y solo rota) todas las amplitudes de un vector de estado en la misma cantidad, entonces ese estado es un *estado* propio de esa puerta.\n",
        "\n",
        "<!-- ::: q-block -->\n",
        "\n",
        "### Explorando vectores propios\n",
        "\n",
        "Use el widget a continuación para ver cómo una puerta de un solo qubit transforma un estado de un solo qubit. ¿Puedes averiguar qué estados son estados propios de qué compuertas?\n",
        "\n",
        "```\n",
        "q-eigenvector-widget\n",
        "```\n",
        "\n",
        "<!-- ::: -->"
      ]
    },
    {
      "cell_type": "markdown",
      "metadata": {
      },
      "source": [
        "## Puertas controladas y estados propios\n",
        "\n",
        "Una vez que se sienta cómodo con el concepto de estados propios, podemos comenzar a pensar en lo que sucede cuando controlamos estos circuitos en el estado de otro qubit. Por ejemplo, sabemos que la puerta Z que actúa sobre el estado $|1\\rangle$ introduce una fase global negativa ($\\theta = 0.5$), averigüemos qué sucede cuando controlamos esta operación.\n",
        "\n",
        "<!-- ::: q-block.tabs -->\n",
        "\n",
        "### La puerta Z controlada\n",
        "\n",
        "<!-- ::: tab -->\n",
        "\n",
        "### |10〉\n",
        "\n",
        "<!-- ::: column(width=200) -->\n",
        "\n",
        "Si el qubit de control es $|0\\rangle$, entonces el comportamiento es trivial; no pasa nada.\n",
        "\n",
        "<!-- ::: column(width=400) -->\n",
        "\n",
        "![diagrama de circuito que muestra un registro de dos qubits en el estado 01, accionado por una puerta CZ. El estado no cambia](images/kickback/tabs/0/0.svg)\n",
        "\n",
        "<!-- ::: -->\n",
        "\n",
        "<!-- ::: tab -->\n",
        "\n",
        "### |11〉\n",
        "\n",
        "<!-- ::: column(width=200) -->\n",
        "\n",
        "Si el qubit de control es $|1\\rangle$, la puerta introduce una fase global (observe el signo menos en la imagen de la derecha), pero los estados del qubit no cambian.\n",
        "\n",
        "<!-- ::: column(width=400) -->\n",
        "\n",
        "![diagrama de circuito que muestra un registro de dos qubits en el estado 01, accionado por una puerta CZ. El estado no cambia](images/kickback/tabs/0/1.svg)\n",
        "\n",
        "<!-- ::: -->\n",
        "\n",
        "<!-- ::: tab -->\n",
        "\n",
        "### |1+〉\n",
        "\n",
        "<!-- ::: column(width=200) -->\n",
        "\n",
        "La puerta Z controlada no hace nada cuando el control es $|0\\rangle$, e introduce una fase negativa cuando el control es $|1\\rangle$. Cuando el qubit de control está en superposición, la puerta cambia la fase *relativa* entre los estados $|0\\rangle$ y $|1\\rangle$ del qubit de control.\n",
        "\n",
        "<!-- ::: column(width=400) -->\n",
        "\n",
        "![diagrama de circuito que muestra un registro de dos qubits en el estado 01, accionado por una puerta CZ. El estado no cambia](images/kickback/tabs/0/2.svg)\n",
        "\n",
        "<!-- ::: -->\n",
        "\n",
        "<!-- ::: -->\n",
        "\n",
        "<!-- ::: -->\n",
        "\n",
        "Cuando el control es $|{+}\\rangle$, y el objetivo es $|1\\rangle$, la puerta Z controlada cambia el estado del qubit de *control* , pero deja el qubit de destino sin cambios. Este efecto se denomina \"retroceso de fase\", ya que el valor propio regresa al estado del qubit de control."
      ]
    },
    {
      "cell_type": "markdown",
      "metadata": {
      },
      "source": [
        "En términos más generales, si tenemos una puerta cuántica $U$ y su estado propio $|x\\rangle$, entonces $U$ actuando sobre $|x\\rangle$ agregará una fase global $\\theta$ como vimos anteriormente.\n",
        "\n",
        "$$ \\class{_matrix-U}{U}\\class{_eig-vec-U}{|x\\rangle} = \\class{_eig-val-U}{e^{2\\pi i \\theta}}\\ clase{_eig-vec-U}{|x\\rangle} $$\n",
        "\n",
        "Si controlamos la operación $U|x\\rangle$ por otro qubit en una superposición de $|0\\rangle$ y $|1\\rangle$, entonces esto tendrá el efecto de rotar el qubit de control alrededor del eje Z por ángulo $\\theta$. Es decir:\n",
        "\n",
        "$$ \\class{_matrix-CU}{CU}\\class{_eig-vec-U}{|x\\rangle}\\class{_control-qubit-pre}{(\\alpha|0\\rangle + \\beta|1\\ rangle)} = \\class{_eig-vec-U}{|x\\rangle}\\class{_control-qubit-post}{(\\alpha|0\\rangle + \\beta e^{2\\pi i \\theta}| 1\\ángulo)} $$"
      ]
    },
    {
      "cell_type": "markdown",
      "metadata": {
      },
      "source": [
        "En el ejemplo anterior, vemos que el 'control' de la puerta Z controlada en realidad está haciendo una rotación Z; algo que solo debería haber estado observando el qubit en realidad lo ha cambiado. Por esta razón, a menudo verá la puerta Z controlada dibujada como dos controles."
      ]
    },
    {
      "cell_type": "code",
      "execution_count": 1,
      "metadata": {
      },
      "outputs": [
        {
          "data": {
            "image/svg+xml": [
              "<?xml version=\"1.0\" encoding=\"UTF-8\"?><!DOCTYPE svg  PUBLIC '-//W3C//DTD SVG 1.1//EN'  'http://www.w3.org/Graphics/SVG/1.1/DTD/svg11.dtd'><svg width=\"125.12pt\" height=\"123.48pt\" version=\"1.1\" viewBox=\"0 0 125.12 123.48\" xmlns=\"http://www.w3.org/2000/svg\" xmlns:xlink=\"http://www.w3.org/1999/xlink\"><defs><style type=\"text/css\">*{stroke-linejoin: round; stroke-linecap: butt}</style></defs><path d=\"m0 123.48h125.12v-123.48h-125.12z\" fill=\"#ffffff\"/><path d=\"m63.381 43.561h49.996\" clip-path=\"url(#pb03c8b0eb8)\" fill=\"none\" stroke=\"#000000\" stroke-linecap=\"square\" stroke-width=\"2\"/><path d=\"m63.381 89.012h49.996\" clip-path=\"url(#pb03c8b0eb8)\" fill=\"none\" stroke=\"#000000\" stroke-linecap=\"square\" stroke-width=\"2\"/><path d=\"m87.925 89.012v-45.451\" clip-path=\"url(#pb03c8b0eb8)\" fill=\"none\" stroke=\"#1192e8\" stroke-linecap=\"square\" stroke-width=\"2\"/><path d=\"m87.925 89.012v-45.451\" clip-path=\"url(#pb03c8b0eb8)\" fill=\"none\" stroke=\"#1192e8\" stroke-linecap=\"square\" stroke-width=\"2\"/><path d=\"m87.925 47.992c1.1752 0 2.3025-0.46693 3.1335-1.2979 0.83102-0.83102 1.2979-1.9583 1.2979-3.1335 0-1.1752-0.46693-2.3025-1.2979-3.1335-0.83102-0.83102-1.9583-1.2979-3.1335-1.2979s-2.3025 0.46693-3.1335 1.2979c-0.83102 0.83102-1.2979 1.9583-1.2979 3.1335 0 1.1752 0.46693 2.3025 1.2979 3.1335 0.83102 0.83102 1.9583 1.2979 3.1335 1.2979z\" clip-path=\"url(#pb03c8b0eb8)\" fill=\"#1192e8\" stroke=\"#1192e8\" stroke-width=\"1.5\"/><path d=\"m87.925 93.443c1.1752 0 2.3025-0.46693 3.1335-1.2979 0.83102-0.83102 1.2979-1.9583 1.2979-3.1335s-0.46693-2.3025-1.2979-3.1335c-0.83102-0.83102-1.9583-1.2979-3.1335-1.2979s-2.3025 0.46693-3.1335 1.2979c-0.83102 0.83102-1.2979 1.9583-1.2979 3.1335s0.46693 2.3025 1.2979 3.1335c0.83102 0.83102 1.9583 1.2979 3.1335 1.2979z\" clip-path=\"url(#pb03c8b0eb8)\" fill=\"#1192e8\" stroke=\"#1192e8\" stroke-width=\"1.5\"/><g clip-path=\"url(#pb03c8b0eb8)\"><g transform=\"translate(36.253 47.786) scale(.1625 -.1625)\"><defs><path id=\"DejaVuSans-Oblique-71\" transform=\"scale(.015625)\" d=\"m2669 525q-231-303-546-460-314-156-695-156-531 0-833 358-301 358-301 986 0 506 186 978t533 847q225 244 517 375t614 131q387 0 637-153t363-462l100 525h578l-934-4813h-579l360 1844zm-1778 813q0-463 193-705 194-242 560-242 544 0 928 520t384 1264q0 450-199 689-198 239-569 239-272 0-504-127-231-126-403-370-181-256-286-600-104-343-104-668z\"/><path id=\"DejaVuSans-30\" transform=\"scale(.015625)\" d=\"m2034 4250q-487 0-733-480-245-479-245-1442 0-959 245-1439 246-480 733-480 491 0 736 480 246 480 246 1439 0 963-246 1442-245 480-736 480zm0 500q785 0 1199-621 414-620 414-1801 0-1178-414-1799-414-620-1199-620-784 0-1198 620-414 621-414 1799 0 1181 414 1801 414 621 1198 621z\"/></defs><use xlink:href=\"#DejaVuSans-Oblique-71\"/><use transform=\"translate(63.477 -16.406) scale(.7)\" xlink:href=\"#DejaVuSans-30\"/></g></g><g clip-path=\"url(#pb03c8b0eb8)\"><g transform=\"translate(36.253 93.237) scale(.1625 -.1625)\"><defs><path id=\"DejaVuSans-31\" transform=\"scale(.015625)\" d=\"m794 531h1031v3560l-1122-225v575l1116 225h631v-4135h1031v-531h-2687v531z\"/></defs><use xlink:href=\"#DejaVuSans-Oblique-71\"/><use transform=\"translate(63.477 -16.406) scale(.7)\" xlink:href=\"#DejaVuSans-31\"/></g></g><defs><clipPath id=\"pb03c8b0eb8\"><rect x=\"7.2\" y=\"7.2\" width=\"110.72\" height=\"109.08\"/></clipPath></defs></svg>"
            ],
            "text/plain": [
              "<Figure size 146.652x144.48 with 1 Axes>"
            ]
          },
          "execution_count": 1,
          "metadata": {
          },
          "output_type": "execute_result"
        }
      ],
      "source": [
        "from qiskit import QuantumCircuit\n",
        "qc = QuantumCircuit(2)\n",
        "qc.cz(0,1)\n",
        "qc.draw()"
      ]
    },
    {
      "cell_type": "markdown",
      "metadata": {
      },
      "source": [
        "## La puerta del CNOT\n",
        "\n",
        "Veamos el efecto de contragolpe de fase con una puerta diferente de dos qubits. Dado que el estado $|{-}\\rangle$ es un estado propio de la puerta X, con valor propio $-1$, obtenemos:\n",
        "\n",
        "$$ \\class{_matrix-CX}{CX}\\class{_eig-vec-X}{|{-}\\rangle}\\class{_control-qubit-pre}{(\\alpha|0\\rangle + \\beta| 1\\rangle)} = \\class{_eig-vec-X}{|{-}\\rangle}\\class{_control-qubit-post}{(\\alpha|0\\rangle - \\beta |1\\rangle)} $ ps\n",
        "\n",
        "![](images/kickback/cnot-kickback.svg)\n",
        "\n",
        "Nuevamente, en este caso el cambio de fase $\\theta = 0.5$, por lo que nuestro qubit de control se voltea alrededor del eje Z.\n",
        "\n",
        "<!-- ::: q-block -->\n",
        "\n",
        "### ejemplo resuelto\n",
        "\n",
        "<summary>Contragolpe con la puerta CNOT (haga clic para ampliar)</summary>\n",
        "\n",
        "```\n",
        "q-carousel\n",
        "        div.md\n",
        "            <img src=\"images/kickback/carousel/cnot/carousel-img-0.svg\"><br>By definition, the controlled-X gate (CNOT) flips the state of the target qubit (in our example, the rightmost bit is the target) if the control qubit is $|1\\rangle$. In the image above, we show the CNOT gate transforming one state vector to another.\n",
        "        div.md\n",
        "            <img src=\"images/kickback/carousel/cnot/carousel-img-1.svg\"><br>For example, if the control qubit is in the state $|0\\rangle$, then we always get the exact same statevector back. In the image above, the amplitudes of the states where the control is $|1\\rangle$ are both zero, so we see no effect when we swap them.\n",
        "        div.md\n",
        "            <img src=\"images/kickback/carousel/cnot/carousel-img-2.svg\"><br>Another example: If the control qubit is in the state $|1\\rangle$, then we do an X-gate on the target qubit. In this case, the target qubit is in an eigenstate of the X-gate, so we get the same statevector back, up to global phase. This change is a global phase, since the relative phase between the $|0\\rangle$ and $|1\\rangle$ amplitudes of the target qubit stayed the same.\n",
        "        div.md\n",
        "            <img src=\"images/kickback/carousel/cnot/carousel-img-3.svg\"><br>Let us look at the state vector when the control is in the state $|{+}\\rangle$ (i.e. $\\tfrac{1}{\\sqrt{2}}(|0\\rangle + |1\\rangle)$), and the target in the state $|{-}\\rangle$ (i.e. $\\tfrac{1}{\\sqrt{2}}(|0\\rangle - |1\\rangle)$). We can see these two qubits are separable, as measuring one does not affect the state of the other.\n",
        "        div.md\n",
        "            <img src=\"images/kickback/carousel/cnot/carousel-img-4.svg\"><br> For example, regardless of whether we measure the control qubit as $|0\\rangle$ or $|1\\rangle$, the amplitudes for measuring the target as $|0\\rangle$ or $|1\\rangle$ stay the same.\n",
        "        div.md\n",
        "            <img src=\"images/kickback/carousel/cnot/carousel-img-5.svg\"><br>With all this in mind, let's see what happens when we apply the CNOT to this $|{+}{-}\\rangle$ state.\n",
        "        div.md\n",
        "            <img src=\"images/kickback/carousel/cnot/carousel-img-6.svg\"><br>After the CNOT, these qubits are still separable, as the state of one does not change when we measure the other. However, the relative phase between the $|0\\rangle$ and $|1\\rangle$ amplitudes of the control qubit has changed!\n",
        "```\n",
        "\n",
        "\n",
        "\n",
        "\n",
        "<!-- ::: -->\n",
        "\n",
        "Cuando recordamos que la puerta H hace la transformación $|0\\rangle \\rightarrow |{+}\\rangle$ y $|1\\rangle \\rightarrow |{-}\\rangle$ (y viceversa), obtenemos lo siguiente identidad:\n",
        "\n",
        "![](images/kickback/cnot-identity.svg)"
      ]
    },
    {
      "cell_type": "markdown",
      "metadata": {
      },
      "source": [
        "## el problema de Deutsch\n",
        "\n",
        "Acabamos de ver que condicionar una acción en el estado de un qubit en realidad puede cambiar el estado del qubit de control. Este es un efecto 'cuántico', es decir, algo que no vemos que suceda con los bits clásicos.\n",
        "\n",
        "En la computación cuántica, queremos crear algoritmos que las computadoras clásicas *no puedan* ejecutar, por lo que un buen lugar para comenzar es tratar de replantear este efecto como un problema a resolver. De esta manera, podemos probar que las computadoras cuánticas son al menos un poco mejores en algo que las computadoras clásicas.\n",
        "\n",
        "El problema de Deutsch hace exactamente esto. el de Deutsch es un problema de \"caja negra\"; un problema artificial en el que se nos permite aplicar una función a nuestros bits, pero no podemos ver cómo funciona la función. El desafío es descubrir algunas propiedades de la caja probando diferentes entradas y salidas.\n",
        "\n",
        "El problema de Deutsch es el siguiente: tenemos una función reversible clásica (a la que llamaremos $f$ de forma abreviada), que actúa sobre dos bits, $a $ &amp; $b $. La función dejará el bit $ a $ solo, pero puede o no cambiar el bit $ b $. El problema de Deutsch nos pide que averigüemos si $f$ se comporta de manera diferente dependiendo del valor de $ a $ (lo llamaremos comportamiento \"equilibrado\"), o si ignora $ a $ y siempre hace lo mismo con $ b $ (comportamiento \"constante\"). El desafío es hacer esto aplicando $f$ la menor cantidad de veces posible.\n",
        "\n",
        "![Imagen del problema de deutsch como un circuito cuántico. El circuito tiene dos bits, los cables superior e inferior etiquetados como 'a' y 'b' respectivamente. Luego, ambos bits son activados por una puerta opaca de dos bits etiquetada como 'f'. Después de 'f', el cable superior todavía tiene la etiqueta 'f', pero el cable inferior ahora tiene la etiqueta 'f (a, b)'.](images/kickback/deutsch-problem.svg)\n",
        "\n",
        "El mejor algoritmo clásico para este problema aplica $f$ dos veces con diferentes valores de $ a $, luego observa si $f$ se comportó de manera diferente."
      ]
    },
    {
      "cell_type": "markdown",
      "metadata": {
      },
      "source": [
        "## algoritmo de Deutsch\n",
        "\n",
        "Como habrás adivinado, podemos usar el retroceso de fase para crear un algoritmo cuántico que funciona incluso mejor que el algoritmo clásico. Si ponemos qubit $ a $ en el estado $|{+}\\rangle$ y qubit $ b $ en el estado $|{-}\\rangle$, entonces cualquier cambio condicionado a $ a $ devolverá un relativo negativo fase, volteando qubit $ a $ de $|{+}\\rangle$ a $|{-}\\rangle$. Luego podemos aplicar una compuerta H a $ a $ para ver si se produjo un contragolpe o no.\n",
        "\n",
        "![Imagen del algoritmo de deutsch como circuito cuántico.](images/kickback/deutsch-algorithm.svg)\n",
        "\n",
        "<!-- ::: q-block.reminder -->\n",
        "\n",
        "### Más información\n",
        "\n",
        "\n",
        "<summary>Dentro de la caja negra (haga clic para ampliar)</summary> Si esto todavía parece mágico, puede ayudar pensar en todas las posibles funciones de Deutsch y los circuitos cuánticos que las implementan. Hay cuatro posibles funciones de Deutsch: dos constantes y dos balanceadas.\n",
        "\n",
        "Si es constante, la función puede no hacer nada o voltear qubit $ b $. Si está balanceada, la función puede voltear $ b $ solo cuando $ a $ es $|1\\rangle$, o voltear $ b $ solo cuando $ a $ es $|0\\rangle$. Puede ver los cuatro escenarios en la imagen a continuación.\n",
        "\n",
        "<img src=\"images/kickback/deutsch-oracles.svg\">\n",
        "\n",
        "Con ambas funciones constantes, el qubit superior permanecerá sin cambios (ya que no le estamos haciendo nada), y en las funciones equilibradas, el efecto de retroceso cambia el qubit superior de $|{+}\\rangle$ a $|{- }\\ángulo$.\n",
        "\n",
        "\n",
        "\n",
        "\n",
        "<!-- ::: -->\n",
        "\n",
        "Este no es el ejemplo más impresionante de aceleración cuántica; es muy específico y no encontramos problemas de caja negra en la naturaleza. En cambio, el problema de Deutsch nos da un resultado alentador y algunos efectos interesantes para explorar. En el resto de este curso, ampliaremos este sencillo experimento para resolver problemas aún más impresionantes, incluida la factorización."
      ]
    },
    {
      "cell_type": "markdown",
      "metadata": {
      },
      "source": [
        "<!-- ::: q-block.exercise -->\n",
        "\n",
        "### Ejercicio\n",
        "\n",
        "Haz una función, `deutsch()` que tome una función Deutsch como `QuantumCircuit` y use el algoritmo Deutsch para resolverlo en un simulador cuántico. Su función debería devolver `True` si la función Deutsch está equilibrada y `False` si es constante.\n",
        "\n",
        "Puede usar la función `deutsch_problem()` para crear un `QuantumCircuit` que puede usar como entrada para su función `deutsch()` .\n",
        "\n",
        "<!-- ::: -->"
      ]
    },
    {
      "cell_type": "code",
      "execution_count": null,
      "metadata": {
      },
      "outputs": [

      ],
      "source": [
        "from qiskit import QuantumCircuit\n",
        "import numpy as np\n",
        "\n",
        "def deutsch_problem(seed=None):\n",
        "    \"\"\"Returns a circuit that carries out the function\n",
        "    from Deutsch's problem.\n",
        "    Args:\n",
        "        seed (int): If set, then returned circuit will\n",
        "            always be the same for the same seed.\n",
        "    Returns: QuantumCircuit\n",
        "    \"\"\"\n",
        "    np.random.seed(seed)\n",
        "    problem = QuantumCircuit(2)\n",
        "    if np.random.randint(2):\n",
        "        print(\"Function is balanced.\")\n",
        "        problem.cx(0, 1)\n",
        "    else:\n",
        "        print(\"Function is constant.\")\n",
        "    if np.random.randint(2):\n",
        "        problem.x(1)\n",
        "    return problem"
      ]
    },
    {
      "cell_type": "code",
      "execution_count": null,
      "metadata": {
      },
      "outputs": [

      ],
      "source": [
        "def deutsch(function):\n",
        "    \"\"\"Implements Deutsch's algorithm.\n",
        "\n",
        "    Args:\n",
        "        function (QuantumCircuit): Deutsch function to solve.\n",
        "            Must be a 2-qubit circuit, and either balanced,\n",
        "            or constant.\n",
        "    Returns:\n",
        "        bool: True if the circuit is balanced, otherwise False.\n",
        "    \"\"\"\n",
        "\n",
        "    # your code here"
      ]
    },
    {
      "cell_type": "markdown",
      "metadata": {
      },
      "source": [
        "## Resumen\n",
        "\n",
        "En esta página tenemos:\n",
        "\n",
        "- recapituló el concepto de valores propios y vectores propios\n",
        "- exploró el efecto de contragolpe de fase y cubrió algunos ejemplos específicos\n",
        "- introdujo el problema de Deutsch como un escenario donde las computadoras cuánticas tienen una ventaja sobre las computadoras clásicas\n",
        "\n",
        "Si olvida todo lo demás de esta página, lo más importante que debe recordar y sentirse cómodo es este resumen de la fase de contragolpe a continuación:\n",
        "\n",
        "<!-- ::: q-block.reminder -->\n",
        "\n",
        "### Recordatorio: contragolpe de fase\n",
        "\n",
        "Si tenemos una puerta cuántica $U$ y su estado propio $|x\\rangle$, entonces $U$ actuando sobre $|x\\rangle$ agregará una fase global $\\theta$. Es decir:\n",
        "\n",
        "$$ \\class{_matrix-U}{U}\\class{_eig-vec-U}{|x\\rangle} = \\class{_eig-val-U}{e^{2\\pi i \\theta}}\\ clase{_eig-vec-U}{|x\\rangle} $$\n",
        "\n",
        "Si controlamos la operación $U|x\\rangle$ por otro qubit en una superposición de $|0\\rangle$ y $|1\\rangle$, entonces esto tendrá el efecto de rotar el qubit de control alrededor del eje Z por ángulo $\\theta$. Es decir:\n",
        "\n",
        "$$ \\class{_matrix-CU}{CU}\\class{_eig-vec-U}{|x\\rangle}\\class{_control-qubit-pre}{(\\alpha|0\\rangle + \\beta|1\\ rangle)} = \\class{_eig-vec-U}{|x\\rangle}\\class{_control-qubit-post}{(\\alpha|0\\rangle + \\beta e^{2\\pi i \\theta}| 1\\ángulo)} $$\n",
        "\n",
        "<!-- ::: -->"
      ]
    }
  ],
  "metadata": {
    "kernelspec": {
      "display_name": "Python 3",
      "language": "python",
      "name": "python3"
    },
    "language_info": {
      "codemirror_mode": {
        "name": "ipython",
        "version": 3
      },
      "file_extension": ".py",
      "mimetype": "text/x-python",
      "name": "python",
      "nbconvert_exporter": "python",
      "pygments_lexer": "ipython3",
      "version": "3.9"
    }
  },
  "nbformat": 4,
  "nbformat_minor": 4
}
